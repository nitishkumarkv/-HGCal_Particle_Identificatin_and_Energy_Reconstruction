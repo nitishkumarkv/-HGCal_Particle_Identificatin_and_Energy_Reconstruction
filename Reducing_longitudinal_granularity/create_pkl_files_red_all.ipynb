{
 "cells": [
  {
   "cell_type": "code",
   "execution_count": 2,
   "id": "b1ac2f98",
   "metadata": {},
   "outputs": [],
   "source": [
    "import uproot\n",
    "import pandas as pd\n",
    "import numpy as np\n",
    "import matplotlib.pyplot as plt\n",
    "import time\n",
    "%matplotlib inline\n",
    "import ROOT\n",
    "%jsroot on"
   ]
  },
  {
   "cell_type": "code",
   "execution_count": 3,
   "id": "5c84742a",
   "metadata": {},
   "outputs": [],
   "source": [
    "def new_rechits_all(df_):\n",
    "    \n",
    "    rechit_x = []\n",
    "    rechit_y = []\n",
    "    rechit_z = []\n",
    "    rechit_ene = []\n",
    "    \n",
    "    \n",
    "    rec_lay = df_.comb_rechit_z_trimAhcal\n",
    "    \n",
    "    sec_list = [0, 54, 154, 50000]\n",
    "    lay_z_list = [13.87749958, 64.61849976, 166.92]\n",
    "    \n",
    "    for sec_z in range(3):\n",
    "    \n",
    "        rec_x = df_.comb_rechit_x_trimAhcal[np.logical_and(rec_lay<sec_list[sec_z+1], rec_lay>sec_list[sec_z])]\n",
    "        rec_y = df_.comb_rechit_y_trimAhcal[np.logical_and(rec_lay<sec_list[sec_z+1], rec_lay>sec_list[sec_z])]\n",
    "        rec_z = df_.comb_rechit_z_trimAhcal[np.logical_and(rec_lay<sec_list[sec_z+1], rec_lay>sec_list[sec_z])]\n",
    "        rec_ene = df_.rechitEn_trimAhcal[np.logical_and(rec_lay<sec_list[sec_z+1], rec_lay>sec_list[sec_z])]\n",
    "\n",
    "        new_cell_idxs = []\n",
    "        new_rechit_x = []\n",
    "        new_rechit_y = []\n",
    "        new_rechit_z = []\n",
    "        new_rechit_ene = []\n",
    "\n",
    "        for rec_i in range(rec_x.size):\n",
    "\n",
    "\n",
    "                cell_idx = np.array([rec_x[rec_i], rec_y[rec_i]]).tolist()\n",
    "\n",
    "\n",
    "                if cell_idx not in new_cell_idxs:\n",
    "\n",
    "                    new_cell_idxs.append(cell_idx)\n",
    "\n",
    "                    new_rechit_x.append(rec_x[rec_i])\n",
    "                    new_rechit_y.append(rec_y[rec_i])\n",
    "                    new_rechit_z.append(lay_z_list[sec_z])\n",
    "                    new_rechit_ene.append(rec_ene[rec_i])\n",
    "\n",
    "                else: new_rechit_ene[new_cell_idxs.index(cell_idx)] += rec_ene[rec_i]\n",
    "\n",
    "        rechit_x += new_rechit_x\n",
    "        rechit_y += new_rechit_y\n",
    "        rechit_z += new_rechit_z\n",
    "        rechit_ene += new_rechit_ene\n",
    "        \n",
    "        new_cell_idxs = []\n",
    "        new_rechit_x = []\n",
    "        new_rechit_y = []\n",
    "        new_rechit_z = []\n",
    "        new_rechit_ene = []\n",
    "        \n",
    "    \n",
    "    return [np.array(rechit_x), np.array(rechit_y), np.array(rechit_z), np.array(rechit_ene)]"
   ]
  },
  {
   "cell_type": "code",
   "execution_count": 4,
   "id": "b83fbc7a",
   "metadata": {},
   "outputs": [],
   "source": [
    "data = uproot.open(\"/eos/user/n/nkasarag/NSM_5M_TB_HGCAL_flat_pion_samples/skimmed_ntuple_sim_config22_pions_0to1M_combinedHgc_Ahc_v46.root\")\n",
    "\n",
    "lst = [ 'rechitEn_trimAhcal',\n",
    " 'comb_rechit_x_trimAhcal',\n",
    " 'comb_rechit_y_trimAhcal',\n",
    " 'comb_rechit_z_trimAhcal',\n",
    "      'trueBeamEnergy']"
   ]
  },
  {
   "cell_type": "code",
   "execution_count": 5,
   "id": "cbfbaccb",
   "metadata": {},
   "outputs": [
    {
     "name": "stdout",
     "output_type": "stream",
     "text": [
      "836658\n"
     ]
    },
    {
     "data": {
      "text/plain": [
       "[0, 100000, 200000, 300000, 400000, 500000, 600000, 700000, 836658]"
      ]
     },
     "execution_count": 5,
     "metadata": {},
     "output_type": "execute_result"
    }
   ],
   "source": [
    "num_events = data[\"pion_variables_v1\"].pandas.df(\"trueBeamEnergy\", flatten=False).trueBeamEnergy.size\n",
    "print(num_events)\n",
    "\n",
    "\n",
    "#event_lst = [0, 100000, 200000, 300000, 400000, num_events]\n",
    "event_lst = [0, 100000, 200000, 300000, 400000, 500000, 600000, 700000, num_events]\n",
    "event_lst"
   ]
  },
  {
   "cell_type": "code",
   "execution_count": 6,
   "id": "ca22bd5b",
   "metadata": {},
   "outputs": [
    {
     "name": "stdout",
     "output_type": "stream",
     "text": [
      "1 -> mins =  7.662431414922079\n",
      "2 -> mins =  8.190013953049977\n",
      "3 -> mins =  8.060208650430043\n",
      "4 -> mins =  8.17973381280899\n",
      "5 -> mins =  8.229057522614797\n",
      "6 -> mins =  8.903923821449279\n",
      "7 -> mins =  7.798522901535034\n",
      "8 -> mins =  10.536964591344198\n"
     ]
    },
    {
     "ename": "IndexError",
     "evalue": "list index out of range",
     "output_type": "error",
     "traceback": [
      "\u001b[0;31m---------------------------------------------------------------------------\u001b[0m",
      "\u001b[0;31mIndexError\u001b[0m                                Traceback (most recent call last)",
      "\u001b[0;32m<ipython-input-6-2e8411f61281>\u001b[0m in \u001b[0;36m<module>\u001b[0;34m\u001b[0m\n\u001b[1;32m      3\u001b[0m     \u001b[0mtime1\u001b[0m \u001b[0;34m=\u001b[0m \u001b[0mtime\u001b[0m\u001b[0;34m.\u001b[0m\u001b[0mtime\u001b[0m\u001b[0;34m(\u001b[0m\u001b[0;34m)\u001b[0m\u001b[0;34m\u001b[0m\u001b[0;34m\u001b[0m\u001b[0m\n\u001b[1;32m      4\u001b[0m \u001b[0;34m\u001b[0m\u001b[0m\n\u001b[0;32m----> 5\u001b[0;31m     \u001b[0mdf\u001b[0m \u001b[0;34m=\u001b[0m \u001b[0mdata\u001b[0m\u001b[0;34m[\u001b[0m\u001b[0;34m\"pion_variables_v1\"\u001b[0m\u001b[0;34m]\u001b[0m\u001b[0;34m.\u001b[0m\u001b[0mpandas\u001b[0m\u001b[0;34m.\u001b[0m\u001b[0mdf\u001b[0m\u001b[0;34m(\u001b[0m\u001b[0mlst\u001b[0m\u001b[0;34m,\u001b[0m \u001b[0mflatten\u001b[0m\u001b[0;34m=\u001b[0m\u001b[0;32mFalse\u001b[0m\u001b[0;34m,\u001b[0m \u001b[0mentrystart\u001b[0m\u001b[0;34m=\u001b[0m\u001b[0mevent_lst\u001b[0m\u001b[0;34m[\u001b[0m\u001b[0mi\u001b[0m\u001b[0;34m]\u001b[0m\u001b[0;34m,\u001b[0m \u001b[0mentrystop\u001b[0m\u001b[0;34m=\u001b[0m\u001b[0mevent_lst\u001b[0m\u001b[0;34m[\u001b[0m\u001b[0mi\u001b[0m\u001b[0;34m+\u001b[0m\u001b[0;36m1\u001b[0m\u001b[0;34m]\u001b[0m\u001b[0;34m)\u001b[0m\u001b[0;34m\u001b[0m\u001b[0;34m\u001b[0m\u001b[0m\n\u001b[0m\u001b[1;32m      6\u001b[0m     \u001b[0mdf\u001b[0m\u001b[0;34m.\u001b[0m\u001b[0mreset_index\u001b[0m\u001b[0;34m(\u001b[0m\u001b[0minplace\u001b[0m\u001b[0;34m=\u001b[0m\u001b[0;32mTrue\u001b[0m\u001b[0;34m)\u001b[0m\u001b[0;34m\u001b[0m\u001b[0;34m\u001b[0m\u001b[0m\n\u001b[1;32m      7\u001b[0m \u001b[0;34m\u001b[0m\u001b[0m\n",
      "\u001b[0;31mIndexError\u001b[0m: list index out of range"
     ]
    }
   ],
   "source": [
    "for i in range(9):\n",
    "    \n",
    "    time1 = time.time()\n",
    "    \n",
    "    df = data[\"pion_variables_v1\"].pandas.df(lst, flatten=False, entrystart=event_lst[i], entrystop=event_lst[i+1])\n",
    "    df.reset_index(inplace=True)\n",
    "    \n",
    "    rechits = df.apply(new_rechits_all, axis=1)\n",
    "    new_df = pd.DataFrame(rechits.values.tolist(), columns=[\"reduced_x\", \"reduced_y\", \"reduced_z\", \"reduced_ene\"])\n",
    "\n",
    "    \n",
    "    new_df[\"trueBeamEnergy\"] = df.trueBeamEnergy\n",
    "    \n",
    "    \n",
    "    df_to_save = new_df\n",
    "    \n",
    "    \n",
    "    df_to_save.to_pickle(\"pkl_files/red_all/event_%sto%s_0to1M.pickle\"%(str(event_lst[i]), str(event_lst[i+1])))\n",
    "    \n",
    "    print(i+1, \"-> mins = \", (time.time()-time1)/60)\n"
   ]
  },
  {
   "cell_type": "code",
   "execution_count": null,
   "id": "53045d54",
   "metadata": {},
   "outputs": [],
   "source": []
  },
  {
   "cell_type": "code",
   "execution_count": 6,
   "id": "e70f24cc",
   "metadata": {},
   "outputs": [
    {
     "data": {
      "text/plain": [
       "'/eos/home-i00/n/nkasarag/SWAN_projects/HGCal_Particle_Identificatin_and_Energy_Reconstruction/Reducing_longitudinal_granularity'"
      ]
     },
     "execution_count": 6,
     "metadata": {},
     "output_type": "execute_result"
    }
   ],
   "source": [
    "pwd\n"
   ]
  },
  {
   "cell_type": "code",
   "execution_count": null,
   "id": "15a9249d",
   "metadata": {},
   "outputs": [],
   "source": []
  }
 ],
 "metadata": {
  "kernelspec": {
   "display_name": "Python 3",
   "language": "python",
   "name": "python3"
  },
  "language_info": {
   "codemirror_mode": {
    "name": "ipython",
    "version": 3
   },
   "file_extension": ".py",
   "mimetype": "text/x-python",
   "name": "python",
   "nbconvert_exporter": "python",
   "pygments_lexer": "ipython3",
   "version": "3.7.6"
  }
 },
 "nbformat": 4,
 "nbformat_minor": 5
}

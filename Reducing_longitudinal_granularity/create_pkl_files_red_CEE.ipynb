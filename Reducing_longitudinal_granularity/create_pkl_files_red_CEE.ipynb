{
 "cells": [
  {
   "cell_type": "code",
   "execution_count": 1,
   "id": "b1ac2f98",
   "metadata": {},
   "outputs": [
    {
     "name": "stdout",
     "output_type": "stream",
     "text": [
      "Welcome to JupyROOT 6.22/06\n"
     ]
    }
   ],
   "source": [
    "import uproot\n",
    "import pandas as pd\n",
    "import numpy as np\n",
    "import matplotlib.pyplot as plt\n",
    "import time\n",
    "%matplotlib inline\n",
    "import ROOT\n",
    "%jsroot on"
   ]
  },
  {
   "cell_type": "code",
   "execution_count": 2,
   "id": "5c84742a",
   "metadata": {},
   "outputs": [],
   "source": [
    "def new_rechits_all(df_):\n",
    "    \n",
    "    rechit_x = []\n",
    "    rechit_y = []\n",
    "    rechit_z = []\n",
    "    rechit_ene = []\n",
    "    \n",
    "    \n",
    "    rec_lay = df_.comb_rechit_z_trimAhcal\n",
    "    \n",
    "    rec_x = df_.comb_rechit_x_trimAhcal[rec_lay<55.0]\n",
    "    rec_y = df_.comb_rechit_y_trimAhcal[rec_lay<55.0]\n",
    "    rec_z = df_.comb_rechit_z_trimAhcal[rec_lay<55.0]\n",
    "    rec_ene = df_.rechitEn_trimAhcal[rec_lay<55.0]\n",
    "        \n",
    "    new_cell_idxs = []\n",
    "    new_rechit_x = []\n",
    "    new_rechit_y = []\n",
    "    new_rechit_z = []\n",
    "    new_rechit_ene = []\n",
    "\n",
    "    for rec_i in range(rec_x.size):\n",
    "\n",
    "\n",
    "            cell_idx = np.array([rec_x[rec_i], rec_y[rec_i]]).tolist()\n",
    "\n",
    "\n",
    "            if cell_idx not in new_cell_idxs:\n",
    "\n",
    "                new_cell_idxs.append(cell_idx)\n",
    "\n",
    "                new_rechit_x.append(rec_x[rec_i])\n",
    "                new_rechit_y.append(rec_y[rec_i])\n",
    "                new_rechit_z.append(53.9035)\n",
    "                #new_rechit_z.append(13.8774)\n",
    "                new_rechit_ene.append(rec_ene[rec_i])\n",
    "\n",
    "            else: new_rechit_ene[new_cell_idxs.index(cell_idx)] += rec_ene[rec_i]\n",
    "                \n",
    "    rechit_x += new_rechit_x\n",
    "    rechit_y += new_rechit_y\n",
    "    rechit_z += new_rechit_z\n",
    "    rechit_ene += new_rechit_ene\n",
    "    \n",
    "    \n",
    "    \n",
    "    \n",
    "    \n",
    "    rec_x = df_.comb_rechit_x_trimAhcal[rec_lay>55.0]\n",
    "    rec_y = df_.comb_rechit_y_trimAhcal[rec_lay>55.0]\n",
    "    rec_z = df_.comb_rechit_z_trimAhcal[rec_lay>55.0]\n",
    "    rec_ene = df_.rechitEn_trimAhcal[rec_lay>55.0]\n",
    "        \n",
    "    new_rechit_x = list(rec_x)\n",
    "    new_rechit_y = list(rec_y)\n",
    "    new_rechit_z = list(rec_z)\n",
    "    new_rechit_ene = list(rec_ene)\n",
    "\n",
    "                \n",
    "    rechit_x += new_rechit_x\n",
    "    rechit_y += new_rechit_y\n",
    "    rechit_z += new_rechit_z\n",
    "    rechit_ene += new_rechit_ene\n",
    "        \n",
    "            \n",
    "    \n",
    "    \n",
    "    return [np.array(rechit_x), np.array(rechit_y), np.array(rechit_z), np.array(rechit_ene)]"
   ]
  },
  {
   "cell_type": "code",
   "execution_count": 3,
   "id": "b83fbc7a",
   "metadata": {},
   "outputs": [],
   "source": [
    "data = uproot.open(\"/eos/user/n/nkasarag/NSM_5M_TB_HGCAL_flat_pion_samples/skimmed_ntuple_sim_config22_pions_1to2M_combinedHgc_Ahc_v46.root\")\n",
    "\n",
    "lst = [ 'rechitEn_trimAhcal',\n",
    " 'comb_rechit_x_trimAhcal',\n",
    " 'comb_rechit_y_trimAhcal',\n",
    " 'comb_rechit_z_trimAhcal',\n",
    "      'trueBeamEnergy']"
   ]
  },
  {
   "cell_type": "code",
   "execution_count": 4,
   "id": "cbfbaccb",
   "metadata": {},
   "outputs": [
    {
     "name": "stdout",
     "output_type": "stream",
     "text": [
      "837795\n"
     ]
    },
    {
     "data": {
      "text/plain": [
       "[0, 100000, 200000, 300000, 400000, 500000, 600000, 700000, 837795]"
      ]
     },
     "execution_count": 4,
     "metadata": {},
     "output_type": "execute_result"
    }
   ],
   "source": [
    "num_events = data[\"pion_variables_v1\"].pandas.df(\"trueBeamEnergy\", flatten=False).trueBeamEnergy.size\n",
    "print(num_events)\n",
    "\n",
    "\n",
    "#event_lst = [0, 100000, 200000, 300000, 400000, num_events]\n",
    "event_lst = [0, 100000, 200000, 300000, 400000, 500000, 600000, 700000, num_events]\n",
    "event_lst"
   ]
  },
  {
   "cell_type": "code",
   "execution_count": 5,
   "id": "ca22bd5b",
   "metadata": {},
   "outputs": [
    {
     "name": "stdout",
     "output_type": "stream",
     "text": [
      "1 -> mins =  4.387083947658539\n",
      "2 -> mins =  4.550169630845388\n",
      "3 -> mins =  4.60330129067103\n",
      "4 -> mins =  4.756057953834533\n",
      "5 -> mins =  4.72608996629715\n",
      "6 -> mins =  5.13712652126948\n",
      "7 -> mins =  4.337847582499186\n",
      "8 -> mins =  5.977793137232463\n"
     ]
    },
    {
     "ename": "IndexError",
     "evalue": "list index out of range",
     "output_type": "error",
     "traceback": [
      "\u001b[0;31m---------------------------------------------------------------------------\u001b[0m",
      "\u001b[0;31mIndexError\u001b[0m                                Traceback (most recent call last)",
      "\u001b[0;32m<ipython-input-5-37654c39fc3a>\u001b[0m in \u001b[0;36m<module>\u001b[0;34m\u001b[0m\n\u001b[1;32m      3\u001b[0m     \u001b[0mtime1\u001b[0m \u001b[0;34m=\u001b[0m \u001b[0mtime\u001b[0m\u001b[0;34m.\u001b[0m\u001b[0mtime\u001b[0m\u001b[0;34m(\u001b[0m\u001b[0;34m)\u001b[0m\u001b[0;34m\u001b[0m\u001b[0;34m\u001b[0m\u001b[0m\n\u001b[1;32m      4\u001b[0m \u001b[0;34m\u001b[0m\u001b[0m\n\u001b[0;32m----> 5\u001b[0;31m     \u001b[0mdf\u001b[0m \u001b[0;34m=\u001b[0m \u001b[0mdata\u001b[0m\u001b[0;34m[\u001b[0m\u001b[0;34m\"pion_variables_v1\"\u001b[0m\u001b[0;34m]\u001b[0m\u001b[0;34m.\u001b[0m\u001b[0mpandas\u001b[0m\u001b[0;34m.\u001b[0m\u001b[0mdf\u001b[0m\u001b[0;34m(\u001b[0m\u001b[0mlst\u001b[0m\u001b[0;34m,\u001b[0m \u001b[0mflatten\u001b[0m\u001b[0;34m=\u001b[0m\u001b[0;32mFalse\u001b[0m\u001b[0;34m,\u001b[0m \u001b[0mentrystart\u001b[0m\u001b[0;34m=\u001b[0m\u001b[0mevent_lst\u001b[0m\u001b[0;34m[\u001b[0m\u001b[0mi\u001b[0m\u001b[0;34m]\u001b[0m\u001b[0;34m,\u001b[0m \u001b[0mentrystop\u001b[0m\u001b[0;34m=\u001b[0m\u001b[0mevent_lst\u001b[0m\u001b[0;34m[\u001b[0m\u001b[0mi\u001b[0m\u001b[0;34m+\u001b[0m\u001b[0;36m1\u001b[0m\u001b[0;34m]\u001b[0m\u001b[0;34m)\u001b[0m\u001b[0;34m\u001b[0m\u001b[0;34m\u001b[0m\u001b[0m\n\u001b[0m\u001b[1;32m      6\u001b[0m     \u001b[0mdf\u001b[0m\u001b[0;34m.\u001b[0m\u001b[0mreset_index\u001b[0m\u001b[0;34m(\u001b[0m\u001b[0minplace\u001b[0m\u001b[0;34m=\u001b[0m\u001b[0;32mTrue\u001b[0m\u001b[0;34m)\u001b[0m\u001b[0;34m\u001b[0m\u001b[0;34m\u001b[0m\u001b[0m\n\u001b[1;32m      7\u001b[0m \u001b[0;34m\u001b[0m\u001b[0m\n",
      "\u001b[0;31mIndexError\u001b[0m: list index out of range"
     ]
    }
   ],
   "source": [
    "for i in range(9):\n",
    "    \n",
    "    time1 = time.time()\n",
    "    \n",
    "    df = data[\"pion_variables_v1\"].pandas.df(lst, flatten=False, entrystart=event_lst[i], entrystop=event_lst[i+1])\n",
    "    df.reset_index(inplace=True)\n",
    "    \n",
    "    rechits = df.apply(new_rechits_all, axis=1)\n",
    "    new_df = pd.DataFrame(rechits.values.tolist(), columns=[\"reduced_x\", \"reduced_y\", \"reduced_z\", \"reduced_ene\"])\n",
    "\n",
    "    \n",
    "    new_df[\"trueBeamEnergy\"] = df.trueBeamEnergy\n",
    "    \n",
    "    \n",
    "    df_to_save = new_df\n",
    "    \n",
    "    \n",
    "    df_to_save.to_pickle(\"pkl_files/1to2M/event_%sto%s_1to2M.pickle\"%(str(event_lst[i]), str(event_lst[i+1])))\n",
    "    \n",
    "    print(i+1, \"-> mins = \", (time.time()-time1)/60)\n"
   ]
  },
  {
   "cell_type": "code",
   "execution_count": null,
   "id": "53045d54",
   "metadata": {},
   "outputs": [],
   "source": []
  },
  {
   "cell_type": "code",
   "execution_count": 6,
   "id": "e70f24cc",
   "metadata": {},
   "outputs": [
    {
     "data": {
      "text/plain": [
       "'/eos/home-i00/n/nkasarag/SWAN_projects/HGCal_Particle_Identificatin_and_Energy_Reconstruction/Reducing_longitudinal_granularity'"
      ]
     },
     "execution_count": 6,
     "metadata": {},
     "output_type": "execute_result"
    }
   ],
   "source": [
    "pwd\n"
   ]
  },
  {
   "cell_type": "code",
   "execution_count": null,
   "id": "15a9249d",
   "metadata": {},
   "outputs": [],
   "source": []
  }
 ],
 "metadata": {
  "kernelspec": {
   "display_name": "Python 3",
   "language": "python",
   "name": "python3"
  },
  "language_info": {
   "codemirror_mode": {
    "name": "ipython",
    "version": 3
   },
   "file_extension": ".py",
   "mimetype": "text/x-python",
   "name": "python",
   "nbconvert_exporter": "python",
   "pygments_lexer": "ipython3",
   "version": "3.7.6"
  }
 },
 "nbformat": 4,
 "nbformat_minor": 5
}

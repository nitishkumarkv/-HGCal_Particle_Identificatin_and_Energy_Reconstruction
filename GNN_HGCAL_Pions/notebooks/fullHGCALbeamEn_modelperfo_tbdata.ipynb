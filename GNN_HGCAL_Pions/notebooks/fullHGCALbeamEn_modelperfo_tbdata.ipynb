{
 "cells": [
  {
   "cell_type": "code",
   "execution_count": 6,
   "id": "average-expression",
   "metadata": {},
   "outputs": [
    {
     "name": "stdout",
     "output_type": "stream",
     "text": [
      "Welcome to JupyROOT 6.22/06\n"
     ]
    }
   ],
   "source": [
    "#import the stuff\n",
    "import pandas as pd #dataframes etc\n",
    "import matplotlib.pyplot as plt #plotting\n",
    "import pickle\n",
    "import numpy as np\n",
    "import os, sys\n",
    "import seaborn as sns\n",
    "#training_summary = np.load(\"/eos/user/k/kalpana/SWAN_projects/GNN_Results/FlatEnegrySample_5M/No_semi/constlr1e04_trueE/summaries.npz\")\n",
    "#training_summary1 = np.load(\"/eos/user/k/kalpana/SWAN_projects/GNN_Results/FlatEnegrySample_5M/No_semi/constlr1e04_trueE/summaries_12.npz\")\n",
    "#training_summary2 = np.load(\"/eos/user/k/kalpana/SWAN_projects/GNN_Results/FlatEnegrySample_5M/No_semi/constlr1e04_trueE/summaries_18.npz\")\n",
    "#training_summary3 = np.load(\"/eos/user/k/kalpana/SWAN_projects/GNN_Results/FlatEnegrySample_5M/No_semi/constlr1e04_trueE/summaries_24.npz\")\n",
    "#training_summary4 = np.load(\"/eos/user/k/kalpana/SWAN_projects/GNN_Results/FlatEnegrySample_5M/No_semi/constlr1e04_trueE/summaries_40.npz\")\n",
    "\n",
    "import ROOT\n",
    "%jsroot on\n",
    "\n",
    "#training_summary2 = np.load(\"/eos/user/k/kalpana/SWAN_projects/GNN_Results/FlatEnegrySample_1M/Nosemi/52_Onwards/summaries.npz\")\n"
   ]
  },
  {
   "cell_type": "code",
   "execution_count": 7,
   "id": "emotional-diagram",
   "metadata": {},
   "outputs": [],
   "source": [
    "import pickle\n",
    "import numpy as np\n",
    "\n",
    "folder = \"fullHGCAL_fixwt_trimAhcal_relwtUpd_semiparam_mina_1_ratio_maxlr6e-4_lrSchCyclic_2agg_lay_nsm_new_cp2_rmBadEve\"\n",
    "\n",
    "pred_v2 =\"/eos/user/n/nkasarag/gnn_results/%s/pred_tb.pickle\"%folder\n",
    "with open(pred_v2, \"rb\") as f:\n",
    "    preds_trueEn = np.array(pickle.load(f))\n",
    "#preds_trueEn = np.exp(-preds_trueEn)\n",
    "preds_trueEn = (preds_trueEn<3)*preds_trueEn + (preds_trueEn>3)*3\n",
    "\n",
    "\n",
    "#preds_trueEn = np.load(pred_v2)\n",
    "#rawE = np.load(\"/eos/user/n/nkasarag/gnn_results/0to5M_fixwt_trimAhcal_relwtUpd_semiparam_ratio_maxlr6e-4_lrSchCyclic_2agg_lay_msi_10M/rawE.npy\")\n",
    "rawE = np.load(\"/eos/user/n/nkasarag/gnn_results/fullHGCAL_fixwt_trimAhcal_relwtUpd_semiparam_mina_1_ratio_maxlr6e-4_lrSchCyclic_2agg_lay_nsm/rawE_fullHGCAL.npy\")\n",
    "\n",
    "\n",
    "\n",
    "preds_trueEn = preds_trueEn*rawE\n",
    "\n",
    "#predPickle = open(pred_v2, \"rb\")\n",
    "#print(predPickle)\n",
    "#preds_trueEn = np.asarray(pickle.load(predPickle))\n",
    "#print(preds[0])"
   ]
  },
  {
   "cell_type": "code",
   "execution_count": 8,
   "id": "fossil-index",
   "metadata": {},
   "outputs": [
    {
     "name": "stdout",
     "output_type": "stream",
     "text": [
      "350.13898\n",
      "630.19587630761\n",
      "9.789777\n",
      "1.0052377942235453\n",
      "2897981\n",
      "2897981\n"
     ]
    },
    {
     "data": {
      "text/plain": [
       "(array([[2.89001e+05, 1.71850e+05, 1.47300e+03, 7.30000e+02, 6.03000e+02,\n",
       "         4.02000e+02, 3.62000e+02, 3.13000e+02, 2.86000e+02, 2.53000e+02],\n",
       "        [0.00000e+00, 1.17150e+05, 2.87321e+05, 1.30238e+05, 2.68700e+03,\n",
       "         7.46000e+02, 4.03000e+02, 2.95000e+02, 4.14000e+02, 2.67000e+02],\n",
       "        [0.00000e+00, 0.00000e+00, 2.06000e+02, 1.57961e+05, 2.81552e+05,\n",
       "         9.25700e+04, 2.65400e+03, 9.79000e+02, 9.46000e+02, 5.54000e+02],\n",
       "        [0.00000e+00, 0.00000e+00, 0.00000e+00, 6.80000e+01, 3.87900e+03,\n",
       "         1.95080e+05, 2.70938e+05, 6.27250e+04, 3.61500e+03, 1.49600e+03],\n",
       "        [0.00000e+00, 0.00000e+00, 0.00000e+00, 6.00000e+00, 2.93000e+02,\n",
       "         3.00000e+01, 1.45360e+04, 2.24553e+05, 2.49955e+05, 4.57060e+04],\n",
       "        [0.00000e+00, 0.00000e+00, 0.00000e+00, 0.00000e+00, 1.06000e+02,\n",
       "         0.00000e+00, 4.00000e+00, 1.13000e+02, 3.28760e+04, 2.48423e+05],\n",
       "        [0.00000e+00, 0.00000e+00, 0.00000e+00, 0.00000e+00, 1.40000e+01,\n",
       "         0.00000e+00, 0.00000e+00, 0.00000e+00, 4.86000e+02, 3.24000e+02],\n",
       "        [0.00000e+00, 0.00000e+00, 0.00000e+00, 0.00000e+00, 0.00000e+00,\n",
       "         0.00000e+00, 0.00000e+00, 0.00000e+00, 2.38000e+02, 1.53000e+02],\n",
       "        [0.00000e+00, 0.00000e+00, 0.00000e+00, 0.00000e+00, 0.00000e+00,\n",
       "         0.00000e+00, 0.00000e+00, 1.00000e+00, 8.20000e+01, 4.80000e+01],\n",
       "        [0.00000e+00, 0.00000e+00, 0.00000e+00, 0.00000e+00, 0.00000e+00,\n",
       "         0.00000e+00, 0.00000e+00, 0.00000e+00, 6.00000e+00, 1.10000e+01]]),\n",
       " array([  1.00523779,  63.92430165, 126.8433655 , 189.76242935,\n",
       "        252.6814932 , 315.60055705, 378.5196209 , 441.43868475,\n",
       "        504.3577486 , 567.27681246, 630.19587631]),\n",
       " array([  9.7897768 ,  43.82469683,  77.85961685, 111.89453688,\n",
       "        145.9294569 , 179.96437693, 213.99929695, 248.03421698,\n",
       "        282.069137  , 316.10405703, 350.13897705]),\n",
       " <matplotlib.collections.QuadMesh at 0x7f831e4ddb50>)"
      ]
     },
     "execution_count": 8,
     "metadata": {},
     "output_type": "execute_result"
    },
    {
     "data": {
      "image/png": "[encoded data removed]",
      "text/plain": [
       "<Figure size 432x288 with 1 Axes>"
      ]
     },
     "metadata": {
      "needs_background": "light"
     },
     "output_type": "display_data"
    }
   ],
   "source": [
    "import awkward\n",
    "trueEn= \"/eos/user/n/nkasarag/gnn_results/fullHGCAL_fixwt_trimAhcal_relwtUpd_semiparam_mina_1_ratio_maxlr6e-4_lrSchCyclic_2agg_lay_nsm/trueE_fullHGCAL.npy\"\n",
    "trueEn_pkl = np.load(trueEn)\n",
    "#trueEnPickle = open(trueEn,\"rb\")\n",
    "#trueEn_pkl = np.asarray(pickle.load(trueEnPickle))\n",
    "#fig, ax = plt.subplots(figsize=(15,10))\n",
    "#ax.hist(preds_trueEn, bins =1000)\n",
    "#ax.set_xlabel('Predicted Energy')\n",
    "#fig.show()\n",
    "#print(trueEn_pkl[0])\n",
    "print(np.max(trueEn_pkl))\n",
    "print(np.max(preds_trueEn))\n",
    "print(np.min(trueEn_pkl))\n",
    "print(np.min(preds_trueEn))\n",
    "print(len(preds_trueEn))\n",
    "print(len(trueEn_pkl))\n",
    "plt.hist2d(preds_trueEn, trueEn_pkl)"
   ]
  },
  {
   "cell_type": "code",
   "execution_count": 9,
   "id": "2c22f6db",
   "metadata": {},
   "outputs": [
    {
     "data": {
      "text/html": [
       "\n",
       "<div id=\"root_plot_1677843014027\"\n",
       "     style=\"width: 696px; height: 472px\">\n",
       "</div>\n",
       "<script>\n",
       "if (typeof require !== 'undefined') {\n",
       "\n",
       "    // All requirements met (we are in jupyter notebooks or we loaded requirejs before).\n",
       "    display_root_plot_1677843014027();\n",
       "\n",
       "} else {\n",
       "\n",
       "    // We are in jupyterlab, we need to insert requirejs and configure it.\n",
       "    // Jupyterlab might be installed in a different base_url so we need to know it.\n",
       "    try {\n",
       "        var base_url = JSON.parse(document.getElementById('jupyter-config-data').innerHTML).baseUrl;\n",
       "    } catch(_) {\n",
       "        var base_url = '/';\n",
       "    }\n",
       "\n",
       "    // Try loading a local version of requirejs and fallback to cdn if not possible.\n",
       "    requirejs_load(base_url + 'static/components/requirejs/require.js', requirejs_success(base_url), function(){\n",
       "        requirejs_load('https://cdnjs.cloudflare.com/ajax/libs/require.js/2.2.0/require.min.js', requirejs_success(base_url), function(){\n",
       "            document.getElementById(\"root_plot_1677843014027\").innerHTML = \"Failed to load requireJs\";\n",
       "        });\n",
       "    });\n",
       "}\n",
       "\n",
       "function requirejs_load(src, on_load, on_error) {\n",
       "    var script = document.createElement('script');\n",
       "    script.src = src;\n",
       "    script.onload = on_load;\n",
       "    script.onerror = on_error;\n",
       "    document.head.appendChild(script);\n",
       "}\n",
       "\n",
       "function requirejs_success(base_url) {\n",
       "    return function() {\n",
       "        require.config({\n",
       "            baseUrl: base_url + 'static/'\n",
       "        });\n",
       "        display_root_plot_1677843014027();\n",
       "    }\n",
       "}\n",
       "\n",
       "function display_root_plot_1677843014027() {\n",
       "    require(['scripts/JSRootCore'],\n",
       "        function(Core) {\n",
       "            var obj = Core.JSONR_unref({\"_typename\":\"TCanvas\",\"fUniqueID\":0,\"fBits\":3342344,\"fLineColor\":1,\"fLineStyle\":1,\"fLineWidth\":1,\"fFillColor\":0,\"fFillStyle\":1001,\"fLeftMargin\":0.1,\"fRightMargin\":0.1,\"fBottomMargin\":0.1,\"fTopMargin\":0.1,\"fXfile\":2,\"fYfile\":2,\"fAfile\":1,\"fXstat\":0.99,\"fYstat\":0.99,\"fAstat\":2,\"fFrameFillColor\":0,\"fFrameLineColor\":1,\"fFrameFillStyle\":1001,\"fFrameLineStyle\":1,\"fFrameLineWidth\":1,\"fFrameBorderSize\":1,\"fFrameBorderMode\":0,\"fX1\":-45.0000033527615,\"fY1\":-45.0000033527615,\"fX2\":405.000003352762,\"fY2\":405.000003352762,\"fXtoAbsPixelk\":69.6000541484835,\"fXtoPixelk\":69.6000541484835,\"fXtoPixel\":1.54666664361954,\"fYtoAbsPixelk\":424.800047186661,\"fYtoPixelk\":424.800047186661,\"fYtoPixel\":-1.04888887325923,\"fUtoAbsPixelk\":5e-5,\"fUtoPixelk\":5e-5,\"fUtoPixel\":696,\"fVtoAbsPixelk\":472.00005,\"fVtoPixelk\":472,\"fVtoPixel\":-472,\"fAbsPixeltoXk\":-45.0000033527615,\"fPixeltoXk\":-45.0000033527615,\"fPixeltoX\":0.646551733772303,\"fAbsPixeltoYk\":405.000003352762,\"fPixeltoYk\":-45.0000033527615,\"fPixeltoY\":-0.953389844715091,\"fXlowNDC\":0,\"fYlowNDC\":0,\"fXUpNDC\":1,\"fYUpNDC\":1,\"fWNDC\":1,\"fHNDC\":1,\"fAbsXlowNDC\":0,\"fAbsYlowNDC\":0,\"fAbsWNDC\":1,\"fAbsHNDC\":1,\"fUxmin\":0,\"fUymin\":0,\"fUxmax\":360,\"fUymax\":360,\"fTheta\":30,\"fPhi\":30,\"fAspectRatio\":0,\"fNumber\":0,\"fTickx\":0,\"fTicky\":0,\"fLogx\":0,\"fLogy\":0,\"fLogz\":0,\"fPadPaint\":0,\"fCrosshair\":0,\"fCrosshairPos\":0,\"fBorderSize\":2,\"fBorderMode\":0,\"fModified\":false,\"fGridx\":false,\"fGridy\":false,\"fAbsCoord\":false,\"fEditable\":true,\"fFixedAspectRatio\":false,\"fPrimitives\":{\"_typename\":\"TList\",\"name\":\"TList\",\"arr\":[{\"_typename\":\"TFrame\",\"fUniqueID\":0,\"fBits\":8,\"fLineColor\":1,\"fLineStyle\":1,\"fLineWidth\":1,\"fFillColor\":0,\"fFillStyle\":1001,\"fX1\":0,\"fY1\":0,\"fX2\":360,\"fY2\":360,\"fBorderSize\":1,\"fBorderMode\":0},{\"_typename\":\"TH2F\",\"fUniqueID\":0,\"fBits\":8,\"fName\":\"H_pion\",\"fTitle\":\"\",\"fLineColor\":602,\"fLineStyle\":1,\"fLineWidth\":1,\"fFillColor\":0,\"fFillStyle\":1001,\"fMarkerColor\":1,\"fMarkerStyle\":1,\"fMarkerSize\":1,\"fNcells\":10404,\"fXaxis\":{\"_typename\":\"TAxis\",\"fUniqueID\":0,\"fBits\":0,\"fName\":\"xaxis\",\"fTitle\":\"Beam Energy (GeV)\",\"fNdivisions\":510,\"fAxisColor\":1,\"fLabelColor\":1,\"fLabelFont\":42,\"fLabelOffset\":0.005,\"fLabelSize\":0.035,\"fTickLength\":0.03,\"fTitleOffset\":1,\"fTitleSize\":0.035,\"fTitleColor\":1,\"fTitleFont\":42,\"fNbins\":100,\"fXmin\":0,\"fXmax\":360,\"fXbins\":[],\"fFirst\":0,\"fLast\":0,\"fBits2\":0,\"fTimeDisplay\":false,\"fTimeFormat\":\"\",\"fLabels\":null,\"fModLabs\":null},\"fYaxis\":{\"_typename\":\"TAxis\",\"fUniqueID\":0,\"fBits\":0,\"fName\":\"yaxis\",\"fTitle\":\"#n_{R}\",\"fNdivisions\":510,\"fAxisColor\":1,\"fLabelColor\":1,\"fLabelFont\":42,\"fLabelOffset\":0.005,\"fLabelSize\":0.035,\"fTickLength\":0.03,\"fTitleOffset\":0,\"fTitleSize\":0.035,\"fTitleColor\":1,\"fTitleFont\":42,\"fNbins\":100,\"fXmin\":0,\"fXmax\":360,\"fXbins\":[],\"fFirst\":0,\"fLast\":0,\"fBits2\":0,\"fTimeDisplay\":false,\"fTimeFormat\":\"\",\"fLabels\":null,\"fModLabs\":null},\"fZaxis\":{\"_typename\":\"TAxis\",\"fUniqueID\":0,\"fBits\":0,\"fName\":\"zaxis\",\"fTitle\":\"\",\"fNdivisions\":510,\"fAxisColor\":1,\"fLabelColor\":1,\"fLabelFont\":42,\"fLabelOffset\":0.005,\"fLabelSize\":0.035,\"fTickLength\":0.03,\"fTitleOffset\":1,\"fTitleSize\":0.035,\"fTitleColor\":1,\"fTitleFont\":42,\"fNbins\":1,\"fXmin\":0,\"fXmax\":1,\"fXbins\":[],\"fFirst\":0,\"fLast\":0,\"fBits2\":0,\"fTimeDisplay\":false,\"fTimeFormat\":\"\",\"fLabels\":null,\"fModLabs\":null},\"fBarOffset\":0,\"fBarWidth\":1000,\"fEntries\":2897981,\"fTsumw\":2835487,\"fTsumw2\":2835487,\"fTsumwx\":501251741.452496,\"fTsumwx2\":115206113750.307,\"fMaximum\":-1111,\"fMinimum\":-1111,\"fNormFactor\":0,\"fContour\":[0,815.8,1631.6,2447.4,3263.2,4079,4894.8,5710.6,6526.4,7342.2,8158,8973.8,9789.6,10605.4,11421.2,12237,13052.8,13868.6,14684.4,15500.2],\"fSumw2\":[],\"fOption\":\"\",\"fFunctions\":{\"_typename\":\"TList\",\"name\":\"TList\",\"arr\":[{\"_typename\":\"TPaletteAxis\",\"fUniqueID\":0,\"fBits\":0,\"fLineColor\":1,\"fLineStyle\":1,\"fLineWidth\":1,\"fFillColor\":1178,\"fFillStyle\":1001,\"fX1\":362.250000033528,\"fY1\":0,\"fX2\":382.500000335276,\"fY2\":360,\"fX1NDC\":0.904999994039535,\"fY1NDC\":0.100000005960465,\"fX2NDC\":0.949999994039535,\"fY2NDC\":0.899999994039535,\"fBorderSize\":4,\"fInit\":1,\"fShadowColor\":1,\"fCornerRadius\":0,\"fOption\":\"br\",\"fName\":\"TPave\",\"fAxis\":{\"_typename\":\"TGaxis\",\"fUniqueID\":0,\"fBits\":0,\"fLineColor\":1,\"fLineStyle\":1,\"fLineWidth\":1,\"fX1\":0,\"fY1\":0,\"fX2\":0,\"fY2\":0,\"fTextAngle\":0,\"fTextSize\":0.04,\"fTextAlign\":11,\"fTextColor\":1,\"fTextFont\":42,\"fWmin\":0,\"fWmax\":0,\"fGridLength\":0,\"fTickSize\":0.03,\"fLabelOffset\":0.005,\"fLabelSize\":0.035,\"fTitleOffset\":1,\"fTitleSize\":0.035,\"fNdiv\":0,\"fLabelColor\":1,\"fLabelFont\":42,\"fNModLabs\":0,\"fChopt\":\"\",\"fName\":\"\",\"fTitle\":\"\",\"fTimeFormat\":\"\",\"fFunctionName\":\"\",\"fModLabs\":null},\"fName\":\"palette\"},{\"_typename\":\"TPaveStats\",\"fUniqueID\":0,\"fBits\":9,\"fLineColor\":1,\"fLineStyle\":1,\"fLineWidth\":1,\"fFillColor\":0,\"fFillStyle\":1001,\"fX1\":306.000009119511,\"fY1\":267.750004794449,\"fX2\":396.00001180172,\"fY2\":375.750003989786,\"fX1NDC\":0.780000016093254,\"fY1NDC\":0.695000007748604,\"fX2NDC\":0.980000019073486,\"fY2NDC\":0.935000002384186,\"fBorderSize\":1,\"fInit\":1,\"fShadowColor\":1,\"fCornerRadius\":0,\"fOption\":\"brNDC\",\"fName\":\"stats\",\"fTextAngle\":0,\"fTextSize\":0,\"fTextAlign\":12,\"fTextColor\":1,\"fTextFont\":42,\"fLabel\":\"\",\"fLongest\":18,\"fMargin\":0.05,\"fLines\":{\"_typename\":\"TList\",\"name\":\"TList\",\"arr\":[{\"_typename\":\"TLatex\",\"fUniqueID\":0,\"fBits\":0,\"fName\":\"\",\"fTitle\":\"H_pion\",\"fTextAngle\":0,\"fTextSize\":0.0368,\"fTextAlign\":0,\"fTextColor\":0,\"fTextFont\":0,\"fX\":0,\"fY\":0,\"fLineColor\":1,\"fLineStyle\":1,\"fLineWidth\":2,\"fLimitFactorSize\":3,\"fOriginSize\":0.0368000008165836},{\"_typename\":\"TLatex\",\"fUniqueID\":0,\"fBits\":0,\"fName\":\"\",\"fTitle\":\"Entries = 2897981\",\"fTextAngle\":0,\"fTextSize\":0,\"fTextAlign\":0,\"fTextColor\":0,\"fTextFont\":0,\"fX\":0,\"fY\":0,\"fLineColor\":1,\"fLineStyle\":1,\"fLineWidth\":2,\"fLimitFactorSize\":3,\"fOriginSize\":0.04},{\"_typename\":\"TLatex\",\"fUniqueID\":0,\"fBits\":0,\"fName\":\"\",\"fTitle\":\"Mean x =  176.8\",\"fTextAngle\":0,\"fTextSize\":0,\"fTextAlign\":0,\"fTextColor\":0,\"fTextFont\":0,\"fX\":0,\"fY\":0,\"fLineColor\":1,\"fLineStyle\":1,\"fLineWidth\":2,\"fLimitFactorSize\":3,\"fOriginSize\":0.04},{\"_typename\":\"TLatex\",\"fUniqueID\":0,\"fBits\":0,\"fName\":\"\",\"fTitle\":\"Mean y =  169.6\",\"fTextAngle\":0,\"fTextSize\":0,\"fTextAlign\":0,\"fTextColor\":0,\"fTextFont\":0,\"fX\":0,\"fY\":0,\"fLineColor\":1,\"fLineStyle\":1,\"fLineWidth\":2,\"fLimitFactorSize\":3,\"fOriginSize\":0.04},{\"_typename\":\"TLatex\",\"fUniqueID\":0,\"fBits\":0,\"fName\":\"\",\"fTitle\":\"Std Dev x =  96.85\",\"fTextAngle\":0,\"fTextSize\":0,\"fTextAlign\":0,\"fTextColor\":0,\"fTextFont\":0,\"fX\":0,\"fY\":0,\"fLineColor\":1,\"fLineStyle\":1,\"fLineWidth\":2,\"fLimitFactorSize\":3,\"fOriginSize\":0.04},{\"_typename\":\"TLatex\",\"fUniqueID\":0,\"fBits\":0,\"fName\":\"\",\"fTitle\":\"Std Dev y =  95.68\",\"fTextAngle\":0,\"fTextSize\":0,\"fTextAlign\":0,\"fTextColor\":0,\"fTextFont\":0,\"fX\":0,\"fY\":0,\"fLineColor\":1,\"fLineStyle\":1,\"fLineWidth\":2,\"fLimitFactorSize\":3,\"fOriginSize\":0.04}],\"opt\":[\"\",\"\",\"\",\"\",\"\",\"\"]},\"fOptFit\":0,\"fOptStat\":1111,\"fFitFormat\":\"5.4g\",\"fStatFormat\":\"6.4g\",\"fParent\":{\"$ref\":3}}],\"opt\":[\"br\",\"brNDC\"]},\"fBufferSize\":0,\"fBuffer\":[],\"fBinStatErrOpt\":0,\"fStatOverflows\":2,\"fScalefactor\":1,\"fTsumwy\":480791086.151784,\"fTsumwy2\":107480836642.636,\"fTsumwxy\":110476158224.678,\"fArray\":[0,0,0,0,0,0,0,0,0,0,0,0,0,0,0,0,0,0,0,0,0,0,0,0,0,0,0,0,0,0,0,0,0,0,0,0,0,0,0,0,0,0,0,0,0,0,0,0,0,0,0,0,0,0,0,0,0,0,0,0,0,0,0,0,0,0,0,0,0,0,0,0,0,0,0,0,0,0,0,0,0,0,0,0,0,0,0,0,0,0,0,0,0,0,0,0,0,0,0,0,0,0,0,0,0,17,46,24,34,25,15,25,24,20,20,14,17,19,29,20,16,18,20,25,15,13,14,12,19,12,16,17,7,17,14,13,16,8,9,16,6,13,15,8,13,10,14,8,12,15,12,13,9,12,9,5,11,10,10,10,9,13,8,8,14,2,9,10,7,8,8,5,7,10,10,7,8,13,7,13,7,10,7,7,10,3,9,8,13,6,6,7,4,4,9,5,4,4,10,9,2,0,0,0,0,0,0,2482,2347,58,17,13,5,18,5,10,20,10,10,9,11,10,8,6,9,9,6,5,9,9,9,6,8,11,5,18,8,5,6,5,4,9,6,8,3,4,12,9,7,9,6,10,4,7,7,11,18,5,12,5,7,17,3,13,10,8,11,9,12,8,6,9,8,10,7,8,7,5,14,8,9,7,14,10,6,11,13,8,13,2,11,11,2,8,6,5,5,6,11,5,7,9,1,0,0,0,0,0,0,4565,16316,3738,589,34,10,14,7,9,8,3,6,2,8,5,4,6,1,6,3,3,8,6,6,4,3,1,3,2,3,3,2,3,3,2,1,3,4,4,0,0,2,0,4,1,2,4,2,4,1,1,2,2,2,2,4,2,4,5,5,0,0,2,8,1,2,9,3,2,2,3,1,3,3,5,1,4,2,2,4,2,4,2,3,3,1,2,2,2,1,2,4,1,0,4,1,0,0,0,0,0,0,1018,10723,11379,7173,1087,72,30,11,11,5,5,8,6,8,8,8,6,2,4,7,3,10,2,2,3,4,2,0,3,5,1,2,2,2,1,7,2,2,4,0,2,4,1,3,2,1,2,0,1,0,1,2,0,2,1,1,2,2,2,1,0,3,2,2,2,1,1,0,2,2,2,1,3,5,0,1,5,1,1,2,1,2,0,2,1,1,1,1,2,0,1,0,1,4,3,0,0,0,0,0,0,0,263,2958,6698,12993,7083,1404,276,37,19,10,12,9,4,6,7,2,5,6,4,0,1,4,1,7,4,3,2,2,1,4,2,3,1,1,3,3,4,4,5,1,1,2,3,1,3,3,1,1,3,2,3,2,0,1,2,4,2,2,4,2,4,1,0,2,3,1,2,1,1,2,0,3,0,0,3,1,1,0,2,1,0,0,1,2,3,1,1,1,5,0,1,0,1,1,1,1,0,0,0,0,0,0,74,899,2213,7841,11529,5922,2984,472,124,32,14,14,14,15,6,10,14,7,5,7,5,4,6,5,2,2,4,3,3,2,3,5,5,2,1,2,1,2,3,0,0,2,2,2,1,1,4,2,1,1,3,3,1,0,0,4,5,1,0,2,1,2,0,1,2,1,1,2,0,3,0,3,2,0,0,0,0,1,2,0,0,0,1,1,0,1,3,0,3,0,2,0,0,0,0,0,0,0,0,0,0,0,38,376,744,3126,7698,7824,8091,2788,1099,193,28,29,9,15,11,9,5,4,3,7,4,4,3,7,5,0,5,2,4,3,1,2,2,8,4,1,6,0,2,2,1,1,0,4,2,4,0,3,1,0,2,2,0,3,2,1,0,5,3,1,0,4,2,3,1,1,1,1,2,1,0,0,0,1,4,0,1,1,1,0,0,2,2,2,2,0,1,0,1,2,2,2,0,1,1,0,0,0,0,0,0,0,17,146,286,1186,3514,5354,9412,6056,4496,1317,233,78,27,20,24,11,14,7,7,6,3,8,3,9,6,1,4,1,6,2,1,2,6,2,4,3,1,3,3,4,2,3,0,5,4,0,3,6,1,2,1,2,0,1,0,4,1,1,0,1,1,3,3,2,1,0,0,2,3,1,0,0,0,1,1,2,1,1,1,0,1,1,3,0,1,0,1,0,1,1,1,1,1,2,1,1,0,0,0,0,0,0,9,74,137,448,1558,2504,6223,6461,7851,4600,1323,525,79,49,21,13,17,11,13,12,8,7,4,10,3,3,5,7,5,4,0,5,16,4,1,1,1,3,3,4,2,8,0,5,3,4,3,5,1,3,1,3,0,4,1,1,2,0,1,2,1,0,0,2,1,0,0,0,0,1,1,1,2,3,0,0,2,1,1,3,1,0,0,1,2,0,1,0,0,0,0,0,1,4,1,0,0,0,0,0,0,0,4,39,85,229,647,1200,3420,4435,7810,7571,3681,2425,578,243,62,19,21,10,12,10,11,9,8,8,6,8,7,4,9,7,5,6,6,6,1,3,2,1,3,3,1,0,2,9,2,0,1,1,4,2,0,1,3,2,3,0,0,3,4,4,4,1,2,2,2,1,0,0,2,1,1,1,2,1,1,1,1,1,0,1,0,0,1,1,0,1,3,1,0,0,0,1,1,1,0,1,0,0,0,0,0,0,4,19,40,110,285,530,1758,2431,5482,7171,5482,5143,2058,1127,287,72,24,13,13,17,12,11,6,11,12,3,5,10,7,4,8,6,14,8,6,1,3,1,3,3,1,2,2,5,1,3,1,3,5,0,3,1,1,4,2,1,0,4,1,0,2,2,1,1,0,0,0,0,0,2,0,0,0,1,1,1,1,1,0,1,1,1,0,1,0,0,1,2,0,1,1,1,1,1,0,0,0,0,0,0,0,0,4,15,34,72,199,218,753,1241,3137,5333,5147,6786,3948,3096,1209,306,133,37,23,33,14,14,12,6,4,9,9,6,4,11,4,8,15,2,4,1,3,3,3,3,6,4,6,10,0,3,4,7,4,0,3,3,3,3,1,1,4,1,2,0,1,5,1,3,2,1,3,1,2,0,1,4,1,2,1,1,2,0,0,3,0,2,1,1,1,2,2,0,2,1,0,2,1,1,1,1,0,0,0,0,0,0,1,11,18,55,113,165,383,659,1769,3255,3775,6234,4860,5388,3299,1096,573,143,67,33,18,20,9,13,12,8,13,6,9,10,2,5,13,1,6,4,7,3,5,5,4,3,4,10,7,1,3,8,4,2,2,3,2,3,5,1,2,2,6,5,0,5,0,2,2,0,5,0,0,2,0,3,0,2,2,1,2,0,3,0,0,1,1,1,3,1,1,0,3,4,0,2,0,0,3,0,0,0,0,0,0,0,3,6,15,46,71,90,241,336,929,1884,2412,4696,4571,6046,5046,2543,1850,607,305,66,15,30,23,14,17,7,11,11,9,14,5,8,26,6,2,5,2,3,5,3,4,3,1,12,0,3,3,11,1,2,2,3,2,3,4,2,1,3,1,0,3,1,6,2,2,0,2,2,2,1,1,0,0,2,1,0,1,0,2,2,1,0,0,0,0,1,1,3,2,1,0,1,0,0,0,0,0,0,0,0,0,0,0,5,6,20,44,56,123,177,464,1096,1393,3118,3299,5580,5750,3793,3523,1515,944,330,98,41,27,31,14,10,17,9,12,8,5,12,25,6,5,4,5,0,7,2,4,5,5,10,5,2,2,10,6,4,1,2,1,0,1,2,5,0,3,2,1,1,1,2,2,1,0,1,2,2,1,2,2,2,0,1,4,1,1,2,2,2,2,1,0,0,2,0,0,1,0,0,0,4,1,0,0,0,0,0,0,0,1,7,7,20,33,41,67,111,279,563,794,1986,2241,4131,5379,4125,4939,2757,2273,1007,329,159,59,37,31,17,23,14,11,13,7,10,25,8,7,7,8,6,4,10,0,7,3,13,3,1,3,22,2,4,0,3,2,5,3,2,6,4,3,1,3,0,1,3,2,4,2,0,4,0,2,4,2,1,2,2,3,3,1,0,0,1,2,0,1,1,0,3,2,4,1,0,0,1,1,0,0,0,0,0,0,0,0,3,6,8,18,26,58,77,152,324,452,1165,1559,2975,4126,3791,5542,3663,3959,2277,864,537,134,109,32,20,20,14,23,10,6,8,30,8,7,7,5,3,8,6,4,8,3,21,3,2,7,21,3,3,2,2,1,5,5,3,2,1,1,3,2,0,1,0,1,2,4,3,1,2,2,1,1,1,0,0,1,1,3,0,0,0,2,5,2,0,0,0,2,0,0,5,1,0,0,0,0,0,0,0,0,0,1,4,2,9,16,21,35,50,95,203,245,687,869,2058,3066,3055,4870,3774,4812,3757,1859,1441,534,285,105,36,37,17,20,12,9,11,26,9,7,2,11,6,8,7,2,5,7,20,2,5,6,11,2,4,1,8,1,4,1,2,3,1,1,6,0,2,1,1,5,2,6,1,5,1,1,2,0,0,3,1,2,2,1,0,2,1,1,4,1,2,2,1,2,3,1,2,0,1,1,2,0,0,0,0,0,0,0,1,3,9,11,9,31,41,78,122,158,370,495,1182,2012,2194,3719,3507,4882,4530,2752,2592,1223,811,317,113,65,18,22,24,11,14,15,11,13,8,6,5,7,9,5,3,5,20,7,5,6,20,6,1,5,4,2,3,2,3,1,4,0,3,4,1,2,6,2,4,1,2,5,3,1,1,0,2,1,1,0,2,1,2,2,1,0,2,0,2,2,1,0,2,1,0,0,1,2,0,0,0,0,0,0,0,0,2,3,6,4,7,17,23,49,84,89,232,295,776,1376,1554,2766,2734,4325,4763,3419,3786,2098,1725,828,297,169,59,34,27,14,11,26,15,17,6,14,3,8,2,5,7,5,26,6,1,5,17,5,3,2,2,3,4,5,3,6,0,1,2,2,2,0,2,4,3,0,0,1,0,3,2,2,0,4,1,0,3,1,0,3,2,2,6,2,0,3,3,1,5,1,0,0,2,1,0,0,0,0,0,0,0,0,0,2,2,6,10,9,17,36,53,66,141,195,428,829,1035,2059,2073,3509,4216,3369,4381,2854,2873,1819,744,474,163,81,54,17,25,23,13,13,6,15,6,12,7,5,5,4,26,3,3,4,21,6,4,5,5,4,6,4,2,4,3,3,3,0,4,1,2,1,0,2,1,4,3,2,3,2,1,2,4,1,1,1,1,5,1,0,3,2,2,3,2,0,2,2,3,0,0,0,0,0,0,0,0,0,0,0,0,1,3,3,5,7,14,29,44,45,101,111,281,504,671,1415,1529,2590,3459,3075,4417,3246,3728,2952,1424,1197,449,278,109,47,30,38,24,10,7,16,11,5,6,8,4,4,25,6,3,10,22,6,4,4,7,3,8,2,2,5,1,5,4,1,2,5,0,2,2,0,2,2,3,1,2,0,3,2,0,3,1,2,4,6,1,2,4,0,2,1,1,2,2,3,1,4,0,2,0,0,0,0,0,0,0,0,0,0,1,3,2,8,7,16,28,36,65,73,153,316,409,927,1077,1999,2739,2524,3975,3033,4238,3454,2127,2034,973,685,321,103,68,40,33,21,13,21,10,10,11,6,6,4,31,7,4,7,26,6,4,3,4,3,6,3,1,3,2,1,3,2,5,1,1,4,4,2,1,0,1,3,2,3,1,0,0,4,2,1,0,2,2,2,5,2,3,2,0,1,0,2,2,1,2,0,2,0,0,0,0,0,0,0,1,0,0,0,2,7,8,9,18,16,54,53,107,189,262,503,705,1446,2129,1928,3196,2845,4082,4167,2740,2883,1556,1362,720,270,169,78,54,20,16,21,9,12,11,8,13,7,25,8,7,4,18,3,5,2,5,2,2,5,0,2,5,5,1,2,3,4,1,1,1,2,3,2,4,2,4,3,2,3,5,2,0,1,5,5,3,2,6,1,4,2,0,3,4,0,0,1,1,0,0,0,0,0,0,0,0,0,0,0,0,1,2,3,2,6,16,22,28,37,80,115,160,331,438,961,1451,1539,2553,2356,3648,3961,2868,3513,2193,2180,1433,630,471,183,95,48,27,20,8,21,24,7,15,6,31,10,5,10,20,7,7,4,5,1,6,2,2,6,2,1,4,4,1,2,2,4,3,1,0,1,5,2,4,1,3,4,1,2,1,0,1,6,3,1,6,1,1,2,0,1,2,0,2,1,2,1,0,0,0,0,0,0,0,0,0,0,1,1,2,2,1,6,8,15,22,20,56,86,88,213,279,635,1080,1157,2026,1863,2979,3584,2854,3728,2583,2909,2116,1133,895,375,290,130,35,31,17,14,22,11,12,9,31,14,10,8,30,8,4,6,7,5,4,7,6,6,3,6,4,2,3,4,2,3,1,1,1,5,3,4,3,3,4,1,0,2,0,4,5,11,6,1,12,3,2,4,0,1,9,0,1,2,0,4,0,0,0,0,0,0,0,0,1,0,1,1,2,2,0,3,4,14,9,21,37,58,68,131,175,386,699,860,1452,1470,2391,2989,2556,3684,2914,3498,2866,1718,1534,742,592,267,91,72,29,23,24,12,17,11,33,11,9,10,28,9,6,6,8,4,4,4,6,5,2,4,6,1,3,6,4,1,0,3,1,3,2,5,5,3,2,2,2,5,2,3,0,8,2,3,8,1,0,2,0,3,7,0,2,1,2,1,1,0,0,0,0,0,0,0,0,0,1,2,1,1,1,3,2,3,9,13,24,53,43,110,121,268,439,528,1036,1154,1932,2426,2274,3443,2760,3666,3432,2262,2334,1193,1118,610,221,159,68,58,30,19,28,15,33,8,9,9,39,14,12,7,7,8,9,7,6,10,3,5,3,1,7,4,1,5,4,3,2,2,3,4,4,3,2,2,0,0,3,0,3,6,2,2,2,1,2,3,1,1,11,0,3,4,1,0,0,0,0,0,0,0,0,0,1,1,0,0,1,0,4,1,6,2,12,15,15,27,41,64,67,161,298,362,748,805,1507,1908,1765,2822,2419,3521,3556,2483,2904,1739,1757,1188,527,385,148,111,51,18,27,12,35,10,13,13,20,9,9,3,12,9,3,9,6,4,3,7,6,7,5,3,5,6,2,7,4,2,5,0,5,1,2,3,2,4,2,2,3,8,1,2,12,1,5,2,1,0,9,1,2,0,6,1,0,0,0,0,0,0,0,0,0,0,0,0,0,1,2,2,3,2,5,8,16,26,31,54,61,108,165,219,495,574,1096,1587,1461,2272,2081,3106,3403,2452,3288,2159,2414,1731,919,758,283,243,127,48,38,18,47,17,13,16,33,11,7,7,8,7,12,6,7,5,11,3,9,6,3,1,5,5,4,2,4,4,5,2,2,2,3,3,3,1,5,2,3,14,2,1,6,3,1,2,2,2,6,2,1,1,0,3,0,0,0,0,0,0,0,0,0,0,0,0,0,0,1,1,5,2,6,3,11,19,20,36,47,81,115,150,304,360,783,1151,1183,1854,1638,2573,3072,2488,3300,2418,2886,2324,1311,1318,600,539,243,93,75,31,41,17,14,15,33,11,12,7,7,7,9,7,5,6,5,12,5,6,4,4,8,4,1,4,0,5,7,2,5,1,3,4,0,2,1,3,5,8,2,0,11,3,4,0,3,5,14,1,6,5,1,3,0,0,0,0,0,0,0,0,0,0,0,0,0,1,0,1,1,2,5,2,9,15,14,31,37,40,88,103,199,230,562,771,904,1609,1358,2219,2601,2241,3218,2337,3146,2785,1757,1799,978,884,504,234,167,75,71,26,13,21,23,19,13,15,15,7,9,10,9,9,8,10,5,5,4,4,5,2,3,6,1,1,3,1,2,1,1,5,2,0,1,3,1,18,1,4,13,1,3,3,3,0,11,3,4,2,5,1,2,0,0,0,0,0,0,0,0,0,0,0,0,0,1,1,0,0,1,3,6,13,5,15,15,42,73,59,157,150,330,574,613,1151,1128,1896,2231,1949,2984,2324,3115,3008,2123,2422,1402,1410,911,422,320,121,108,51,29,20,22,19,14,16,14,9,15,8,7,9,6,14,6,5,6,3,6,4,5,6,5,6,1,6,7,5,0,5,2,2,3,0,3,13,4,2,18,4,2,4,1,6,14,4,1,1,1,3,1,0,0,0,0,0,0,0,0,0,0,1,0,0,0,0,1,1,0,1,4,6,7,14,8,24,40,58,93,92,216,383,429,877,878,1498,1827,1649,2535,2141,3038,3095,2206,2785,1879,1898,1374,678,683,280,204,120,46,37,39,20,15,8,10,8,11,12,6,10,5,10,8,5,5,4,6,3,4,6,4,7,4,2,5,2,8,6,2,5,2,2,0,17,4,1,10,2,1,1,5,2,11,5,0,2,0,1,1,0,0,0,0,0,0,0,0,0,0,0,0,0,0,0,0,1,1,0,1,3,1,19,11,11,33,41,78,73,132,267,317,637,704,1208,1563,1354,2087,1880,2772,2969,2331,2992,2031,2341,1937,1121,1051,498,414,231,107,72,52,27,20,16,11,14,15,10,11,11,6,9,13,6,11,7,10,3,1,6,5,7,5,1,5,2,6,4,4,1,4,0,2,13,2,6,12,4,2,1,5,3,11,3,1,2,2,5,0,0,0,0,0,0,0,0,0,0,0,0,0,0,0,2,0,1,1,0,3,5,6,5,14,12,21,23,49,54,86,161,198,429,451,937,1289,1148,1800,1542,2414,2749,2132,2873,2218,2725,2366,1527,1464,841,732,457,208,158,78,66,26,17,24,16,18,15,21,16,7,17,8,10,6,4,4,9,2,4,5,3,3,4,6,4,3,5,7,4,0,2,6,19,1,1,16,0,4,4,1,2,14,1,2,1,3,2,0,0,0,0,0,0,0,0,0,0,0,0,0,0,0,0,0,1,0,1,0,2,0,5,5,10,19,19,35,34,91,116,152,288,316,665,948,951,1537,1181,2046,2390,1986,2770,2220,2901,2662,1816,1983,1191,1123,732,330,273,147,94,49,31,21,22,14,16,9,13,5,11,10,11,8,4,7,11,9,7,2,5,8,6,9,3,4,5,0,4,2,4,3,23,0,5,12,2,3,5,5,3,7,2,2,2,2,3,0,0,0,0,0,0,0,0,0,0,0,0,0,0,0,1,0,0,0,1,0,0,2,6,4,5,9,13,27,32,49,93,79,194,226,432,698,736,1187,1127,1721,2047,1701,2583,2138,2881,2875,1991,2369,1504,1546,1154,631,472,253,189,118,47,35,20,25,26,11,9,8,6,8,6,12,10,3,8,5,11,2,5,3,7,4,3,7,3,2,3,7,4,2,12,2,2,12,5,2,3,1,5,12,3,2,1,2,2,1,0,0,0,0,0,0,0,0,0,0,0,0,0,0,0,0,1,0,0,2,3,3,2,3,5,10,6,20,25,45,53,68,124,140,322,457,555,916,872,1476,1808,1489,2378,1844,2789,2798,2004,2640,1745,1969,1554,928,867,436,378,179,75,66,27,34,20,11,17,13,14,13,9,9,16,10,7,6,14,5,3,6,6,2,5,5,11,4,2,3,3,4,11,4,4,19,2,0,5,2,2,20,3,4,2,1,0,0,0,0,0,0,0,0,0,0,0,0,0,0,0,0,0,0,0,1,0,0,3,1,1,1,4,9,8,8,16,26,41,41,96,100,202,336,376,723,760,1229,1497,1335,2023,1674,2445,2638,1979,2748,1943,2301,1964,1161,1185,616,594,369,154,123,52,46,36,12,23,13,19,18,15,18,7,12,17,5,4,6,8,5,8,8,3,9,6,3,0,1,7,4,26,4,2,18,2,1,3,3,3,10,2,5,0,1,0,0,0,0,0,0,0,0,0,0,0,0,0,0,0,0,0,0,0,1,0,1,0,1,0,0,2,8,4,12,13,20,32,31,68,77,160,213,245,556,580,1006,1241,1131,1703,1378,2235,2400,2025,2695,2002,2424,2196,1505,1595,961,988,659,310,257,110,91,40,16,29,16,17,13,8,14,6,13,14,3,8,5,7,10,6,4,3,4,6,3,4,7,1,1,19,0,3,16,6,6,1,1,1,21,0,1,1,1,4,0,0,0,0,0,0,0,0,0,0,0,0,0,0,0,0,0,0,0,0,1,1,1,0,1,2,8,2,9,10,14,21,23,45,61,111,157,174,377,416,760,1061,950,1448,1255,1751,2104,1796,2627,1955,2644,2517,1722,2043,1178,1306,927,509,478,232,167,106,37,34,19,22,19,13,10,9,18,11,3,9,6,3,8,3,3,4,8,5,4,8,4,2,3,27,6,2,17,3,7,6,1,4,21,1,2,4,3,3,1,0,0,0,0,0,0,0,0,0,0,0,0,0,0,0,0,0,0,1,0,1,0,1,1,1,2,5,4,8,17,13,17,30,32,70,108,118,260,275,537,757,768,1217,1111,1626,1878,1552,2301,1894,2504,2568,1853,2197,1477,1675,1285,702,721,356,298,170,81,70,28,34,28,13,20,10,16,10,11,15,5,7,11,6,13,8,9,2,4,3,8,7,4,17,5,3,22,3,2,5,2,6,10,4,3,3,5,6,2,0,0,0,0,0,0,0,0,0,0,0,0,0,0,0,0,0,0,0,0,1,0,1,1,2,0,1,6,5,6,15,16,33,26,53,68,78,185,173,390,600,623,1017,911,1389,1704,1354,2034,1734,2401,2484,1966,2488,1660,1974,1619,938,997,574,476,341,148,119,68,46,34,18,22,9,15,6,7,14,14,13,13,6,9,7,7,11,6,10,7,8,9,14,6,2,14,6,4,11,0,7,12,2,6,4,3,6,0,0,0,0,0,0,0,0,0,0,0,0,0,0,0,0,0,0,0,0,0,0,0,2,0,0,2,4,3,4,10,14,16,24,25,33,62,54,126,166,301,423,480,826,757,1212,1457,1251,1813,1500,2203,2502,1909,2558,1703,2250,1943,1218,1354,783,827,520,265,245,85,103,48,21,24,15,14,19,13,15,8,10,12,9,9,6,7,10,5,6,4,4,6,19,4,1,16,5,3,5,0,5,17,8,4,4,4,6,0,0,0,0,0,0,0,0,0,0,0,0,0,0,0,0,0,0,0,0,0,1,1,1,0,1,0,3,1,1,4,8,5,19,13,25,51,47,88,112,172,323,360,623,621,1038,1184,1047,1604,1317,1962,2238,1746,2506,1734,2367,2210,1427,1723,1053,1051,803,421,409,174,176,88,32,40,26,23,14,16,19,10,14,13,5,6,8,9,5,3,3,6,7,5,12,9,5,19,4,3,5,2,8,17,3,2,2,7,5,0,0,0,0,0,0,0,0,0,0,0,0,0,0,0,0,0,0,0,0,1,0,0,1,0,0,1,1,3,3,4,5,6,7,5,18,36,29,67,69,123,217,262,487,514,840,1014,928,1418,1154,1664,1933,1624,2254,1718,2379,2308,1697,1943,1241,1426,1051,604,627,306,289,156,80,76,35,36,14,17,13,14,13,15,12,10,10,13,10,6,16,7,10,5,21,5,5,18,9,5,4,6,6,16,2,3,7,2,5,3,0,0,0,0,0,0,0,0,0,0,0,0,0,0,0,0,0,0,0,0,0,0,0,0,0,0,0,0,1,2,6,4,12,11,21,23,24,51,55,101,169,161,297,366,621,927,785,1197,1066,1486,1816,1411,2152,1629,2365,2424,1789,2153,1429,1738,1368,789,848,483,466,273,161,123,51,36,31,14,25,14,22,16,5,13,10,10,4,7,9,6,13,5,23,9,2,15,6,6,9,6,7,17,1,1,4,4,4,1,0,0,0,0,0,0,0,0,0,0,0,0,0,0,0,0,0,0,0,0,0,0,0,0,0,0,1,0,3,1,1,4,5,6,11,18,15,27,51,80,110,118,229,277,485,645,689,1054,915,1365,1564,1301,1923,1540,2281,2304,1760,2350,1621,1961,1647,1057,1151,652,674,426,208,217,89,81,38,37,22,19,21,17,14,17,12,6,17,5,10,11,10,11,19,4,3,17,4,3,3,6,5,13,4,2,2,4,3,0,0,0,0,0,0,0,0,0,0,0,0,0,0,0,0,0,0,0,0,0,0,0,0,0,1,0,0,2,1,0,0,2,1,6,7,14,10,24,27,51,75,100,171,189,390,536,498,810,815,1207,1416,1154,1764,1363,2026,2177,1740,2303,1632,2086,2021,1262,1442,894,928,656,363,356,157,154,72,50,37,26,19,22,4,20,11,14,16,11,11,3,13,7,11,11,3,21,6,6,8,2,3,12,2,2,3,2,3,2,0,0,0,0,0,0,0,0,0,0,0,0,0,0,0,0,0,0,0,0,0,0,1,0,2,0,0,0,1,1,3,2,2,2,9,4,8,33,26,35,41,58,106,141,272,390,390,686,663,1016,1149,1007,1474,1254,1858,2101,1623,2248,1758,2274,2142,1393,1680,1084,1227,921,513,520,264,253,145,99,65,22,35,22,15,25,6,18,16,14,10,9,8,10,19,9,7,15,11,4,5,4,7,14,2,4,2,5,10,2,0,0,0,0,0,0,0,0,0,0,0,0,0,0,0,0,0,0,0,0,0,0,1,0,0,0,0,1,3,0,0,4,2,2,8,7,5,15,24,18,40,47,73,109,192,302,308,501,500,809,1101,882,1347,1140,1658,1806,1503,2157,1665,2191,2209,1572,1925,1257,1503,1174,697,718,394,373,245,125,105,54,51,32,16,12,14,22,16,12,12,14,8,9,15,14,6,21,10,6,5,4,8,30,2,5,3,4,8,0,0,0,0,0,0,0,0,0,0,0,0,0,0,0,0,0,0,0,0,0,0,0,0,0,0,0,1,1,2,1,2,0,3,1,6,4,5,12,16,16,31,40,72,71,156,197,235,409,416,706,924,784,1202,972,1455,1654,1326,1918,1583,2198,2183,1627,2015,1400,1656,1553,854,934,532,597,420,187,165,105,78,66,29,25,15,17,17,12,14,12,9,11,22,6,8,21,11,3,4,6,8,16,3,7,4,3,2,1,0,0,0,0,0,0,0,0,0,0,0,0,0,0,0,0,0,0,0,0,0,0,0,0,0,0,0,1,0,1,0,0,4,1,1,4,1,7,9,16,23,22,49,48,99,142,169,300,325,572,767,652,1078,903,1276,1459,1277,1745,1427,2114,2146,1663,2171,1535,1910,1705,1078,1204,752,768,574,320,282,147,115,82,41,49,22,34,19,10,14,8,10,15,25,12,4,16,5,9,6,5,9,15,6,1,4,8,3,3,0,0,0,0,0,0,0,0,0,0,0,0,0,0,0,0,0,0,0,0,0,0,0,0,1,0,0,0,0,0,0,1,4,1,4,2,7,6,9,10,12,10,43,26,65,97,102,229,234,453,582,560,946,746,1222,1351,1078,1573,1311,1900,1999,1579,2152,1581,1993,1829,1291,1493,982,1016,762,458,440,256,214,150,81,46,33,24,13,20,26,12,13,13,16,7,7,21,12,8,10,5,10,23,1,7,3,5,8,0,0,0,0,0,0,0,0,0,0,0,0,0,0,0,0,0,0,0,0,1,0,0,0,0,0,0,0,0,0,0,0,1,0,1,2,4,5,6,7,8,9,15,29,22,55,89,70,176,145,334,459,453,728,679,1026,1232,992,1420,1189,1735,1893,1465,2033,1573,2077,1938,1398,1756,1094,1215,1002,610,633,335,350,214,102,97,70,47,28,13,16,18,11,12,22,13,9,24,16,5,21,3,12,12,5,9,8,5,6,3,0,0,0,0,0,0,0,0,0,0,0,0,0,0,0,0,0,0,0,0,0,0,0,0,0,1,0,0,0,0,0,2,1,0,1,4,3,6,10,12,10,8,11,11,32,61,69,111,134,237,347,353,589,522,903,1092,880,1317,1048,1517,1730,1447,1968,1619,2045,2058,1525,1921,1260,1473,1223,812,804,447,499,349,176,167,80,70,52,21,28,17,21,17,27,17,17,20,8,8,13,1,10,22,6,11,3,4,9,0,0,0,0,0,0,0,0,0,0,0,0,0,0,0,0,0,0,0,0,0,0,0,0,0,0,0,0,0,0,1,0,0,0,2,0,1,0,5,3,4,3,11,15,20,31,44,40,80,97,165,274,259,503,466,801,916,788,1160,1006,1371,1611,1287,1828,1483,2048,2034,1564,1916,1368,1723,1429,927,1074,685,630,499,294,283,130,121,84,30,54,18,19,25,27,11,7,29,15,9,9,14,11,19,7,9,10,12,4,1,0,0,0,0,0,0,0,0,0,0,0,0,0,0,0,0,0,0,0,0,0,0,0,0,0,0,0,0,0,0,0,0,0,0,0,0,0,0,4,2,6,8,9,11,19,28,32,46,69,149,188,204,346,374,641,804,729,1034,909,1285,1389,1143,1673,1293,1915,2061,1499,1992,1439,1794,1605,1109,1292,796,865,624,385,340,205,189,135,58,62,33,25,20,38,11,12,21,11,9,14,6,6,21,6,4,6,17,5,0,0,0,0,0,0,0,0,0,0,0,0,0,0,0,0,0,0,0,0,0,0,0,0,0,0,0,0,0,0,0,0,0,2,0,1,0,3,0,2,1,6,1,8,3,14,24,12,38,44,119,120,149,287,261,549,669,585,895,788,1137,1281,1017,1533,1270,1724,1906,1429,2049,1456,1858,1849,1208,1436,950,1049,879,513,551,332,302,232,108,107,50,42,33,37,15,14,40,14,9,10,10,7,22,9,14,6,7,4,2,0,0,0,0,0,0,0,0,0,0,0,0,0,0,0,0,0,0,0,0,0,0,0,0,0,0,0,0,0,0,0,0,0,0,0,0,0,0,7,3,4,5,5,2,14,8,20,31,31,96,104,106,183,220,353,534,499,768,684,1074,1135,985,1320,1132,1583,1748,1409,1974,1508,1956,1940,1368,1639,1147,1295,1010,697,693,444,439,303,179,144,86,70,66,37,30,12,39,18,9,15,15,12,31,10,10,7,9,5,3,0,0,0,0,0,0,0,0,0,0,0,0,0,0,0,0,0,0,0,0,0,0,0,0,0,0,0,0,0,0,0,0,1,0,0,1,0,1,2,1,3,3,3,2,11,15,11,20,29,65,66,78,145,196,266,395,406,617,584,932,1010,864,1248,1049,1406,1585,1320,1798,1454,1929,1969,1348,1819,1265,1447,1280,770,888,534,563,418,217,250,118,118,82,45,39,30,36,21,12,21,9,12,23,13,14,3,15,13,1,0,0,0,0,0,0,0,0,0,0,0,0,0,0,0,0,0,0,0,0,0,0,0,0,0,0,0,0,0,0,0,0,0,0,0,1,0,1,3,0,3,2,2,0,12,11,16,16,23,58,56,50,102,128,233,321,316,508,466,783,895,797,1139,920,1284,1440,1245,1652,1357,1861,1944,1488,1850,1357,1657,1428,961,1113,699,738,602,329,332,199,186,127,80,69,33,52,27,20,26,17,17,26,5,14,10,15,7,4,0,0,0,0,0,0,0,0,0,0,0,0,0,0,0,0,0,0,0,0,0,1,0,0,0,0,0,0,0,0,0,0,1,0,0,0,0,0,7,2,1,2,2,2,4,7,6,16,8,43,36,47,71,88,152,242,234,451,387,664,824,676,1004,815,1209,1369,1110,1498,1213,1813,1890,1440,1854,1375,1726,1677,1074,1334,859,885,751,416,470,242,246,168,124,87,46,69,38,25,18,13,17,25,15,10,9,12,13,3,0,0,0,0,0,0,0,0,0,0,0,0,0,0,0,0,0,0,0,0,0,0,0,0,0,0,0,0,0,0,0,1,0,0,1,0,1,0,3,0,3,2,3,2,4,5,2,8,13,27,32,26,61,70,104,162,198,323,354,590,642,632,918,777,1198,1220,991,1441,1202,1668,1777,1380,1844,1368,1855,1779,1192,1433,1001,1087,934,577,678,342,345,276,137,134,72,81,42,23,24,20,21,21,11,12,6,13,10,6,0,0,0,0,0,0,0,0,0,0,0,0,0,0,0,0,0,0,0,0,0,0,0,0,0,0,0,0,0,0,0,0,0,0,1,1,0,0,2,0,1,0,1,1,4,5,6,6,6,20,13,28,42,54,82,127,137,249,257,436,544,526,872,684,1005,1078,900,1326,1043,1468,1609,1298,1812,1374,1870,1898,1271,1612,1054,1333,1130,682,810,476,531,359,221,205,107,119,67,39,45,22,25,32,15,15,9,14,14,2,0,0,0,0,0,0,0,0,0,0,0,0,0,0,0,0,0,0,0,0,0,0,0,0,0,0,0,0,0,0,0,0,0,0,0,0,1,0,0,0,0,0,4,2,2,5,4,4,6,18,16,22,26,45,62,91,103,174,200,368,449,448,702,541,925,1028,854,1247,1024,1399,1551,1157,1727,1339,1886,1801,1338,1710,1251,1504,1282,831,958,668,645,478,288,283,159,158,119,55,51,31,33,34,18,20,13,15,18,3,0,0,0,0,0,0,0,0,0,0,0,0,0,0,0,0,0,0,0,0,0,0,0,0,0,0,1,0,0,0,0,0,0,0,0,0,0,0,4,0,0,0,1,1,2,3,5,3,3,17,13,10,30,46,41,63,59,133,143,246,396,344,585,526,796,933,727,1099,921,1308,1445,1131,1616,1303,1816,1793,1402,1714,1321,1579,1495,1011,1186,693,836,651,390,411,238,250,176,94,76,55,35,49,21,21,14,17,12,3,0,0,0,0,0,0,0,0,0,0,0,0,0,0,0,0,0,0,0,0,0,0,0,0,0,0,0,0,0,0,0,0,0,0,0,0,0,0,1,1,1,0,0,2,1,1,1,3,3,19,16,8,11,32,30,45,53,93,98,180,312,274,455,452,693,830,669,967,784,1165,1287,1047,1456,1145,1619,1786,1312,1823,1351,1716,1514,1120,1263,859,1021,817,473,543,321,317,259,127,128,53,53,59,30,34,21,18,15,5,0,0,0,0,0,0,0,0,0,0,0,0,0,0,0,0,0,0,0,0,0,0,0,0,0,0,0,0,0,0,0,0,0,0,0,0,0,0,1,1,1,2,0,2,0,3,1,3,5,22,6,15,9,22,31,31,36,75,86,142,228,215,436,375,632,726,619,897,729,1075,1165,932,1417,1071,1507,1658,1290,1739,1328,1720,1681,1205,1495,965,1212,1031,617,674,387,477,368,200,176,84,96,71,40,33,35,28,13,5,0,0,0,0,0,0,0,0,0,0,0,0,0,0,0,0,0,0,0,0,0,0,0,0,0,0,0,0,0,0,0,0,0,0,0,0,0,0,4,0,0,0,0,0,1,2,1,1,1,13,6,2,7,21,21,22,27,61,52,104,158,164,284,290,523,630,529,787,696,995,1028,855,1257,1050,1457,1555,1182,1681,1300,1789,1686,1235,1609,1110,1322,1184,702,822,533,556,411,248,259,144,135,114,64,49,24,33,24,2,0,0,0,0,0,0,0,0,0,0,0,0,0,0,0,0,0,0,0,0,0,0,0,0,0,0,0,0,0,0,0,0,0,0,0,0,0,0,1,0,0,0,0,0,1,0,0,0,1,12,4,3,12,15,16,18,32,36,51,66,121,128,184,212,395,523,439,727,609,937,980,849,1169,907,1262,1419,1127,1621,1272,1741,1685,1310,1624,1143,1427,1289,840,930,625,745,539,341,374,205,221,144,88,60,47,41,44,5,0,0,0,0,0,0,0,0,0,0,0,0,0,0,0,0,0,0,0,0,0,0,0,0,0,0,0,0,0,0,0,0,0,0,0,0,0,0,2,0,0,0,0,0,0,1,1,2,3,11,2,3,5,16,10,19,9,27,42,62,85,87,165,172,297,413,363,624,502,767,923,721,1056,835,1185,1320,1079,1448,1150,1555,1708,1327,1689,1194,1611,1450,929,1137,757,852,711,419,473,298,272,220,110,115,56,50,37,8,0,0,0,0,0,0,0,0,0,0,0,0,0,0,0,0,0,0,0,0,0,0,0,0,0,0,0,0,0,0,0,0,0,0,0,0,0,0,0,0,0,0,0,0,1,1,1,0,1,11,2,4,7,14,7,19,5,36,23,42,58,89,114,156,267,317,344,473,453,723,797,694,982,768,1156,1270,1013,1447,1102,1577,1703,1288,1723,1263,1605,1507,1046,1328,917,1006,884,505,590,339,401,268,169,152,86,88,63,12,0,0,0,0,0,0,0,0,0,0,0,0,0,0,0,0,0,0,0,0,0,0,0,0,0,0,0,0,0,0,0,0,0,0,0,0,0,0,0,0,0,0,0,0,0,0,1,2,2,15,1,2,7,16,5,4,8,18,20,31,48,58,85,87,158,254,260,452,395,620,692,588,898,724,1057,1100,853,1287,986,1446,1570,1185,1648,1280,1687,1636,1042,1457,939,1099,1028,636,709,483,482,372,232,236,126,132,100,19,0,0,0,0,0,0,0,0,0,0,0,0,0,0,0,0,0,0,0,0,0,0,0,0,0,0,0,0,0,0,0,0,0,0,0,0,0,0,0,0,0,0,0,0,1,0,1,0,0,10,0,1,2,9,1,6,5,7,10,29,37,38,84,104,146,196,191,338,314,560,669,558,822,657,998,1037,846,1197,942,1369,1515,1165,1593,1220,1627,1676,1130,1555,1032,1252,1114,756,871,564,597,459,291,297,175,184,122,32,0,0,0,0,0,0,0,0,0,0,0,0,0,0,0,0,0,0,0,0,0,0,0,0,0,0,0,0,0,0,0,0,0,0,0,0,0,0,2,0,0,0,0,0,1,0,0,1,0,14,1,1,4,14,4,5,2,5,9,17,40,32,56,50,118,167,150,271,295,433,576,463,719,610,886,917,765,1118,881,1271,1300,1088,1455,1171,1571,1649,1154,1586,1164,1389,1308,891,978,659,786,600,386,397,243,279,198,53,0,0,0,0,0,0,0,0,0,0,0,0,0,0,0,0,0,0,0,0,0,0,0,0,0,0,0,0,0,0,0,0,0,0,0,0,0,0,4,0,0,0,0,0,0,0,0,0,0,10,0,0,3,10,2,6,4,10,12,20,25,23,31,35,76,111,120,210,233,360,454,421,626,550,847,863,749,1039,848,1168,1229,1010,1445,1166,1556,1675,1115,1587,1160,1487,1454,963,1170,741,929,747,488,515,343,355,280,62,0,0,0,0,0,0,0,0,0,0,0,0,0,0,0,0,0,0,0,0,0,0,0,0,0,0,0,0,0,0,0,0,0,0,0,0,0,0,0,0,0,0,0,0,0,0,0,0,1,7,0,0,3,12,2,2,6,9,8,10,17,4,26,34,56,79,96,163,167,288,403,336,566,482,735,829,664,1026,736,1102,1110,980,1257,1076,1464,1661,1041,1603,1154,1474,1554,1022,1309,882,1014,894,573,651,388,415,355,62,0,0,0,0,0,0,0,0,0,0,0,0,0,0,0,0,0,0,0,0,0,0,0,0,0,0,0,0,0,0,0,0,0,0,0,0,0,0,2,0,0,0,0,0,0,0,0,0,0,9,0,0,0,12,0,5,5,5,6,10,8,13,24,17,46,52,65,119,139,224,299,294,449,429,670,732,638,881,712,1018,1098,876,1241,990,1367,1447,1042,1633,1228,1483,1596,1138,1420,1045,1208,978,634,812,496,547,434,100,0,0,0,0,0,0,0,0,0,0,0,0,0,0,0,0,0,0,0,0,0,0,0,0,0,0,0,0,0,0,0,0,0,0,0,0,0,0,0,0,0,0,0,0,0,0,0,0,0,8,0,0,0,10,2,0,2,2,5,4,9,9,15,21,28,37,43,69,95,188,236,231,419,383,542,661,565,792,675,961,1027,824,1173,897,1347,1342,1085,1459,1104,1569,1645,1108,1493,1075,1283,1052,780,883,608,693,555,116,0,0,0,0,0,0,0,0,0,0,0,0,0,0,0,0,0,0,0,0,0,0,0,0,0,0,0,0,0,0,0,0,0,0,0,0,0,0,0,0,0,0,0,0,0,0,0,0,0,4,2,0,0,6,0,1,5,3,3,6,11,9,14,7,21,35,36,64,71,136,164,180,319,272,522,575,539,737,600,910,918,753,1031,887,1226,1203,990,1428,1113,1510,1545,1214,1521,1094,1429,1227,908,1072,688,828,629,150,0,0,0,0,0,0,0,0,0,0,0,0,0,0,0,0,0,0,0,0,0,0,0,0,0,0,0,0,0,0,0,0,0,0,0,0,0,0,0,1,0,0,0,0,0,0,0,0,0,8,1,0,1,12,2,1,0,0,2,6,2,6,7,11,18,18,23,51,57,114,145,136,264,235,376,502,445,670,546,779,860,692,978,762,1129,1201,931,1388,1105,1426,1564,1182,1539,1093,1370,1354,1027,1213,837,910,757,199,0,0,0,0,0,0,0,0,0,0,0,0,0,0,0,0,0,0,0,0,0,0,0,0,0,0,0,0,0,0,0,0,0,0,0,0,0,0,0,0,0,0,0,0,0,0,0,0,0,9,0,0,0,6,0,0,0,1,5,0,6,6,8,10,16,9,18,48,45,73,111,115,205,197,344,393,369,624,456,799,803,647,1003,760,1112,1097,881,1269,979,1351,1408,1150,1515,1102,1513,1385,964,1223,897,1050,858,201,0,0,0,0,0,0,0,0,0,0,0,0,0,0,0,0,0,0,0,0,0,0,0,0,0,0,0,0,0,0,0,0,0,0,0,0,0,0,1,0,0,0,0,0,0,0,0,0,0,2,0,0,0,6,1,2,0,3,2,2,4,4,5,8,6,24,17,28,24,44,68,84,131,173,277,342,327,499,439,676,731,598,831,677,994,1078,794,1188,882,1241,1402,1124,1527,1134,1518,1422,1066,1399,962,1108,1066,226,0,0,0,0,0,0,0,0,0,0,0,0,0,0,0,0,0,0,0,0,0,0,0,0,0,0,0,0,0,0,0,0,0,0,0,0,0,0,0,0,0,0,0,0,0,0,0,0,0,8,0,0,0,7,0,0,1,1,1,4,1,1,6,5,8,8,14,23,23,50,49,66,110,116,198,273,294,433,374,599,693,525,793,656,938,973,737,1157,822,1132,1336,1014,1370,1104,1432,1441,1104,1484,1049,1304,1159,273,0,0,0,0,0,0,0,0,0,0,0,0,0,0,0,0,0,0,0,0,0,0,0,0,0,0,0,0,0,0,0,0,0,0,0,0,0,0,0,0,0,0,0,0,0,0,0,0,0,8,1,0,0,5,0,0,0,0,1,1,1,0,5,8,5,11,6,11,15,28,46,51,69,83,166,232,212,367,329,539,599,489,727,603,798,893,710,1076,807,1124,1154,984,1357,1104,1489,1495,1162,1392,1134,1314,1275,297,0,0,0,0,0,0,0,0,0,0,0,0,0,0,0,0,0,0,0,0,0,0,0,0,0,0,0,0,0,0,0,0,0,0,0,0,0,0,1,0,0,0,0,0,0,0,0,0,0,6,0,0,0,7,0,0,0,0,2,1,4,0,2,7,3,10,8,10,6,20,38,30,73,65,122,149,172,277,249,419,541,455,658,584,802,851,681,972,820,1055,1130,939,1237,1036,1446,1319,1111,1464,1125,1397,1323,335,0,0,0,0,0,0,0,0,0,0,0,0,0,0,0,0,0,0,0,0,0,0,0,0,0,0,0,0,0,0,0,0,0,0,0,0,0,0,1,0,0,0,0,0,0,0,0,0,0,1,0,0,0,5,0,0,1,0,1,1,0,0,3,2,2,4,8,12,6,12,26,16,43,56,102,117,131,230,230,392,457,399,531,505,676,824,659,875,715,910,1109,870,1186,954,1361,1384,1127,1457,1058,1390,1393,329,0,0,0,0,0,0,0,0,0,0,0,0,0,0,0,0,0,0,0,0,0,0,0,0,0,0,0,0,0,0,0,0,0,0,0,0,0,0,0,0,0,0,0,0,0,0,0,0,0,5,0,0,0,7,0,0,0,0,1,0,0,1,1,1,3,6,3,8,6,10,18,18,45,34,69,96,93,198,177,300,380,324,524,429,657,735,555,777,713,978,973,771,1121,893,1222,1273,1031,1440,1041,1434,1374,346,0,0,0,0,0,0,0,0,0,0,0,0,0,0,0,0,0,0,0,0,0,0,0,0,0,0,0,0,0,0,0,0,0,0,0,0,0,0,0,0,0,0,0,0,0,0,0,0,0,4,0,0,0,6,0,0,0,0,0,2,2,2,1,1,1,4,3,4,3,7,16,14,27,28,47,70,82,130,146,218,308,277,471,363,595,659,530,802,682,851,935,782,1052,810,1164,1185,965,1345,1021,1425,1448,369,0,0,0,0,0,0,0,0,0,0,0,0,0,0,0,0,0,0,0,0,0,0,0,0,0,0,0,0,0,0,0,0,0,0,0,0,0,0,0,0,0,0,0,0,0,0,0,0,0,4,0,0,0,7,0,0,0,0,0,0,1,0,1,0,1,4,1,8,4,9,9,11,20,24,38,70,65,101,110,169,281,240,398,345,561,633,474,739,592,805,807,648,989,796,1107,1130,862,1317,959,1330,1379,349,0,0,0,0,0,0,0,0,0,0,0,0,0,0,0,0,0,0,0,0,0,0,0,0,0,0,0,0,0,0,0,0,0,0,0,0,0,0,0,0,0,0,0,0,0,0,1,0,0,4,0,0,0,4,0,0,0,1,0,0,0,1,1,0,2,3,3,3,3,9,8,14,13,16,29,40,51,60,74,137,204,179,319,297,422,498,437,673,553,747,825,670,910,744,1083,1096,907,1219,1005,1366,1344,334,0,0,0,0,0,0,0,0,0,0,0,0,0,0,0,0,0,0,0,0,0,0,0,0,0,0,0,0,0,0,0,0,0,0,0,0,0,0,0,0,0,0,0,0,0,0,0,0,0,3,0,0,0,3,0,0,0,1,0,0,1,0,1,1,1,1,1,2,2,4,6,13,15,12,31,32,31,71,60,94,163,131,286,261,375,427,399,615,472,705,762,655,970,720,1025,1002,858,1171,944,1288,1393,302,0,0,0,0,0,0,0,0,0,0,0,0,0,0,0,0,0,0,0,0,0,0,0,0,0,0,0,0,0,0,0,0,0,0,0,0,0,0,0,0,0,0,0,0,0,0,0,0,0,3,0,0,0,4,0,1,0,0,0,0,0,0,2,1,0,0,1,4,1,5,3,3,18,5,14,23,20,41,40,76,125,120,197,168,329,404,331,551,428,666,743,598,808,629,907,924,766,1050,797,1235,1353,335,0,0,0,0,0,0,0,0,0,0,0,0,0,0,0,0,0,0,0,0,0,0,0,0,0,0,0,0,0,0,0,0,0,0,0,0,0,0,0,0,0,0,0,0,0,0,0,0,0,2,0,0,0,3,0,0,0,0,0,1,0,0,0,1,1,3,1,1,6,4,4,5,4,4,11,21,12,25,30,72,82,90,181,165,289,349,300,482,410,586,681,517,741,642,850,865,768,1015,794,1145,1130,314,0,0,0,0,0,0,0,0,0,0,0,0,0,0,0,0,0,0,0,0,0,0,0,0,0,0,0,0,0,0,0,0,0,0,0,0,0,0,0,0,0,0,0,0,0,0,0,0,0,3,0,0,0,3,0,0,0,0,0,0,0,0,0,0,0,0,1,4,2,4,2,2,7,8,8,18,10,19,28,38,67,78,126,122,200,290,281,426,362,588,617,497,713,611,851,852,632,965,746,1029,1133,273,0,0,0,0,0,0,0,0,0,0,0,0,0,0,0,0,0,0,0,0,0,0,0,0,0,0,0,0,0,0,0,0,0,0,0,0,0,0,0,0,0,0,0,0,0,0,0,0,0,3,0,0,0,4,0,0,0,0,0,0,0,0,1,1,0,1,2,1,2,0,4,2,5,5,4,11,4,21,16,34,57,55,102,93,166,224,230,335,309,452,561,461,680,543,810,801,641,918,734,1012,1043,247,0,0,0,0,0,0,0,0,0,0,0,0,0,0,0,0,0,0,0,0,0,0,0,0,0,0,0,0,0,0,0,0,0,0,0,0,0,0,0,0,0,0,0,0,0,0,0,0,0,2,0,0,0,3,0,0,0,0,0,0,0,0,0,0,0,0,0,2,2,0,2,3,5,6,5,9,9,15,19,33,30,40,61,73,146,172,179,307,268,417,457,430,615,484,738,766,606,851,679,982,1002,267,0,0,0,0,0,0,0,0,0,0,0,0,0,0,0,0,0,0,0,0,0,0,0,0,0,0,0,0,0,0,0,0,0,0,0,0,0,0,0,0,0,0,0,0,0,0,0,0,0,2,0,0,0,4,0,0,0,0,0,0,0,0,0,0,0,0,0,2,1,0,0,2,4,5,4,5,12,8,6,20,27,30,51,56,113,142,161,237,252,375,445,371,530,449,628,747,576,787,638,852,890,248,0,0,0,0,0,0,0,0,0,0,0,0,0,0,0,0,0,0,0,0,0,0,0,0,0,0,0,0,0,0,0,0,0,0,0,0,0,0,0,0,0,0,0,0,0,0,0,0,0,14,0,0,0,36,0,0,0,0,3,1,0,0,0,0,2,1,1,4,3,4,12,8,10,12,18,33,13,41,48,72,109,92,168,207,352,456,986,868,884,1957,1923,1811,3055,2656,4186,5476,4290,6691,5480,8435,9514,2562,0,0,0]},{\"_typename\":\"TStyle\",\"fUniqueID\":0,\"fBits\":0,\"fName\":\"Modern\",\"fTitle\":\"Modern Style\",\"fLineColor\":1,\"fLineStyle\":1,\"fLineWidth\":1,\"fFillColor\":19,\"fFillStyle\":1001,\"fMarkerColor\":1,\"fMarkerStyle\":1,\"fMarkerSize\":1,\"fTextAngle\":0,\"fTextSize\":0.05,\"fTextAlign\":11,\"fTextColor\":1,\"fTextFont\":62,\"fXaxis\":{\"_typename\":\"TAttAxis\",\"fNdivisions\":510,\"fAxisColor\":1,\"fLabelColor\":1,\"fLabelFont\":42,\"fLabelOffset\":0.005,\"fLabelSize\":0.035,\"fTickLength\":0.03,\"fTitleOffset\":1,\"fTitleSize\":0.035,\"fTitleColor\":1,\"fTitleFont\":42},\"fYaxis\":{\"_typename\":\"TAttAxis\",\"fNdivisions\":510,\"fAxisColor\":1,\"fLabelColor\":1,\"fLabelFont\":42,\"fLabelOffset\":0.005,\"fLabelSize\":0.035,\"fTickLength\":0.03,\"fTitleOffset\":0,\"fTitleSize\":0.035,\"fTitleColor\":1,\"fTitleFont\":42},\"fZaxis\":{\"_typename\":\"TAttAxis\",\"fNdivisions\":510,\"fAxisColor\":1,\"fLabelColor\":1,\"fLabelFont\":42,\"fLabelOffset\":0.005,\"fLabelSize\":0.035,\"fTickLength\":0.03,\"fTitleOffset\":1,\"fTitleSize\":0.035,\"fTitleColor\":1,\"fTitleFont\":42},\"fBarWidth\":1,\"fBarOffset\":0,\"fColorModelPS\":0,\"fDrawBorder\":0,\"fOptLogx\":0,\"fOptLogy\":0,\"fOptLogz\":0,\"fOptDate\":0,\"fOptStat\":1111,\"fOptTitle\":1,\"fOptFile\":0,\"fOptFit\":0,\"fShowEventStatus\":0,\"fShowEditor\":0,\"fShowToolBar\":0,\"fNumberContours\":20,\"fAttDate\":{\"_typename\":\"TAttText\",\"fTextAngle\":0,\"fTextSize\":0.025,\"fTextAlign\":11,\"fTextColor\":1,\"fTextFont\":62},\"fDateX\":0.01,\"fDateY\":0.01,\"fEndErrorSize\":2,\"fErrorX\":0.5,\"fFuncColor\":2,\"fFuncStyle\":1,\"fFuncWidth\":2,\"fGridColor\":0,\"fGridStyle\":3,\"fGridWidth\":1,\"fLegendBorderSize\":1,\"fLegendFillColor\":0,\"fLegendFont\":42,\"fLegendTextSize\":0,\"fHatchesLineWidth\":1,\"fHatchesSpacing\":1,\"fFrameFillColor\":0,\"fFrameLineColor\":1,\"fFrameFillStyle\":1001,\"fFrameLineStyle\":1,\"fFrameLineWidth\":1,\"fFrameBorderSize\":1,\"fFrameBorderMode\":0,\"fHistFillColor\":0,\"fHistLineColor\":602,\"fHistFillStyle\":1001,\"fHistLineStyle\":1,\"fHistLineWidth\":1,\"fHistMinimumZero\":false,\"fHistTopMargin\":0.05,\"fCanvasPreferGL\":false,\"fCanvasColor\":0,\"fCanvasBorderSize\":2,\"fCanvasBorderMode\":0,\"fCanvasDefH\":500,\"fCanvasDefW\":700,\"fCanvasDefX\":10,\"fCanvasDefY\":10,\"fPadColor\":0,\"fPadBorderSize\":2,\"fPadBorderMode\":0,\"fPadBottomMargin\":0.1,\"fPadTopMargin\":0.1,\"fPadLeftMargin\":0.1,\"fPadRightMargin\":0.1,\"fPadGridX\":false,\"fPadGridY\":false,\"fPadTickX\":0,\"fPadTickY\":0,\"fPaperSizeX\":20,\"fPaperSizeY\":26,\"fScreenFactor\":1,\"fStatColor\":0,\"fStatTextColor\":1,\"fStatBorderSize\":1,\"fStatFont\":42,\"fStatFontSize\":0,\"fStatStyle\":1001,\"fStatFormat\":\"6.4g\",\"fStatX\":0.98,\"fStatY\":0.935,\"fStatW\":0.2,\"fStatH\":0.16,\"fStripDecimals\":true,\"fTitleAlign\":23,\"fTitleColor\":0,\"fTitleTextColor\":1,\"fTitleBorderSize\":0,\"fTitleFont\":42,\"fTitleFontSize\":0.05,\"fTitleStyle\":0,\"fTitleX\":0.5,\"fTitleY\":0.995,\"fTitleW\":0,\"fTitleH\":0,\"fLegoInnerR\":0.5,\"fLineStyle\":[\"\",\"  \",\" 12 12\",\" 4 8\",\" 12 16 4 16\",\" 20 12 4 12\",\" 20 12 4 12 4 12 4 12\",\" 20 20\",\" 20 12 4 12 4 12\",\" 80 20\",\" 80 40 4 40\",\"  \",\"  \",\"  \",\"  \",\"  \",\"  \",\"  \",\"  \",\"  \",\"  \",\"  \",\"  \",\"  \",\"  \",\"  \",\"  \",\"  \",\"  \",\"  \"],\"fHeaderPS\":\"\",\"fTitlePS\":\"\",\"fFitFormat\":\"5.4g\",\"fPaintTextFormat\":\"g\",\"fLineScalePS\":3,\"fJoinLinePS\":0,\"fCapLinePS\":0,\"fTimeOffset\":788918400,\"fImageScaling\":1}],\"opt\":[\"\",\"COLZ\",\"\"]},\"fExecs\":null,\"fName\":\"c1\",\"fTitle\":\"c1\",\"fNumPaletteColor\":0,\"fNextPaletteColor\":0,\"fDISPLAY\":\"$DISPLAY\",\"fDoubleBuffer\":0,\"fRetained\":true,\"fXsizeUser\":0,\"fYsizeUser\":0,\"fXsizeReal\":20,\"fYsizeReal\":14.28571,\"fWindowTopX\":0,\"fWindowTopY\":0,\"fWindowWidth\":0,\"fWindowHeight\":0,\"fCw\":696,\"fCh\":472,\"fCatt\":{\"_typename\":\"TAttCanvas\",\"fXBetween\":2,\"fYBetween\":2,\"fTitleFromTop\":1.2,\"fXdate\":0.2,\"fYdate\":0.3,\"fAdate\":1},\"kMoveOpaque\":true,\"kResizeOpaque\":true,\"fHighLightColor\":2,\"fBatch\":true,\"kShowEventStatus\":false,\"kAutoExec\":true,\"kMenuBar\":true});\n",
       "            Core.draw(\"root_plot_1677843014027\", obj, \"\");\n",
       "        }\n",
       "    );\n",
       "}\n",
       "</script>\n"
      ],
      "text/plain": [
       "<IPython.core.display.HTML object>"
      ]
     },
     "metadata": {},
     "output_type": "display_data"
    }
   ],
   "source": [
    "c=ROOT.TCanvas()\n",
    "bins=100\n",
    "xmin=0\n",
    "xmax=360\n",
    "#c.SetGrid()\n",
    "H_pion = ROOT.TH2F(\"H_pion\",\";Beam Energy (GeV);#n_{R}\", 100,xmin,xmax, 100,0,360)\n",
    "\n",
    "val = trueEn_pkl\n",
    "val2 = rawE\n",
    "\n",
    "for i in range(val.size):\n",
    "        H_pion.Fill(val[i], val2[i])\n",
    "        \n",
    "H_pion.Draw(\"COLZ\")\n",
    "\n",
    "#ROOT.gPad.SetLogy()\n",
    "c.Draw()"
   ]
  },
  {
   "cell_type": "code",
   "execution_count": null,
   "id": "4eb18b91",
   "metadata": {},
   "outputs": [],
   "source": []
  },
  {
   "cell_type": "code",
   "execution_count": null,
   "id": "17a02fd3",
   "metadata": {},
   "outputs": [],
   "source": []
  },
  {
   "cell_type": "code",
   "execution_count": null,
   "id": "03348651",
   "metadata": {},
   "outputs": [],
   "source": []
  },
  {
   "cell_type": "code",
   "execution_count": 7,
   "id": "american-howard",
   "metadata": {
    "scrolled": true
   },
   "outputs": [
    {
     "name": "stdout",
     "output_type": "stream",
     "text": [
      "569399\n",
      "2277493\n",
      "159.54365990363573\n",
      "146.13889\n",
      "39.96608239860867\n",
      "38.138092\n"
     ]
    }
   ],
   "source": [
    "valid_idx_file=\"/eos/user/n/nkasarag/gnn_results/fullHGCAL_fixwt_trimAhcal_relwtUpd_semiparam_mina_1_ratio_maxlr6e-4_lrSchCyclic_2agg_lay_nsm/full_HGCAL_rm_badEve_valididx.pickle\"\n",
    "train_idx_file=\"/eos/user/n/nkasarag/gnn_results/fullHGCAL_fixwt_trimAhcal_relwtUpd_semiparam_mina_1_ratio_maxlr6e-4_lrSchCyclic_2agg_lay_nsm/full_HGCAL_rm_badEve_trainidx.pickle\"\n",
    "\n",
    "#valid_idx_file=\"/eos/user/n/nkasarag/gnn_results/0to5M_fixwt_trimAhcal_relwtUpd_semiparam_ratio_maxlr6e-4_lrSchCyclic_2agg_lay_msi_10M/all_valididx.pickle\"\n",
    "#train_idx_file=\"/eos/user/n/nkasarag/gnn_results/0to5M_fixwt_trimAhcal_relwtUpd_semiparam_ratio_maxlr6e-4_lrSchCyclic_2agg_lay_msi_10M/all_trainidx.pickle\"\n",
    "\n",
    "#valid_idx = np.load(valid_idx_file)\n",
    "#train_idx = np.load(train_idx_file)\n",
    "\n",
    "valid_idx_f = open(valid_idx_file,\"rb\")\n",
    "valid_idx = np.asarray(pickle.load(valid_idx_f))\n",
    "print(len(valid_idx))\n",
    "\n",
    "train_idx_f = open(train_idx_file,\"rb\")\n",
    "train_idx = np.asarray(pickle.load(train_idx_f))\n",
    "print(len(train_idx))\n",
    "print(preds_trueEn[train_idx[1]])\n",
    "print(trueEn_pkl[train_idx[1]])\n",
    "print(preds_trueEn[valid_idx[1]])\n",
    "print(trueEn_pkl[valid_idx[1]])\n",
    "valid_trueEn_All=[]\n",
    "valid_predEn_All=[]\n",
    "##temp lists\n",
    "valid_trueEn_20=[]\n",
    "valid_predEn_20=[]\n",
    "valid_trueEn_50=[]\n",
    "valid_predEn_50=[]\n",
    "valid_trueEn_80=[]\n",
    "valid_predEn_80=[]\n",
    "valid_trueEn_100=[]\n",
    "valid_predEn_100=[]\n",
    "valid_trueEn_120=[]\n",
    "valid_predEn_120=[]\n",
    "valid_trueEn_200=[]\n",
    "valid_predEn_200=[]\n",
    "valid_trueEn_250=[]\n",
    "valid_predEn_250=[]\n",
    "valid_trueEn_300=[]\n",
    "valid_predEn_300=[]\n",
    "\n",
    "train_trueEn_All=[]\n",
    "train_predEn_All=[]\n",
    "for i in range(len(valid_idx)):\n",
    "    valid_trueEn=(trueEn_pkl[valid_idx[i]])\n",
    "    valid_predEn=(preds_trueEn[valid_idx[i]])\n",
    "    if(valid_trueEn>=18 and valid_trueEn<=22):\n",
    "        valid_trueEn_20.append(valid_trueEn)\n",
    "        valid_predEn_20.append(valid_predEn)\n",
    "    elif(valid_trueEn>=48 and valid_trueEn<=52):\n",
    "        valid_trueEn_50.append(valid_trueEn)\n",
    "        valid_predEn_50.append(valid_predEn)\n",
    "    elif(valid_trueEn>=78 and valid_trueEn<=82):\n",
    "        valid_trueEn_80.append(valid_trueEn)\n",
    "        valid_predEn_80.append(valid_predEn)\n",
    "    elif(valid_trueEn>=98 and valid_trueEn<=102):\n",
    "        valid_trueEn_100.append(valid_trueEn)\n",
    "        valid_predEn_100.append(valid_predEn)\n",
    "    elif(valid_trueEn>=118 and valid_trueEn<=122):\n",
    "        valid_trueEn_120.append(valid_trueEn)\n",
    "        valid_predEn_120.append(valid_predEn)\n",
    "    elif(valid_trueEn>=198 and valid_trueEn<=202):\n",
    "        valid_trueEn_200.append(valid_trueEn)\n",
    "        valid_predEn_200.append(valid_predEn)\n",
    "    elif(valid_trueEn>=248 and valid_trueEn<=252):\n",
    "        valid_trueEn_250.append(valid_trueEn)\n",
    "        valid_predEn_250.append(valid_predEn)\n",
    "    elif(valid_trueEn>=298 and valid_trueEn<=302):\n",
    "        valid_trueEn_300.append(valid_trueEn)\n",
    "        valid_predEn_300.append(valid_predEn)\n",
    "valid_trueEn_All.append(valid_trueEn_20)\n",
    "valid_trueEn_All.append(valid_trueEn_50)\n",
    "valid_trueEn_All.append(valid_trueEn_80)\n",
    "valid_trueEn_All.append(valid_trueEn_100)\n",
    "valid_trueEn_All.append(valid_trueEn_120)\n",
    "valid_trueEn_All.append(valid_trueEn_200)\n",
    "valid_trueEn_All.append(valid_trueEn_250)\n",
    "valid_trueEn_All.append(valid_trueEn_300)\n",
    "\n",
    "valid_predEn_All.append(valid_predEn_20)\n",
    "valid_predEn_All.append(valid_predEn_50)\n",
    "valid_predEn_All.append(valid_predEn_80)\n",
    "valid_predEn_All.append(valid_predEn_100)\n",
    "valid_predEn_All.append(valid_predEn_120)\n",
    "valid_predEn_All.append(valid_predEn_200)\n",
    "valid_predEn_All.append(valid_predEn_250)\n",
    "valid_predEn_All.append(valid_predEn_300)\n",
    "  \n",
    "train_trueEn_20=[]\n",
    "train_predEn_20=[]\n",
    "train_trueEn_50=[]\n",
    "train_predEn_50=[]\n",
    "train_trueEn_80=[]\n",
    "train_predEn_80=[]\n",
    "train_trueEn_100=[]\n",
    "train_predEn_100=[]\n",
    "train_trueEn_120=[]\n",
    "train_predEn_120=[]\n",
    "train_trueEn_200=[]\n",
    "train_predEn_200=[]\n",
    "train_trueEn_250=[]\n",
    "train_predEn_250=[]\n",
    "train_trueEn_300=[]\n",
    "train_predEn_300=[]\n",
    "\n",
    "for i in range(len(train_idx)):\n",
    "    train_trueEn=(trueEn_pkl[train_idx[i]])\n",
    "    train_predEn=(preds_trueEn[train_idx[i]])\n",
    "    if(train_trueEn>=18 and train_trueEn<=22):\n",
    "        train_trueEn_20.append(train_trueEn)\n",
    "        train_predEn_20.append(train_predEn)\n",
    "    elif(train_trueEn>=48 and train_trueEn<=52):\n",
    "        train_trueEn_50.append(train_trueEn)\n",
    "        train_predEn_50.append(train_predEn)\n",
    "    elif(train_trueEn>=78 and train_trueEn<=82):\n",
    "        train_trueEn_80.append(train_trueEn)\n",
    "        train_predEn_80.append(train_predEn)\n",
    "    elif(train_trueEn>=98 and train_trueEn<=102):\n",
    "        train_trueEn_100.append(train_trueEn)\n",
    "        train_predEn_100.append(train_predEn)\n",
    "    elif(train_trueEn>=118 and train_trueEn<=122):\n",
    "        train_trueEn_120.append(train_trueEn)\n",
    "        train_predEn_120.append(train_predEn)\n",
    "    elif(train_trueEn>=198 and train_trueEn<=202):\n",
    "        train_trueEn_200.append(train_trueEn)\n",
    "        train_predEn_200.append(train_predEn)\n",
    "    elif(train_trueEn>=248 and train_trueEn<=252):\n",
    "        train_trueEn_250.append(train_trueEn)\n",
    "        train_predEn_250.append(train_predEn)\n",
    "    elif(train_trueEn>=298 and train_trueEn<=302):\n",
    "        train_trueEn_300.append(train_trueEn)\n",
    "        train_predEn_300.append(train_predEn)\n",
    "train_trueEn_All.append(train_trueEn_20)\n",
    "train_trueEn_All.append(train_trueEn_50)\n",
    "train_trueEn_All.append(train_trueEn_80)\n",
    "train_trueEn_All.append(train_trueEn_100)\n",
    "train_trueEn_All.append(train_trueEn_120)\n",
    "train_trueEn_All.append(train_trueEn_200)\n",
    "train_trueEn_All.append(train_trueEn_250)\n",
    "train_trueEn_All.append(train_trueEn_300)\n",
    "\n",
    "train_predEn_All.append(train_predEn_20)\n",
    "train_predEn_All.append(train_predEn_50)\n",
    "train_predEn_All.append(train_predEn_80)\n",
    "train_predEn_All.append(train_predEn_100)\n",
    "train_predEn_All.append(train_predEn_120)\n",
    "train_predEn_All.append(train_predEn_200)\n",
    "train_predEn_All.append(train_predEn_250)\n",
    "train_predEn_All.append(train_predEn_300)\n",
    "    \n",
    "    \n",
    "np_valid_trueEn=np.array(valid_trueEn_All)\n",
    "np_valid_predEn=np.array(valid_predEn_All)\n",
    "np_train_trueEn=np.array(train_trueEn_All)\n",
    "np_train_predEn=np.array(train_predEn_All)"
   ]
  },
  {
   "cell_type": "code",
   "execution_count": 8,
   "id": "arctic-horizontal",
   "metadata": {},
   "outputs": [
    {
     "name": "stdout",
     "output_type": "stream",
     "text": [
      "80.0\n"
     ]
    }
   ],
   "source": [
    "## reading tb data files\n",
    "#tb_valid_idx_file=\"/eos/user/k/kalpana/SWAN_projects/GNN_Results/FlatEnegrySample_1M/TB_data/all_valididx.pickle\"\n",
    "#tb_train_idx_file=\"/eos/user/k/kalpana/SWAN_projects/GNN_Results/FlatEnegrySample_1M/TB_data/all_trainidx.pickle\"\n",
    "tb_pred_v2 =\"/eos/user/n/nkasarag/gnn_results/0to5M_fixwt_trimAhcal_relwtUpd_semiparam_ratio_maxlr6e-4_lrSchCyclic_2agg_lay_msi_loss2_05/pred.pickle\"\n",
    "\n",
    "\n",
    "with open(tb_pred_v2, \"rb\") as f:\n",
    "    preds_trueEn_tb = np.array(pickle.load(f))\n",
    "#preds_trueEn_tb = np.exp(-preds_trueEn_tb)\n",
    "#preds_trueEn_tb = (preds_trueEn_tb<3)*preds_trueEn_tb + (preds_trueEn_tb>3)*3\n",
    "#preds_trueEn_tb = np.load(\"/eos/user/n/nkasarag/gnn_results/cp_full_lr0001_Ratio_default_rechGeV_fix_wt_ahcalTrim/pred_cut_tb_upscaled.npy\")\n",
    "\n",
    "tb_raw = np.load(\"/eos/user/n/nkasarag/gnn_results/0to5M_fixwt_trimAhcal_relwtUpd_semiparam_ratio_maxlr6e-4_lrSchCyclic_2agg_lay/rawE_up_TB_all_new.npy\")\n",
    "#tb_predPickle = open(tb_pred_v2, \"rb\")\n",
    "#print(tb_predPickle)\n",
    "tb_preds_trueEn = preds_trueEn_tb#*tb_raw\n",
    "\n",
    "tb_trueEn= \"/eos/user/n/nkasarag/gnn_results/cp_full_lr0006_lrShCyclic_Ratio_default_rechGeV_fix_wt_ahcalTrim_semiparam/cp5/trueE_tb.npy\"\n",
    "#tb_trueEnPickle = open(tb_trueEn,\"rb\")\n",
    "tb_trueEn_pkl = np.load(tb_trueEn)\n",
    "print(tb_trueEn_pkl[200000])"
   ]
  },
  {
   "cell_type": "code",
   "execution_count": 9,
   "id": "2eaf8d75",
   "metadata": {},
   "outputs": [
    {
     "name": "stdout",
     "output_type": "stream",
     "text": [
      "53164\n"
     ]
    }
   ],
   "source": [
    "tb_trueEn_All=[]\n",
    "tb_predEn_All=[]\n",
    "##temp lists\n",
    "tb_trueEn_20=[]\n",
    "tb_predEn_20=[]\n",
    "tb_trueEn_50=[]\n",
    "tb_predEn_50=[]\n",
    "tb_trueEn_80=[]\n",
    "tb_predEn_80=[]\n",
    "tb_trueEn_100=[]\n",
    "tb_predEn_100=[]\n",
    "tb_trueEn_120=[]\n",
    "tb_predEn_120=[]\n",
    "tb_trueEn_200=[]\n",
    "tb_predEn_200=[]\n",
    "tb_trueEn_250=[]\n",
    "tb_predEn_250=[]\n",
    "tb_trueEn_300=[]\n",
    "tb_predEn_300=[]\n",
    "\n",
    "for i in range(len(tb_trueEn_pkl)):\n",
    "    tb_trueEn=(tb_trueEn_pkl[i])\n",
    "    tb_predEn=(tb_preds_trueEn[i])\n",
    "    if(tb_trueEn==20):\n",
    "        tb_trueEn_20.append(tb_trueEn)\n",
    "        tb_predEn_20.append(tb_predEn)\n",
    "        #print(tb_trueEn)\n",
    "    elif(tb_trueEn==50):\n",
    "        tb_trueEn_50.append(tb_trueEn)\n",
    "        tb_predEn_50.append(tb_predEn)\n",
    "    elif(tb_trueEn==80):\n",
    "        tb_trueEn_80.append(tb_trueEn)\n",
    "        tb_predEn_80.append(tb_predEn)\n",
    "    elif(tb_trueEn==100):\n",
    "        tb_trueEn_100.append(tb_trueEn)\n",
    "        tb_predEn_100.append(tb_predEn)\n",
    "    elif(tb_trueEn==120):\n",
    "        tb_trueEn_120.append(tb_trueEn)\n",
    "        tb_predEn_120.append(tb_predEn)\n",
    "    elif(tb_trueEn==200):\n",
    "        tb_trueEn_200.append(tb_trueEn)\n",
    "        tb_predEn_200.append(tb_predEn)\n",
    "    elif(tb_trueEn==250):\n",
    "        tb_trueEn_250.append(tb_trueEn)\n",
    "        tb_predEn_250.append(tb_predEn)\n",
    "    elif(tb_trueEn==300):\n",
    "        tb_trueEn_300.append(tb_trueEn)\n",
    "        tb_predEn_300.append(tb_predEn)\n",
    "\n",
    "print(len(tb_predEn_20))\n",
    "tb_trueEn_All.append(tb_trueEn_20)\n",
    "tb_trueEn_All.append(tb_trueEn_50)\n",
    "tb_trueEn_All.append(tb_trueEn_80)\n",
    "tb_trueEn_All.append(tb_trueEn_100)\n",
    "tb_trueEn_All.append(tb_trueEn_120)\n",
    "tb_trueEn_All.append(tb_trueEn_200)\n",
    "tb_trueEn_All.append(tb_trueEn_250)\n",
    "tb_trueEn_All.append(tb_trueEn_300)\n",
    "\n",
    "tb_predEn_All.append(tb_predEn_20)\n",
    "tb_predEn_All.append(tb_predEn_50)\n",
    "tb_predEn_All.append(tb_predEn_80)\n",
    "tb_predEn_All.append(tb_predEn_100)\n",
    "tb_predEn_All.append(tb_predEn_120)\n",
    "tb_predEn_All.append(tb_predEn_200)\n",
    "tb_predEn_All.append(tb_predEn_250)\n",
    "tb_predEn_All.append(tb_predEn_300)\n",
    "\n"
   ]
  },
  {
   "cell_type": "code",
   "execution_count": 10,
   "id": "deadly-astrology",
   "metadata": {},
   "outputs": [
    {
     "name": "stdout",
     "output_type": "stream",
     "text": [
      "Welcome to JupyROOT 6.22/06\n"
     ]
    }
   ],
   "source": [
    "import ROOT\n",
    "fout= ROOT.TFile(\"%s_8dataPoints.root\"%folder, 'RECREATE')\n"
   ]
  },
  {
   "cell_type": "code",
   "execution_count": 11,
   "id": "understood-input",
   "metadata": {},
   "outputs": [],
   "source": [
    "import ROOT\n",
    "hist_pred_Valid=[]\n",
    "hist_true_Valid=[]\n",
    "hist_pred_Train=[]\n",
    "hist_true_Train=[]\n",
    "hist_predTrue_Valid=[]\n",
    "hist_norm_predTrue_Valid=[]\n",
    "hist_predTrue_Train=[]\n",
    "hist_norm_predTrue_Train=[]\n",
    "hist_pred_Tbdata=[]\n",
    "hist_true_Tbdata=[]\n",
    "hist_predTrue_Tbdata=[]\n",
    "hist_norm_predTrue_Tbdata=[]\n",
    "\n",
    "\"\"\"hist_pred_QGSP=[]\n",
    "hist_true_QGSP=[]\n",
    "hist_pred_FTFP=[]\n",
    "hist_true_FTFP=[]\n",
    "hist_predTrue_QGSP=[]\n",
    "hist_norm_predTrue_QGSP=[]\n",
    "hist_predTrue_FTFP=[]\n",
    "hist_norm_predTrue_FTFP=[]\"\"\"\n",
    "hist_2d= ROOT.TH2F(\"hist\",\"true en vs pred en\",300,0,400,300,0,400)\n",
    "hist_2d_tb= ROOT.TH2F(\"hist_tb\",\"true en vs pred en\",300,0,400,300,0,400)\n",
    "Energy=[20,50,80,100,120,200,250,300]\n",
    "M=8 # number of histograms\n",
    "for i_hist in range(M):\n",
    "    if(Energy[i_hist]<100):\n",
    "         xhigh_pred = 4.0*Energy[i_hist]\n",
    "    else: #(bin_range[i_hist]>=100 and bin_range[i_hist]<200):):\n",
    "         xhigh_pred= 3.0*Energy[i_hist]\n",
    "    xhigh_true= 2.0*Energy[i_hist]\n",
    "    xhigh_diff= 20\n",
    "    xlow_diff= -20\n",
    "    xhigh_norm= 5\n",
    "    xlow_norm= -5\n",
    "    name1='TrueEn_%i' %(Energy[i_hist])#,u[i_hist],v[i_hist],typee[i_hist])\n",
    "    hist_pred_Valid.append(ROOT.TH1F('Valid_Predi_%s' % name1, \"\"\":\"Predicted energy in GeV\":\"\"\", 500, 0, xhigh_pred))\n",
    "    hist_true_Valid.append(ROOT.TH1F('Valid_trueEn_%s' % name1, \"\"\":\"true Beam energy in GeV\":\"\"\", 500, 0,xhigh_true ))\n",
    "    hist_pred_Train.append(ROOT.TH1F('Train_Predi_%s' % name1, \"\"\":\"Predicted energy in GeV\":\"\"\", 500, 0, xhigh_pred))\n",
    "    hist_true_Train.append(ROOT.TH1F('Train_trueEn_%s' % name1, \"\"\":\"true Beam energy in GeV\":\"\"\", 500, 0, xhigh_true))\n",
    "    hist_predTrue_Valid.append(ROOT.TH1F('Valid_Diff_Predi_%s' % name1, \"\"\":\"Predicted -true in GeV\":\"\"\", 500, xlow_diff, xhigh_diff))\n",
    "    hist_norm_predTrue_Valid.append(ROOT.TH1F('Valid_norm_pred_trueEn_%s' % name1, \"\"\":\"(pred-true)/true in GeV\":\"\"\", 500, xlow_norm, xhigh_norm))\n",
    "    hist_predTrue_Train.append(ROOT.TH1F('Train_Diff_Predi_%s' % name1, \"\"\":\"Predicted -true in GeV\":\"\"\", 500, xlow_diff, xhigh_diff))\n",
    "    hist_norm_predTrue_Train.append(ROOT.TH1F('Train_norm_pred_trueEn_%s' % name1, \"\"\":\"(pred-true)/true in GeV\":\"\"\", 500, xlow_norm, xhigh_norm))\n",
    "    hist_pred_Tbdata.append(ROOT.TH1F('Tbdata_Predi_%s' % name1, \"\"\":\"Predicted energy in GeV\":\"\"\", 500, 0,xhigh_pred ))\n",
    "    hist_true_Tbdata.append(ROOT.TH1F('Tbdata_trueEn_%s' % name1, \"\"\":\"true Beam energy in GeV\":\"\"\", 500, 0, xhigh_true))\n",
    "    hist_predTrue_Tbdata.append(ROOT.TH1F('Tbdata_Diff_Predi_%s' % name1, \"\"\":\"Predicted -true in GeV\":\"\"\", 500, xlow_diff, xhigh_diff))\n",
    "    hist_norm_predTrue_Tbdata.append(ROOT.TH1F('Tbdata_norm_pred_trueEn_%s' % name1, \"\"\":\"(pred-true)/true in GeV\":\"\"\", 500,xlow_norm, xhigh_norm ))\n",
    "    #hist_pred_QGSP.append(ROOT.TH1F('QGSP_Predi_%s' % name1, \"\"\":\"Predicted energy in GeV\":\"\"\", 500, 0, xhigh_pred))\t\n",
    "    #hist_true_QGSP.append(ROOT.TH1F('QGSP_trueEn_%s' % name1, \"\"\":\"true Beam energy in GeV\":\"\"\", 500, 0,xhigh_true ))\n",
    "    #hist_pred_FTFP.append(ROOT.TH1F('FTFP_Predi_%s' % name1, \"\"\":\"Predicted energy in GeV\":\"\"\", 500, 0, xhigh_pred))\n",
    "    #hist_true_FTFP.append(ROOT.TH1F('FTFP_trueEn_%s' % name1, \"\"\":\"true Beam energy in GeV\":\"\"\", 500, 0, xhigh_true))\n",
    "    #hist_predTrue_QGSP.append(ROOT.TH1F('QGSP_Diff_Predi_%s' % name1, \"\"\":\"Predicted -true in GeV\":\"\"\", 500, xlow_diff, xhigh_diff))\n",
    "    #hist_norm_predTrue_QGSP.append(ROOT.TH1F('QGSP_norm_pred_trueEn_%s' % name1, \"\"\":\"(pred-true)/true in GeV\":\"\"\", 500, xlow_norm, xhigh_norm))\n",
    "    #hist_predTrue_FTFP.append(ROOT.TH1F('FTFP_Diff_Predi_%s' % name1, \"\"\":\"Predicted -true in GeV\":\"\"\", 500, xlow_diff, xhigh_diff))\n",
    "    #hist_norm_predTrue_FTFP.append(ROOT.TH1F('FTFP_norm_pred_trueEn_%s' % name1, \"\"\":\"(pred-true)/true in GeV\":\"\"\", 500, xlow_norm, xhigh_norm))"
   ]
  },
  {
   "cell_type": "code",
   "execution_count": 12,
   "id": "immune-policy",
   "metadata": {},
   "outputs": [
    {
     "name": "stdout",
     "output_type": "stream",
     "text": [
      "27279\n",
      "27099\n",
      "27307\n",
      "27178\n",
      "27122\n",
      "27137\n",
      "27211\n",
      "20289\n",
      "53164\n",
      "46172\n",
      "108018\n",
      "77737\n",
      "55951\n",
      "42584\n",
      "69904\n",
      "79949\n"
     ]
    }
   ],
   "source": [
    "for i_en in range(len(trueEn_pkl)):\n",
    "    hist_2d.Fill(trueEn_pkl[i_en],preds_trueEn[i_en])\n",
    "for i_ev in range(len(tb_preds_trueEn)):\n",
    "    hist_2d_tb.Fill(tb_trueEn_pkl[i_ev],tb_preds_trueEn[i_ev])\n",
    "\n",
    "for i_en in range(8):\n",
    "    for i_ev in range(len(valid_predEn_All[i_en])):\n",
    "        diff= valid_trueEn_All[i_en][i_ev] - valid_predEn_All[i_en][i_ev]\n",
    "        norm = diff/valid_trueEn_All[i_en][i_ev]\n",
    "        hist_pred_Valid[i_en].Fill(valid_predEn_All[i_en][i_ev])\n",
    "        hist_true_Valid[i_en].Fill(valid_trueEn_All[i_en][i_ev])\n",
    "        hist_predTrue_Valid[i_en].Fill(diff)\n",
    "        hist_norm_predTrue_Valid[i_en].Fill(norm)\n",
    "        \n",
    "for i_en in range(8):\n",
    "    print(len(train_predEn_All[i_en]))\n",
    "    for i_ev in range(len(train_predEn_All[i_en])):\n",
    "        diff= train_trueEn_All[i_en][i_ev] - train_predEn_All[i_en][i_ev]\n",
    "        norm = diff/train_trueEn_All[i_en][i_ev]\n",
    "        hist_pred_Train[i_en].Fill(train_predEn_All[i_en][i_ev])\n",
    "        hist_true_Train[i_en].Fill(train_trueEn_All[i_en][i_ev])\n",
    "        hist_predTrue_Train[i_en].Fill(diff)\n",
    "        hist_norm_predTrue_Train[i_en].Fill(norm)\n",
    "        \n",
    "for i_en in range(8):\n",
    "    print(len(tb_predEn_All[i_en]))\n",
    "    for i_ev in range(len(tb_predEn_All[i_en])):\n",
    "        \n",
    "        diff= tb_trueEn_All[i_en][i_ev] - tb_predEn_All[i_en][i_ev]\n",
    "        norm = diff/tb_trueEn_All[i_en][i_ev]\n",
    "        hist_pred_Tbdata[i_en].Fill(tb_predEn_All[i_en][i_ev])\n",
    "        hist_true_Tbdata[i_en].Fill(tb_trueEn_All[i_en][i_ev])\n",
    "        hist_predTrue_Tbdata[i_en].Fill(diff)\n",
    "        hist_norm_predTrue_Tbdata[i_en].Fill(norm)\n",
    "        \n",
    "                          "
   ]
  },
  {
   "cell_type": "code",
   "execution_count": 13,
   "id": "8fe19346",
   "metadata": {},
   "outputs": [],
   "source": [
    "fout.cd()\n",
    "for i in range(8):\n",
    "    hist_pred_Valid[i].Write()\n",
    "    hist_true_Valid[i].Write()\n",
    "    hist_pred_Train[i].Write()\n",
    "    hist_true_Train[i].Write()\n",
    "    hist_predTrue_Valid[i].Write()\n",
    "    hist_norm_predTrue_Valid[i].Write()\n",
    "    hist_predTrue_Train[i].Write()\n",
    "    hist_norm_predTrue_Train[i].Write()\n",
    "    hist_pred_Tbdata[i].Write()\n",
    "    hist_true_Tbdata[i].Write()\n",
    "    hist_predTrue_Tbdata[i].Write()\n",
    "    hist_norm_predTrue_Tbdata[i].Write()\n",
    "    #hist_pred_QGSP[i].Write()\n",
    "    #hist_true_QGSP[i].Write()\n",
    "    #hist_pred_FTFP[i].Write()\n",
    "    #hist_true_FTFP[i].Write()\n",
    "    #hist_predTrue_QGSP[i].Write()\n",
    "    #hist_norm_predTrue_QGSP[i].Write()\n",
    "    #hist_predTrue_FTFP[i].Write()\n",
    "    #hist_norm_predTrue_FTFP[i].Write()\n",
    "hist_2d.Write()\n",
    "hist_2d_tb.Write()\n",
    "\n",
    "fout.Close()"
   ]
  },
  {
   "cell_type": "code",
   "execution_count": null,
   "id": "3e6d402c",
   "metadata": {},
   "outputs": [],
   "source": []
  },
  {
   "cell_type": "code",
   "execution_count": null,
   "id": "c9e80874",
   "metadata": {},
   "outputs": [],
   "source": []
  },
  {
   "cell_type": "code",
   "execution_count": null,
   "id": "c2902ee2",
   "metadata": {},
   "outputs": [],
   "source": []
  },
  {
   "cell_type": "code",
   "execution_count": null,
   "id": "3a2b2c46",
   "metadata": {},
   "outputs": [],
   "source": []
  },
  {
   "cell_type": "code",
   "execution_count": 21,
   "id": "d0ed29fd",
   "metadata": {},
   "outputs": [
    {
     "ename": "PermissionError",
     "evalue": "[Errno 1] Operation not permitted: '/eos/user/k/kalpana/SWAN_projects/GNN_Results/FlatEnegrySample_5M/No_semi/18Epochs/QGSP/pred.pickle'",
     "output_type": "error",
     "traceback": [
      "\u001b[0;31m---------------------------------------------------------------------------\u001b[0m",
      "\u001b[0;31mPermissionError\u001b[0m                           Traceback (most recent call last)",
      "\u001b[0;32m<ipython-input-21-efd52469715b>\u001b[0m in \u001b[0;36m<module>\u001b[0;34m\u001b[0m\n\u001b[1;32m      1\u001b[0m \u001b[0mQGSP_pred_v2\u001b[0m \u001b[0;34m=\u001b[0m\u001b[0;34m\"/eos/user/k/kalpana/SWAN_projects/GNN_Results/FlatEnegrySample_5M/No_semi/18Epochs/QGSP/pred.pickle\"\u001b[0m\u001b[0;34m\u001b[0m\u001b[0;34m\u001b[0m\u001b[0m\n\u001b[0;32m----> 2\u001b[0;31m \u001b[0mQGSP_predPickle\u001b[0m \u001b[0;34m=\u001b[0m \u001b[0mopen\u001b[0m\u001b[0;34m(\u001b[0m\u001b[0mQGSP_pred_v2\u001b[0m\u001b[0;34m,\u001b[0m \u001b[0;34m\"rb\"\u001b[0m\u001b[0;34m)\u001b[0m\u001b[0;34m\u001b[0m\u001b[0;34m\u001b[0m\u001b[0m\n\u001b[0m\u001b[1;32m      3\u001b[0m \u001b[0mprint\u001b[0m\u001b[0;34m(\u001b[0m\u001b[0mQGSP_predPickle\u001b[0m\u001b[0;34m)\u001b[0m\u001b[0;34m\u001b[0m\u001b[0;34m\u001b[0m\u001b[0m\n\u001b[1;32m      4\u001b[0m \u001b[0mQGSP_preds_trueEn\u001b[0m \u001b[0;34m=\u001b[0m \u001b[0mnp\u001b[0m\u001b[0;34m.\u001b[0m\u001b[0masarray\u001b[0m\u001b[0;34m(\u001b[0m\u001b[0mpickle\u001b[0m\u001b[0;34m.\u001b[0m\u001b[0mload\u001b[0m\u001b[0;34m(\u001b[0m\u001b[0mQGSP_predPickle\u001b[0m\u001b[0;34m)\u001b[0m\u001b[0;34m)\u001b[0m\u001b[0;34m\u001b[0m\u001b[0;34m\u001b[0m\u001b[0m\n\u001b[1;32m      5\u001b[0m \u001b[0;34m\u001b[0m\u001b[0m\n",
      "\u001b[0;31mPermissionError\u001b[0m: [Errno 1] Operation not permitted: '/eos/user/k/kalpana/SWAN_projects/GNN_Results/FlatEnegrySample_5M/No_semi/18Epochs/QGSP/pred.pickle'"
     ]
    }
   ],
   "source": [
    "QGSP_pred_v2 =\"/eos/user/k/kalpana/SWAN_projects/GNN_Results/FlatEnegrySample_5M/No_semi/18Epochs/QGSP/pred.pickle\"\n",
    "QGSP_predPickle = open(QGSP_pred_v2, \"rb\")\n",
    "print(QGSP_predPickle)\n",
    "QGSP_preds_trueEn = np.asarray(pickle.load(QGSP_predPickle))\n",
    "\n",
    "QGSP_trueEn= \"/eos/user/k/kalpana/SWAN_projects/GNN_Results/FlatEnegrySample_1M/Nosemi/ScalingMC_RechitLevel/QGSP_tb_/beamEn.pickle\"\n",
    "QGSP_trueEnPickle = open(QGSP_trueEn,\"rb\")\n",
    "QGSP_trueEn_pkl = np.asarray(pickle.load(QGSP_trueEnPickle))\n",
    "print(QGSP_trueEn_pkl[200000])\n",
    "Energy=[20,50,80,100,120,200,250,300]\n",
    "for i in range(len(QGSP_trueEn_pkl)):\n",
    "    QGSP_trueEn=(QGSP_trueEn_pkl[i])\n",
    "    QGSP_predEn=(QGSP_preds_trueEn[i])\n",
    "    diff= QGSP_trueEn - QGSP_predEn\n",
    "    norm = diff/QGSP_trueEn\n",
    "    for ibin in range(8):\n",
    "        if(QGSP_trueEn==Energy[ibin]):\n",
    "            hist_pred_QGSP[ibin].Fill(QGSP_predEn)\n",
    "            hist_true_QGSP[ibin].Fill(QGSP_trueEn)\n",
    "            hist_predTrue_QGSP[ibin].Fill(diff)\n",
    "            hist_norm_predTrue_QGSP[ibin].Fill(norm)"
   ]
  },
  {
   "cell_type": "code",
   "execution_count": 21,
   "id": "88a4f455",
   "metadata": {},
   "outputs": [
    {
     "name": "stdout",
     "output_type": "stream",
     "text": [
      "<_io.BufferedReader name='/eos/user/k/kalpana/SWAN_projects/GNN_Results/FlatEnegrySample_5M/No_semi/18Epochs/FTFP/pred.pickle'>\n",
      "200.0\n"
     ]
    }
   ],
   "source": [
    "FTFP_pred_v2 =\"/eos/user/k/kalpana/SWAN_projects/GNN_Results/FlatEnegrySample_5M/No_semi/18Epochs/FTFP/pred.pickle\"\n",
    "FTFP_predPickle = open(FTFP_pred_v2, \"rb\")\n",
    "print(FTFP_predPickle)\n",
    "FTFP_preds_trueEn = np.asarray(pickle.load(FTFP_predPickle))\n",
    "\n",
    "FTFP_trueEn= \"/eos/user/k/kalpana/SWAN_projects/GNN_Results/FlatEnegrySample_1M/Nosemi/ScalingMC_RechitLevel/FTFP_tb_/beamEn.pickle\"\n",
    "FTFP_trueEnPickle = open(FTFP_trueEn,\"rb\")\n",
    "FTFP_trueEn_pkl = np.asarray(pickle.load(FTFP_trueEnPickle))\n",
    "print(FTFP_trueEn_pkl[200000])\n",
    "Energy=[20,50,80,100,120,200,250,300]\n",
    "for i in range(len(FTFP_trueEn_pkl)):\n",
    "    FTFP_trueEn=(FTFP_trueEn_pkl[i])\n",
    "    FTFP_predEn=(FTFP_preds_trueEn[i])\n",
    "    diff= FTFP_trueEn - FTFP_predEn\n",
    "    norm = diff/FTFP_trueEn\n",
    "    for ibin in range(8):\n",
    "        if(FTFP_trueEn==Energy[ibin]):\n",
    "            hist_pred_FTFP[ibin].Fill(FTFP_predEn)\n",
    "            hist_true_FTFP[ibin].Fill(FTFP_trueEn)\n",
    "            hist_predTrue_FTFP[ibin].Fill(diff)\n",
    "            hist_norm_predTrue_FTFP[ibin].Fill(norm)"
   ]
  },
  {
   "cell_type": "code",
   "execution_count": 11,
   "id": "treated-mailman",
   "metadata": {},
   "outputs": [],
   "source": []
  },
  {
   "cell_type": "code",
   "execution_count": 14,
   "id": "tested-routine",
   "metadata": {},
   "outputs": [
    {
     "data": {
      "image/png": "[encoded data removed]",
      "text/plain": [
       "<Figure size 432x288 with 1 Axes>"
      ]
     },
     "metadata": {
      "needs_background": "light"
     },
     "output_type": "display_data"
    }
   ],
   "source": [
    "+temp_20=np.divide(np_valid_predEn[0],np_valid_trueEn[0])\n",
    "import matplotlib.pyplot as plt\n",
    "n, bins, patches = plt.hist(x=temp_20,bins='auto', color='#0504aa')\n",
    "                              #ha=0.7, rwidth=0.85)\n",
    "#plt.plot(np_valid_predEn[0])\n",
    "#fig, ax = plt.subplots(figsize=(20,10))\n",
    "#fig.plot(np_valid_predEn[0])\n",
    "#ax.plot(training_summary_v1['epoch'],training_summary_v1['valid_loss'], label='valid loss')\n",
    "#ax.set_xlabel('Epochs')\n",
    "#ax.set_ylabel('Loss')\n",
    "#fig.legend(loc=(0.8,0.8))\n",
    "#fig.show()\n",
    "#fig.savefig(\"DRN_semi_dscb_bestArch_With-1MStats-25Epochs.png\")"
   ]
  },
  {
   "cell_type": "code",
   "execution_count": 15,
   "id": "corrected-burlington",
   "metadata": {},
   "outputs": [
    {
     "ename": "NameError",
     "evalue": "name 'plotHist' is not defined",
     "output_type": "error",
     "traceback": [
      "\u001b[0;31m---------------------------------------------------------------------------\u001b[0m",
      "\u001b[0;31mNameError\u001b[0m                                 Traceback (most recent call last)",
      "\u001b[0;32m<ipython-input-15-e916e8735e3f>\u001b[0m in \u001b[0;36m<module>\u001b[0;34m\u001b[0m\n\u001b[1;32m      1\u001b[0m \u001b[0mfig\u001b[0m\u001b[0;34m,\u001b[0m\u001b[0maxes\u001b[0m \u001b[0;34m=\u001b[0m \u001b[0mplt\u001b[0m\u001b[0;34m.\u001b[0m\u001b[0msubplots\u001b[0m\u001b[0;34m(\u001b[0m\u001b[0mfigsize\u001b[0m\u001b[0;34m=\u001b[0m\u001b[0;34m(\u001b[0m\u001b[0;36m12\u001b[0m\u001b[0;34m,\u001b[0m \u001b[0;36m7\u001b[0m\u001b[0;34m)\u001b[0m\u001b[0;34m)\u001b[0m\u001b[0;34m;\u001b[0m\u001b[0;34m\u001b[0m\u001b[0;34m\u001b[0m\u001b[0m\n\u001b[0;32m----> 2\u001b[0;31m plotHist(axes,np_valid_predEn[0], \"Pred Energy in GeV\", \"\",\\\n\u001b[0m\u001b[1;32m      3\u001b[0m          \"\", Nbins = 100, xlog=False, ylog=False)\n\u001b[1;32m      4\u001b[0m \u001b[0mfig\u001b[0m\u001b[0;34m.\u001b[0m\u001b[0mshow\u001b[0m\u001b[0;34m(\u001b[0m\u001b[0;34m)\u001b[0m\u001b[0;34m\u001b[0m\u001b[0;34m\u001b[0m\u001b[0m\n",
      "\u001b[0;31mNameError\u001b[0m: name 'plotHist' is not defined"
     ]
    },
    {
     "data": {
      "image/png": "[encoded data removed]",
      "text/plain": [
       "<Figure size 864x504 with 1 Axes>"
      ]
     },
     "metadata": {
      "needs_background": "light"
     },
     "output_type": "display_data"
    }
   ],
   "source": [
    "fig,axes = plt.subplots(figsize=(12, 7));\n",
    "plotHist(axes,np_valid_predEn[0], \"Pred Energy in GeV\", \"\",\\\n",
    "         \"\", Nbins = 100, xlog=False, ylog=False)\n",
    "fig.show()"
   ]
  },
  {
   "cell_type": "code",
   "execution_count": null,
   "id": "alive-scratch",
   "metadata": {},
   "outputs": [],
   "source": [
    "Training_File = \"/eos/user/k/kalpana/SWAN_projects/GNN_Results/FlatEnegrySample_1M/Nosemi/model_checkpoint_DynamicReductionNetwork_264709_3b812971e1_asirohi.best.pth.tar\""
   ]
  },
  {
   "cell_type": "code",
   "execution_count": 10,
   "id": "6292ca27",
   "metadata": {},
   "outputs": [],
   "source": [
    "tb_raw_up = np.load(\"/eos/user/n/nkasarag/gnn_results/0to5M_fixwt_trimAhcal_relwtUpd_semiparam_ratio_maxlr6e-4_lrSchCyclic_2agg_lay/rawE_up_TB_all_new.npy\")\n",
    "tb_raw = np.load(\"/eos/user/n/nkasarag/gnn_results/0to5M_fixwt_trimAhcal_relwtUpd_semiparam_ratio_maxlr6e-4_lrSchCyclic_2agg_lay/tb_rawE.npy\")"
   ]
  },
  {
   "cell_type": "code",
   "execution_count": 11,
   "id": "b3d1ab46",
   "metadata": {},
   "outputs": [
    {
     "data": {
      "text/plain": [
       "array([ 13.76669768,  15.8403715 ,  10.78427691, ..., 310.88472182,\n",
       "       250.84479367, 414.84940978])"
      ]
     },
     "execution_count": 11,
     "metadata": {},
     "output_type": "execute_result"
    }
   ],
   "source": [
    "tb_raw_up"
   ]
  },
  {
   "cell_type": "code",
   "execution_count": 13,
   "id": "50d0c252",
   "metadata": {},
   "outputs": [
    {
     "data": {
      "text/plain": [
       "array([ 12.59592832,  14.48698832,  10.28457937, ..., 286.43432553,\n",
       "       235.02730372, 379.90389425])"
      ]
     },
     "execution_count": 13,
     "metadata": {},
     "output_type": "execute_result"
    }
   ],
   "source": [
    "tb_raw"
   ]
  },
  {
   "cell_type": "code",
   "execution_count": 24,
   "id": "372af750",
   "metadata": {},
   "outputs": [
    {
     "data": {
      "text/plain": [
       "533479"
      ]
     },
     "execution_count": 24,
     "metadata": {},
     "output_type": "execute_result"
    }
   ],
   "source": [
    "tb_raw_up.size"
   ]
  },
  {
   "cell_type": "code",
   "execution_count": 2,
   "id": "b29506d9",
   "metadata": {},
   "outputs": [
    {
     "name": "stdout",
     "output_type": "stream",
     "text": [
      "80.0\n"
     ]
    }
   ],
   "source": [
    "## reading tb data files\n",
    "#tb_valid_idx_file=\"/eos/user/k/kalpana/SWAN_projects/GNN_Results/FlatEnegrySample_1M/TB_data/all_valididx.pickle\"\n",
    "#tb_train_idx_file=\"/eos/user/k/kalpana/SWAN_projects/GNN_Results/FlatEnegrySample_1M/TB_data/all_trainidx.pickle\"\n",
    "tb_pred_v2 =\"/eos/user/n/nkasarag/gnn_results/0to5M_fixwt_trimAhcal_relwtUpd_semiparam_ratio_maxlr6e-4_lrSchCyclic_2agg_lay/pred_up_old.pickle\"\n",
    "\n",
    "\n",
    "with open(tb_pred_v2, \"rb\") as f:\n",
    "    preds_trueEn_tb = np.array(pickle.load(f))\n",
    "preds_trueEn_tb = (preds_trueEn_tb<3)*preds_trueEn_tb + (preds_trueEn_tb>3)*3\n",
    "#preds_trueEn_tb = np.load(\"/eos/user/n/nkasarag/gnn_results/cp_full_lr0001_Ratio_default_rechGeV_fix_wt_ahcalTrim/pred_cut_tb_upscaled.npy\")\n",
    "\n",
    "tb_raw = np.load(\"/eos/user/n/nkasarag/gnn_results/0to5M_fixwt_trimAhcal_relwtUpd_semiparam_ratio_maxlr6e-4_lrSchCyclic_2agg_lay/rawE_up_TB_all_new.npy\")\n",
    "#tb_predPickle = open(tb_pred_v2, \"rb\")\n",
    "#print(tb_predPickle)\n",
    "tb_preds_trueEn = preds_trueEn_tb*tb_raw\n",
    "\n",
    "tb_trueEn= \"/eos/user/n/nkasarag/gnn_results/cp_full_lr0006_lrShCyclic_Ratio_default_rechGeV_fix_wt_ahcalTrim_semiparam/cp5/trueE_tb.npy\"\n",
    "#tb_trueEnPickle = open(tb_trueEn,\"rb\")\n",
    "tb_trueEn_pkl = np.load(tb_trueEn)\n",
    "print(tb_trueEn_pkl[200000])"
   ]
  },
  {
   "cell_type": "code",
   "execution_count": 3,
   "id": "d7cb3eb2",
   "metadata": {},
   "outputs": [
    {
     "data": {
      "text/plain": [
       "array([ True,  True,  True, ..., False, False, False])"
      ]
     },
     "execution_count": 3,
     "metadata": {},
     "output_type": "execute_result"
    }
   ],
   "source": [
    "tb_trueEn_pkl==20"
   ]
  },
  {
   "cell_type": "code",
   "execution_count": 4,
   "id": "41bc610a",
   "metadata": {},
   "outputs": [
    {
     "data": {
      "text/plain": [
       "array([57.32731417, 47.19198887, 56.60329104, ..., 50.42698955,\n",
       "       57.91839242, 61.03084666])"
      ]
     },
     "execution_count": 4,
     "metadata": {},
     "output_type": "execute_result"
    }
   ],
   "source": [
    "a=tb_preds_trueEn[tb_trueEn_pkl==50]\n",
    "a"
   ]
  },
  {
   "cell_type": "code",
   "execution_count": 5,
   "id": "773b4e15",
   "metadata": {},
   "outputs": [
    {
     "data": {
      "image/png": "[encoded data removed]",
      "text/plain": [
       "<Figure size 432x288 with 1 Axes>"
      ]
     },
     "metadata": {
      "needs_background": "light"
     },
     "output_type": "display_data"
    }
   ],
   "source": [
    "plt.hist(a,bins=500)\n",
    "plt.yscale(\"log\")"
   ]
  },
  {
   "cell_type": "code",
   "execution_count": null,
   "id": "e5edae98",
   "metadata": {},
   "outputs": [],
   "source": []
  }
 ],
 "metadata": {
  "kernelspec": {
   "display_name": "Python 3",
   "language": "python",
   "name": "python3"
  },
  "language_info": {
   "codemirror_mode": {
    "name": "ipython",
    "version": 3
   },
   "file_extension": ".py",
   "mimetype": "text/x-python",
   "name": "python",
   "nbconvert_exporter": "python",
   "pygments_lexer": "ipython3",
   "version": "3.7.6"
  }
 },
 "nbformat": 4,
 "nbformat_minor": 5
}

{
 "cells": [
  {
   "cell_type": "code",
   "execution_count": 3,
   "id": "average-expression",
   "metadata": {},
   "outputs": [],
   "source": [
    "#import the stuff\n",
    "import pandas as pd #dataframes etc\n",
    "import matplotlib.pyplot as plt #plotting\n",
    "import pickle\n",
    "import numpy as np\n",
    "import os, sys\n",
    "import seaborn as sns\n",
    "#training_summary = np.load(\"/eos/user/k/kalpana/SWAN_projects/GNN_Results/FlatEnegrySample_5M/No_semi/constlr1e04_trueE/summaries.npz\")\n",
    "#training_summary1 = np.load(\"/eos/user/k/kalpana/SWAN_projects/GNN_Results/FlatEnegrySample_5M/No_semi/constlr1e04_trueE/summaries_12.npz\")\n",
    "#training_summary2 = np.load(\"/eos/user/k/kalpana/SWAN_projects/GNN_Results/FlatEnegrySample_5M/No_semi/constlr1e04_trueE/summaries_18.npz\")\n",
    "#training_summary3 = np.load(\"/eos/user/k/kalpana/SWAN_projects/GNN_Results/FlatEnegrySample_5M/No_semi/constlr1e04_trueE/summaries_24.npz\")\n",
    "#training_summary4 = np.load(\"/eos/user/k/kalpana/SWAN_projects/GNN_Results/FlatEnegrySample_5M/No_semi/constlr1e04_trueE/summaries_40.npz\")\n",
    "\n",
    "\n",
    "\n",
    "#training_summary2 = np.load(\"/eos/user/k/kalpana/SWAN_projects/GNN_Results/FlatEnegrySample_1M/Nosemi/52_Onwards/summaries.npz\")\n"
   ]
  },
  {
   "cell_type": "code",
   "execution_count": 2,
   "id": "sophisticated-luxembourg",
   "metadata": {},
   "outputs": [
    {
     "ename": "NameError",
     "evalue": "name 'training_summary' is not defined",
     "output_type": "error",
     "traceback": [
      "\u001b[0;31m---------------------------------------------------------------------------\u001b[0m",
      "\u001b[0;31mNameError\u001b[0m                                 Traceback (most recent call last)",
      "\u001b[0;32m<ipython-input-2-42c80be85641>\u001b[0m in \u001b[0;36m<module>\u001b[0;34m\u001b[0m\n\u001b[0;32m----> 1\u001b[0;31m \u001b[0mloss_means\u001b[0m \u001b[0;34m=\u001b[0m \u001b[0mtraining_summary\u001b[0m\u001b[0;34m[\u001b[0m\u001b[0;34m'epoch'\u001b[0m\u001b[0;34m]\u001b[0m\u001b[0;31m#, axis=1)\u001b[0m\u001b[0;34m\u001b[0m\u001b[0;34m\u001b[0m\u001b[0m\n\u001b[0m\u001b[1;32m      2\u001b[0m \u001b[0;31m#loss_means1 = np.mean(training_summary1['acc_loss'], axis=1)\u001b[0m\u001b[0;34m\u001b[0m\u001b[0;34m\u001b[0m\u001b[0;34m\u001b[0m\u001b[0m\n\u001b[1;32m      3\u001b[0m \u001b[0;31m#loss_means2 = np.mean(training_summary2['acc_loss'], axis=1)\u001b[0m\u001b[0;34m\u001b[0m\u001b[0;34m\u001b[0m\u001b[0;34m\u001b[0m\u001b[0m\n\u001b[1;32m      4\u001b[0m \u001b[0;34m\u001b[0m\u001b[0m\n\u001b[1;32m      5\u001b[0m \u001b[0;31m#loss_mean=np.append(loss_means,loss_means1)\u001b[0m\u001b[0;34m\u001b[0m\u001b[0;34m\u001b[0m\u001b[0;34m\u001b[0m\u001b[0m\n",
      "\u001b[0;31mNameError\u001b[0m: name 'training_summary' is not defined"
     ]
    }
   ],
   "source": [
    "loss_means = training_summary['epoch']#, axis=1)\n",
    "#loss_means1 = np.mean(training_summary1['acc_loss'], axis=1)\n",
    "#loss_means2 = np.mean(training_summary2['acc_loss'], axis=1)\n",
    "\n",
    "#loss_mean=np.append(loss_means,loss_means1)\n",
    "print(len(loss_means))"
   ]
  },
  {
   "cell_type": "code",
   "execution_count": null,
   "id": "def5b9dd",
   "metadata": {},
   "outputs": [],
   "source": [
    "[key for key in training_summary1.keys()]"
   ]
  },
  {
   "cell_type": "code",
   "execution_count": null,
   "id": "accredited-positive",
   "metadata": {},
   "outputs": [],
   "source": [
    "print(training_summary2['epoch'])\n",
    "epochs = np.arange(0,50,1)\n",
    "#print(epochs)"
   ]
  },
  {
   "cell_type": "code",
   "execution_count": null,
   "id": "congressional-palmer",
   "metadata": {},
   "outputs": [],
   "source": [
    "loss_means=np.append(training_summary['train_loss'],training_summary1['train_loss'])\n",
    "loss_means1=np.append(loss_means,training_summary2['train_loss'])#,training_summary1['train_loss'])\n",
    "loss_means2=np.append(loss_means1,training_summary3['train_loss'])#,training_summary1['train_loss'])\n",
    "loss_means3=np.append(loss_means2,training_summary4['train_loss'])#,training_summary1['train_loss'])\n",
    "\n",
    "print(len(loss_means3))\n",
    "loss_means_v=np.append(training_summary['valid_loss'],training_summary1['valid_loss'])\n",
    "loss_means1_v=np.append(loss_means_v,training_summary2['valid_loss'])#,validing_summary1['valid_loss'])\n",
    "loss_means2_v=np.append(loss_means1_v,training_summary3['valid_loss'])#,validing_summary1['valid_loss'])\n",
    "loss_means3_v=np.append(loss_means2_v,training_summary4['valid_loss'])#,validing_summary1['valid_loss'])\n",
    "\n"
   ]
  },
  {
   "cell_type": "code",
   "execution_count": null,
   "id": "logical-correspondence",
   "metadata": {},
   "outputs": [],
   "source": [
    "fig, ax = plt.subplots(figsize=(15,10))\n",
    "ax.plot(epochs,loss_means3, label='training loss')\n",
    "ax.plot(epochs,loss_means3_v, label='valid loss')\n",
    "\n",
    "#ax.plot(epochs,loss_means1_v,label='valid loss')\n",
    "ax.set_xlabel('Epochs',fontsize = 20)\n",
    "ax.set_ylabel('Loss',fontsize = 20)\n",
    "#ax.set_ylim(0,10)\n",
    "fig.legend(loc=(0.7,0.8),prop={'size': 20})\n",
    "#plot.legend(loc=2, prop={'size': 6})\n",
    "fig.show()\n",
    "fig.savefig(\"DRN_Nosemi_Tar-trueE_bestArch_With-5MStats-50Epochs_lr1e04.png\")"
   ]
  },
  {
   "cell_type": "code",
   "execution_count": null,
   "id": "social-driving",
   "metadata": {},
   "outputs": [],
   "source": []
  },
  {
   "cell_type": "code",
   "execution_count": null,
   "id": "funky-found",
   "metadata": {},
   "outputs": [],
   "source": [
    "preds_trueEn"
   ]
  },
  {
   "cell_type": "code",
   "execution_count": 4,
   "id": "emotional-diagram",
   "metadata": {},
   "outputs": [],
   "source": [
    "import pickle\n",
    "import numpy as np\n",
    "\n",
    "folder = \"0to1M_fixwt_trimAhcal_relwtUpd_semiparam_mina_1_ratio_maxlr6e-4_lrSchCyclic_2agg_lay_layWise_Ez\"\n",
    "\n",
    "pred_v2 =\"/eos/user/n/nkasarag/gnn_results/%s/pred_tb.pickle\"%folder\n",
    "with open(pred_v2, \"rb\") as f:\n",
    "    preds_trueEn = np.array(pickle.load(f))\n",
    "#preds_trueEn = np.exp(-preds_trueEn)\n",
    "#preds_trueEn = (preds_trueEn<3)*preds_trueEn + (preds_trueEn>3)*3\n",
    "\n",
    "\n",
    "#preds_trueEn = np.load(pred_v2)\n",
    "#rawE = np.load(\"/eos/user/n/nkasarag/gnn_results/0to5M_fixwt_trimAhcal_relwtUpd_semiparam_ratio_maxlr6e-4_lrSchCyclic_2agg_lay_msi_10M/rawE.npy\")\n",
    "rawE = np.load(\"/eos/user/n/nkasarag/gnn_results/0to5M_fixwt_trimAhcal_relwtUpd_semiparam_ratio_maxlr6e-4_lrSchCyclic_2agg_lay/rawE.npy\")[:preds_trueEn.size]\n",
    "\n",
    "\n",
    "\n",
    "preds_trueEn = preds_trueEn*rawE\n",
    "\n",
    "#predPickle = open(pred_v2, \"rb\")\n",
    "#print(predPickle)\n",
    "#preds_trueEn = np.asarray(pickle.load(predPickle))\n",
    "#print(preds[0])"
   ]
  },
  {
   "cell_type": "code",
   "execution_count": 5,
   "id": "fossil-index",
   "metadata": {},
   "outputs": [
    {
     "name": "stdout",
     "output_type": "stream",
     "text": [
      "349.99966\n",
      "373.92511337031704\n",
      "9.999456\n",
      "3.3316333805858283\n",
      "836658\n",
      "836658\n"
     ]
    },
    {
     "data": {
      "text/plain": [
       "(array([[6.7883e+04, 3.9420e+03, 6.8700e+02, 3.2500e+02, 1.8000e+02,\n",
       "         8.6000e+01, 5.7000e+01, 4.0000e+01, 2.7000e+01, 2.0000e+01],\n",
       "        [1.1234e+04, 6.9297e+04, 9.0910e+03, 9.6800e+02, 4.7800e+02,\n",
       "         3.0100e+02, 1.6200e+02, 8.0000e+01, 4.7000e+01, 2.7000e+01],\n",
       "        [8.0000e+00, 9.4700e+03, 6.4845e+04, 1.4863e+04, 1.1550e+03,\n",
       "         6.2300e+02, 3.4000e+02, 2.1700e+02, 1.2600e+02, 7.0000e+01],\n",
       "        [0.0000e+00, 5.2000e+01, 8.5960e+03, 6.0206e+04, 2.0301e+04,\n",
       "         1.5550e+03, 7.1200e+02, 3.7700e+02, 2.2700e+02, 1.4200e+02],\n",
       "        [0.0000e+00, 7.0000e+00, 1.5300e+02, 7.9140e+03, 5.4695e+04,\n",
       "         2.5681e+04, 2.2780e+03, 7.4600e+02, 4.3300e+02, 2.7600e+02],\n",
       "        [0.0000e+00, 0.0000e+00, 1.1000e+01, 2.6200e+02, 7.3730e+03,\n",
       "         4.9345e+04, 2.9625e+04, 3.3720e+03, 8.6700e+02, 4.9800e+02],\n",
       "        [0.0000e+00, 0.0000e+00, 0.0000e+00, 5.4000e+01, 2.9600e+02,\n",
       "         6.9960e+03, 4.4813e+04, 3.2989e+04, 5.0720e+03, 1.1660e+03],\n",
       "        [0.0000e+00, 0.0000e+00, 0.0000e+00, 3.0000e+00, 3.2000e+01,\n",
       "         3.2400e+02, 6.5020e+03, 4.1051e+04, 3.6892e+04, 7.9510e+03],\n",
       "        [0.0000e+00, 0.0000e+00, 0.0000e+00, 0.0000e+00, 0.0000e+00,\n",
       "         1.3000e+01, 1.5100e+02, 5.5130e+03, 3.9616e+04, 5.6879e+04],\n",
       "        [0.0000e+00, 0.0000e+00, 0.0000e+00, 0.0000e+00, 0.0000e+00,\n",
       "         0.0000e+00, 0.0000e+00, 2.1000e+01, 1.0670e+03, 1.6904e+04]]),\n",
       " array([  3.33163338,  40.39098138,  77.45032938, 114.50967738,\n",
       "        151.56902538, 188.62837338, 225.68772137, 262.74706937,\n",
       "        299.80641737, 336.86576537, 373.92511337]),\n",
       " array([  9.99945641,  43.9994772 ,  77.99949799, 111.99951878,\n",
       "        145.99953957, 179.99956036, 213.99958115, 247.99960194,\n",
       "        281.99962273, 315.99964352, 349.99966431]),\n",
       " <matplotlib.collections.QuadMesh at 0x7fcb6c43b390>)"
      ]
     },
     "execution_count": 5,
     "metadata": {},
     "output_type": "execute_result"
    },
    {
     "data": {
      "image/png": "[encoded data removed]",
      "text/plain": [
       "<Figure size 432x288 with 1 Axes>"
      ]
     },
     "metadata": {
      "needs_background": "light"
     },
     "output_type": "display_data"
    }
   ],
   "source": [
    "import awkward\n",
    "trueEn= \"/eos/user/n/nkasarag/gnn_results/0to5M_fixwt_trimAhcal_relwtUpd_semiparam_ratio_maxlr6e-4_lrSchCyclic_2agg_lay/trueE.npy\"\n",
    "trueEn_pkl = np.load(trueEn)[:preds_trueEn.size]\n",
    "#trueEnPickle = open(trueEn,\"rb\")\n",
    "#trueEn_pkl = np.asarray(pickle.load(trueEnPickle))\n",
    "#fig, ax = plt.subplots(figsize=(15,10))\n",
    "#ax.hist(preds_trueEn, bins =1000)\n",
    "#ax.set_xlabel('Predicted Energy')\n",
    "#fig.show()\n",
    "#print(trueEn_pkl[0])\n",
    "print(np.max(trueEn_pkl))\n",
    "print(np.max(preds_trueEn))\n",
    "print(np.min(trueEn_pkl))\n",
    "print(np.min(preds_trueEn))\n",
    "print(len(preds_trueEn))\n",
    "print(len(trueEn_pkl))\n",
    "plt.hist2d(preds_trueEn, trueEn_pkl)"
   ]
  },
  {
   "cell_type": "code",
   "execution_count": 6,
   "id": "american-howard",
   "metadata": {
    "scrolled": true
   },
   "outputs": [
    {
     "name": "stdout",
     "output_type": "stream",
     "text": [
      "167332\n",
      "669326\n",
      "224.74112204808327\n",
      "256.54248\n",
      "325.0780055980639\n",
      "338.0547\n"
     ]
    }
   ],
   "source": [
    "valid_idx_file=\"/eos/user/n/nkasarag/gnn_results/0to1M_fixwt_trimAhcal_relwtUpd_semiparam_mina_1_ratio_maxlr6e-4_lrSchCyclic_2agg_lay_nsm/all_1M_valididx.pickle\"\n",
    "train_idx_file=\"/eos/user/n/nkasarag/gnn_results/0to1M_fixwt_trimAhcal_relwtUpd_semiparam_mina_1_ratio_maxlr6e-4_lrSchCyclic_2agg_lay_nsm/all_1M_trainidx.pickle\"\n",
    "\n",
    "#valid_idx_file=\"/eos/user/n/nkasarag/gnn_results/0to5M_fixwt_trimAhcal_relwtUpd_semiparam_ratio_maxlr6e-4_lrSchCyclic_2agg_lay_msi_10M/all_valididx.pickle\"\n",
    "#train_idx_file=\"/eos/user/n/nkasarag/gnn_results/0to5M_fixwt_trimAhcal_relwtUpd_semiparam_ratio_maxlr6e-4_lrSchCyclic_2agg_lay_msi_10M/all_trainidx.pickle\"\n",
    "\n",
    "#valid_idx = np.load(valid_idx_file)\n",
    "#train_idx = np.load(train_idx_file)\n",
    "\n",
    "valid_idx_f = open(valid_idx_file,\"rb\")\n",
    "valid_idx = np.asarray(pickle.load(valid_idx_f))\n",
    "\n",
    "train_idx_f = open(train_idx_file,\"rb\")\n",
    "train_idx = np.asarray(pickle.load(train_idx_f))\n",
    "\n",
    "#valid_idx_f = open(valid_idx_file,\"rb\")\n",
    "#valid_idx = np.asarray(pickle.load(valid_idx_f))\n",
    "print(len(valid_idx))\n",
    "\n",
    "#train_idx_f = open(train_idx_file,\"rb\")\n",
    "#train_idx = np.asarray(pickle.load(train_idx_f))\n",
    "print(len(train_idx))\n",
    "print(preds_trueEn[train_idx[1]])\n",
    "print(trueEn_pkl[train_idx[1]])\n",
    "print(preds_trueEn[valid_idx[1]])\n",
    "print(trueEn_pkl[valid_idx[1]])\n",
    "valid_trueEn_All=[]\n",
    "valid_predEn_All=[]\n",
    "##temp lists\n",
    "valid_trueEn_20=[]\n",
    "valid_predEn_20=[]\n",
    "valid_trueEn_50=[]\n",
    "valid_predEn_50=[]\n",
    "valid_trueEn_80=[]\n",
    "valid_predEn_80=[]\n",
    "valid_trueEn_100=[]\n",
    "valid_predEn_100=[]\n",
    "valid_trueEn_120=[]\n",
    "valid_predEn_120=[]\n",
    "valid_trueEn_200=[]\n",
    "valid_predEn_200=[]\n",
    "valid_trueEn_250=[]\n",
    "valid_predEn_250=[]\n",
    "valid_trueEn_300=[]\n",
    "valid_predEn_300=[]\n",
    "\n",
    "train_trueEn_All=[]\n",
    "train_predEn_All=[]\n",
    "for i in range(len(valid_idx)):\n",
    "    valid_trueEn=(trueEn_pkl[valid_idx[i]])\n",
    "    valid_predEn=(preds_trueEn[valid_idx[i]])\n",
    "    if(valid_trueEn>=18 and valid_trueEn<=22):\n",
    "        valid_trueEn_20.append(valid_trueEn)\n",
    "        valid_predEn_20.append(valid_predEn)\n",
    "    elif(valid_trueEn>=48 and valid_trueEn<=52):\n",
    "        valid_trueEn_50.append(valid_trueEn)\n",
    "        valid_predEn_50.append(valid_predEn)\n",
    "    elif(valid_trueEn>=78 and valid_trueEn<=82):\n",
    "        valid_trueEn_80.append(valid_trueEn)\n",
    "        valid_predEn_80.append(valid_predEn)\n",
    "    elif(valid_trueEn>=98 and valid_trueEn<=102):\n",
    "        valid_trueEn_100.append(valid_trueEn)\n",
    "        valid_predEn_100.append(valid_predEn)\n",
    "    elif(valid_trueEn>=118 and valid_trueEn<=122):\n",
    "        valid_trueEn_120.append(valid_trueEn)\n",
    "        valid_predEn_120.append(valid_predEn)\n",
    "    elif(valid_trueEn>=198 and valid_trueEn<=202):\n",
    "        valid_trueEn_200.append(valid_trueEn)\n",
    "        valid_predEn_200.append(valid_predEn)\n",
    "    elif(valid_trueEn>=248 and valid_trueEn<=252):\n",
    "        valid_trueEn_250.append(valid_trueEn)\n",
    "        valid_predEn_250.append(valid_predEn)\n",
    "    elif(valid_trueEn>=298 and valid_trueEn<=302):\n",
    "        valid_trueEn_300.append(valid_trueEn)\n",
    "        valid_predEn_300.append(valid_predEn)\n",
    "valid_trueEn_All.append(valid_trueEn_20)\n",
    "valid_trueEn_All.append(valid_trueEn_50)\n",
    "valid_trueEn_All.append(valid_trueEn_80)\n",
    "valid_trueEn_All.append(valid_trueEn_100)\n",
    "valid_trueEn_All.append(valid_trueEn_120)\n",
    "valid_trueEn_All.append(valid_trueEn_200)\n",
    "valid_trueEn_All.append(valid_trueEn_250)\n",
    "valid_trueEn_All.append(valid_trueEn_300)\n",
    "\n",
    "valid_predEn_All.append(valid_predEn_20)\n",
    "valid_predEn_All.append(valid_predEn_50)\n",
    "valid_predEn_All.append(valid_predEn_80)\n",
    "valid_predEn_All.append(valid_predEn_100)\n",
    "valid_predEn_All.append(valid_predEn_120)\n",
    "valid_predEn_All.append(valid_predEn_200)\n",
    "valid_predEn_All.append(valid_predEn_250)\n",
    "valid_predEn_All.append(valid_predEn_300)\n",
    "  \n",
    "train_trueEn_20=[]\n",
    "train_predEn_20=[]\n",
    "train_trueEn_50=[]\n",
    "train_predEn_50=[]\n",
    "train_trueEn_80=[]\n",
    "train_predEn_80=[]\n",
    "train_trueEn_100=[]\n",
    "train_predEn_100=[]\n",
    "train_trueEn_120=[]\n",
    "train_predEn_120=[]\n",
    "train_trueEn_200=[]\n",
    "train_predEn_200=[]\n",
    "train_trueEn_250=[]\n",
    "train_predEn_250=[]\n",
    "train_trueEn_300=[]\n",
    "train_predEn_300=[]\n",
    "\n",
    "for i in range(len(train_idx)):\n",
    "    train_trueEn=(trueEn_pkl[train_idx[i]])\n",
    "    train_predEn=(preds_trueEn[train_idx[i]])\n",
    "    if(train_trueEn>=18 and train_trueEn<=22):\n",
    "        train_trueEn_20.append(train_trueEn)\n",
    "        train_predEn_20.append(train_predEn)\n",
    "    elif(train_trueEn>=48 and train_trueEn<=52):\n",
    "        train_trueEn_50.append(train_trueEn)\n",
    "        train_predEn_50.append(train_predEn)\n",
    "    elif(train_trueEn>=78 and train_trueEn<=82):\n",
    "        train_trueEn_80.append(train_trueEn)\n",
    "        train_predEn_80.append(train_predEn)\n",
    "    elif(train_trueEn>=98 and train_trueEn<=102):\n",
    "        train_trueEn_100.append(train_trueEn)\n",
    "        train_predEn_100.append(train_predEn)\n",
    "    elif(train_trueEn>=118 and train_trueEn<=122):\n",
    "        train_trueEn_120.append(train_trueEn)\n",
    "        train_predEn_120.append(train_predEn)\n",
    "    elif(train_trueEn>=198 and train_trueEn<=202):\n",
    "        train_trueEn_200.append(train_trueEn)\n",
    "        train_predEn_200.append(train_predEn)\n",
    "    elif(train_trueEn>=248 and train_trueEn<=252):\n",
    "        train_trueEn_250.append(train_trueEn)\n",
    "        train_predEn_250.append(train_predEn)\n",
    "    elif(train_trueEn>=298 and train_trueEn<=302):\n",
    "        train_trueEn_300.append(train_trueEn)\n",
    "        train_predEn_300.append(train_predEn)\n",
    "train_trueEn_All.append(train_trueEn_20)\n",
    "train_trueEn_All.append(train_trueEn_50)\n",
    "train_trueEn_All.append(train_trueEn_80)\n",
    "train_trueEn_All.append(train_trueEn_100)\n",
    "train_trueEn_All.append(train_trueEn_120)\n",
    "train_trueEn_All.append(train_trueEn_200)\n",
    "train_trueEn_All.append(train_trueEn_250)\n",
    "train_trueEn_All.append(train_trueEn_300)\n",
    "\n",
    "train_predEn_All.append(train_predEn_20)\n",
    "train_predEn_All.append(train_predEn_50)\n",
    "train_predEn_All.append(train_predEn_80)\n",
    "train_predEn_All.append(train_predEn_100)\n",
    "train_predEn_All.append(train_predEn_120)\n",
    "train_predEn_All.append(train_predEn_200)\n",
    "train_predEn_All.append(train_predEn_250)\n",
    "train_predEn_All.append(train_predEn_300)\n",
    "    \n",
    "    \n",
    "np_valid_trueEn=np.array(valid_trueEn_All)\n",
    "np_valid_predEn=np.array(valid_predEn_All)\n",
    "np_train_trueEn=np.array(train_trueEn_All)\n",
    "np_train_predEn=np.array(train_predEn_All)"
   ]
  },
  {
   "cell_type": "code",
   "execution_count": 7,
   "id": "arctic-horizontal",
   "metadata": {},
   "outputs": [
    {
     "name": "stdout",
     "output_type": "stream",
     "text": [
      "80.0\n"
     ]
    }
   ],
   "source": [
    "## reading tb data files\n",
    "#tb_valid_idx_file=\"/eos/user/k/kalpana/SWAN_projects/GNN_Results/FlatEnegrySample_1M/TB_data/all_valididx.pickle\"\n",
    "#tb_train_idx_file=\"/eos/user/k/kalpana/SWAN_projects/GNN_Results/FlatEnegrySample_1M/TB_data/all_trainidx.pickle\"\n",
    "#tb_pred_v2 =\"/eos/user/n/nkasarag/gnn_results/%s/pred_tb.pickle\"%folder\n",
    "tb_pred_v2 =\"/eos/user/n/nkasarag/gnn_results/0to5M_fixwt_trimAhcal_relwtUpd_semiparam_mina_1_ratio_maxlr6e-4_lrSchCyclic_2agg_lay_nsm/pred.pickle\"\n",
    "\n",
    "\n",
    "with open(tb_pred_v2, \"rb\") as f:\n",
    "    preds_trueEn_tb = np.array(pickle.load(f))\n",
    "#preds_trueEn_tb = np.exp(-preds_trueEn_tb)\n",
    "#preds_trueEn_tb = (preds_trueEn_tb<3)*preds_trueEn_tb + (preds_trueEn_tb>3)*3\n",
    "#preds_trueEn_tb = np.load(\"/eos/user/n/nkasarag/gnn_results/cp_full_lr0001_Ratio_default_rechGeV_fix_wt_ahcalTrim/pred_cut_tb_upscaled.npy\")\n",
    "\n",
    "tb_raw = np.load(\"/eos/user/n/nkasarag/gnn_results/0to5M_fixwt_trimAhcal_relwtUpd_semiparam_ratio_maxlr6e-4_lrSchCyclic_2agg_lay/rawE_up_TB_all_new.npy\")\n",
    "#tb_predPickle = open(tb_pred_v2, \"rb\")\n",
    "#print(tb_predPickle)\n",
    "tb_preds_trueEn = preds_trueEn_tb*tb_raw\n",
    "\n",
    "tb_trueEn= \"/eos/user/n/nkasarag/gnn_results/cp_full_lr0006_lrShCyclic_Ratio_default_rechGeV_fix_wt_ahcalTrim_semiparam/cp5/trueE_tb.npy\"\n",
    "#tb_trueEnPickle = open(tb_trueEn,\"rb\")\n",
    "tb_trueEn_pkl = np.load(tb_trueEn)\n",
    "print(tb_trueEn_pkl[200000])"
   ]
  },
  {
   "cell_type": "code",
   "execution_count": 8,
   "id": "2eaf8d75",
   "metadata": {},
   "outputs": [
    {
     "name": "stdout",
     "output_type": "stream",
     "text": [
      "53164\n"
     ]
    }
   ],
   "source": [
    "tb_trueEn_All=[]\n",
    "tb_predEn_All=[]\n",
    "##temp lists\n",
    "tb_trueEn_20=[]\n",
    "tb_predEn_20=[]\n",
    "tb_trueEn_50=[]\n",
    "tb_predEn_50=[]\n",
    "tb_trueEn_80=[]\n",
    "tb_predEn_80=[]\n",
    "tb_trueEn_100=[]\n",
    "tb_predEn_100=[]\n",
    "tb_trueEn_120=[]\n",
    "tb_predEn_120=[]\n",
    "tb_trueEn_200=[]\n",
    "tb_predEn_200=[]\n",
    "tb_trueEn_250=[]\n",
    "tb_predEn_250=[]\n",
    "tb_trueEn_300=[]\n",
    "tb_predEn_300=[]\n",
    "\n",
    "for i in range(len(tb_trueEn_pkl)):\n",
    "    tb_trueEn=(tb_trueEn_pkl[i])\n",
    "    tb_predEn=(tb_preds_trueEn[i])\n",
    "    if(tb_trueEn==20):\n",
    "        tb_trueEn_20.append(tb_trueEn)\n",
    "        tb_predEn_20.append(tb_predEn)\n",
    "        #print(tb_trueEn)\n",
    "    elif(tb_trueEn==50):\n",
    "        tb_trueEn_50.append(tb_trueEn)\n",
    "        tb_predEn_50.append(tb_predEn)\n",
    "    elif(tb_trueEn==80):\n",
    "        tb_trueEn_80.append(tb_trueEn)\n",
    "        tb_predEn_80.append(tb_predEn)\n",
    "    elif(tb_trueEn==100):\n",
    "        tb_trueEn_100.append(tb_trueEn)\n",
    "        tb_predEn_100.append(tb_predEn)\n",
    "    elif(tb_trueEn==120):\n",
    "        tb_trueEn_120.append(tb_trueEn)\n",
    "        tb_predEn_120.append(tb_predEn)\n",
    "    elif(tb_trueEn==200):\n",
    "        tb_trueEn_200.append(tb_trueEn)\n",
    "        tb_predEn_200.append(tb_predEn)\n",
    "    elif(tb_trueEn==250):\n",
    "        tb_trueEn_250.append(tb_trueEn)\n",
    "        tb_predEn_250.append(tb_predEn)\n",
    "    elif(tb_trueEn==300):\n",
    "        tb_trueEn_300.append(tb_trueEn)\n",
    "        tb_predEn_300.append(tb_predEn)\n",
    "\n",
    "print(len(tb_predEn_20))\n",
    "tb_trueEn_All.append(tb_trueEn_20)\n",
    "tb_trueEn_All.append(tb_trueEn_50)\n",
    "tb_trueEn_All.append(tb_trueEn_80)\n",
    "tb_trueEn_All.append(tb_trueEn_100)\n",
    "tb_trueEn_All.append(tb_trueEn_120)\n",
    "tb_trueEn_All.append(tb_trueEn_200)\n",
    "tb_trueEn_All.append(tb_trueEn_250)\n",
    "tb_trueEn_All.append(tb_trueEn_300)\n",
    "\n",
    "tb_predEn_All.append(tb_predEn_20)\n",
    "tb_predEn_All.append(tb_predEn_50)\n",
    "tb_predEn_All.append(tb_predEn_80)\n",
    "tb_predEn_All.append(tb_predEn_100)\n",
    "tb_predEn_All.append(tb_predEn_120)\n",
    "tb_predEn_All.append(tb_predEn_200)\n",
    "tb_predEn_All.append(tb_predEn_250)\n",
    "tb_predEn_All.append(tb_predEn_300)\n",
    "\n"
   ]
  },
  {
   "cell_type": "code",
   "execution_count": 9,
   "id": "deadly-astrology",
   "metadata": {},
   "outputs": [
    {
     "name": "stdout",
     "output_type": "stream",
     "text": [
      "Welcome to JupyROOT 6.22/06\n"
     ]
    }
   ],
   "source": [
    "import ROOT\n",
    "fout= ROOT.TFile(\"%s_8dataPoints_TBupscaled.root\"%folder, 'RECREATE')\n"
   ]
  },
  {
   "cell_type": "code",
   "execution_count": 10,
   "id": "understood-input",
   "metadata": {},
   "outputs": [],
   "source": [
    "import ROOT\n",
    "hist_pred_Valid=[]\n",
    "hist_true_Valid=[]\n",
    "hist_pred_Train=[]\n",
    "hist_true_Train=[]\n",
    "hist_predTrue_Valid=[]\n",
    "hist_norm_predTrue_Valid=[]\n",
    "hist_predTrue_Train=[]\n",
    "hist_norm_predTrue_Train=[]\n",
    "hist_pred_Tbdata=[]\n",
    "hist_true_Tbdata=[]\n",
    "hist_predTrue_Tbdata=[]\n",
    "hist_norm_predTrue_Tbdata=[]\n",
    "\n",
    "\"\"\"hist_pred_QGSP=[]\n",
    "hist_true_QGSP=[]\n",
    "hist_pred_FTFP=[]\n",
    "hist_true_FTFP=[]\n",
    "hist_predTrue_QGSP=[]\n",
    "hist_norm_predTrue_QGSP=[]\n",
    "hist_predTrue_FTFP=[]\n",
    "hist_norm_predTrue_FTFP=[]\"\"\"\n",
    "hist_2d= ROOT.TH2F(\"hist\",\"true en vs pred en\",300,0,400,300,0,400)\n",
    "hist_2d_tb= ROOT.TH2F(\"hist_tb\",\"true en vs pred en\",300,0,400,300,0,400)\n",
    "Energy=[20,50,80,100,120,200,250,300]\n",
    "M=8 # number of histograms\n",
    "for i_hist in range(M):\n",
    "    if(Energy[i_hist]<100):\n",
    "         xhigh_pred = 4.0*Energy[i_hist]\n",
    "    else: #(bin_range[i_hist]>=100 and bin_range[i_hist]<200):):\n",
    "         xhigh_pred= 3.0*Energy[i_hist]\n",
    "    xhigh_true= 2.0*Energy[i_hist]\n",
    "    xhigh_diff= 20\n",
    "    xlow_diff= -20\n",
    "    xhigh_norm= 5\n",
    "    xlow_norm= -5\n",
    "    name1='TrueEn_%i' %(Energy[i_hist])#,u[i_hist],v[i_hist],typee[i_hist])\n",
    "    hist_pred_Valid.append(ROOT.TH1F('Valid_Predi_%s' % name1, \"\"\":\"Predicted energy in GeV\":\"\"\", 500, 0, xhigh_pred))\n",
    "    hist_true_Valid.append(ROOT.TH1F('Valid_trueEn_%s' % name1, \"\"\":\"true Beam energy in GeV\":\"\"\", 500, 0,xhigh_true ))\n",
    "    hist_pred_Train.append(ROOT.TH1F('Train_Predi_%s' % name1, \"\"\":\"Predicted energy in GeV\":\"\"\", 500, 0, xhigh_pred))\n",
    "    hist_true_Train.append(ROOT.TH1F('Train_trueEn_%s' % name1, \"\"\":\"true Beam energy in GeV\":\"\"\", 500, 0, xhigh_true))\n",
    "    hist_predTrue_Valid.append(ROOT.TH1F('Valid_Diff_Predi_%s' % name1, \"\"\":\"Predicted -true in GeV\":\"\"\", 500, xlow_diff, xhigh_diff))\n",
    "    hist_norm_predTrue_Valid.append(ROOT.TH1F('Valid_norm_pred_trueEn_%s' % name1, \"\"\":\"(pred-true)/true in GeV\":\"\"\", 500, xlow_norm, xhigh_norm))\n",
    "    hist_predTrue_Train.append(ROOT.TH1F('Train_Diff_Predi_%s' % name1, \"\"\":\"Predicted -true in GeV\":\"\"\", 500, xlow_diff, xhigh_diff))\n",
    "    hist_norm_predTrue_Train.append(ROOT.TH1F('Train_norm_pred_trueEn_%s' % name1, \"\"\":\"(pred-true)/true in GeV\":\"\"\", 500, xlow_norm, xhigh_norm))\n",
    "    hist_pred_Tbdata.append(ROOT.TH1F('Tbdata_Predi_%s' % name1, \"\"\":\"Predicted energy in GeV\":\"\"\", 500, 0,xhigh_pred ))\n",
    "    hist_true_Tbdata.append(ROOT.TH1F('Tbdata_trueEn_%s' % name1, \"\"\":\"true Beam energy in GeV\":\"\"\", 500, 0, xhigh_true))\n",
    "    hist_predTrue_Tbdata.append(ROOT.TH1F('Tbdata_Diff_Predi_%s' % name1, \"\"\":\"Predicted -true in GeV\":\"\"\", 500, xlow_diff, xhigh_diff))\n",
    "    hist_norm_predTrue_Tbdata.append(ROOT.TH1F('Tbdata_norm_pred_trueEn_%s' % name1, \"\"\":\"(pred-true)/true in GeV\":\"\"\", 500,xlow_norm, xhigh_norm ))\n",
    "    #hist_pred_QGSP.append(ROOT.TH1F('QGSP_Predi_%s' % name1, \"\"\":\"Predicted energy in GeV\":\"\"\", 500, 0, xhigh_pred))\t\n",
    "    #hist_true_QGSP.append(ROOT.TH1F('QGSP_trueEn_%s' % name1, \"\"\":\"true Beam energy in GeV\":\"\"\", 500, 0,xhigh_true ))\n",
    "    #hist_pred_FTFP.append(ROOT.TH1F('FTFP_Predi_%s' % name1, \"\"\":\"Predicted energy in GeV\":\"\"\", 500, 0, xhigh_pred))\n",
    "    #hist_true_FTFP.append(ROOT.TH1F('FTFP_trueEn_%s' % name1, \"\"\":\"true Beam energy in GeV\":\"\"\", 500, 0, xhigh_true))\n",
    "    #hist_predTrue_QGSP.append(ROOT.TH1F('QGSP_Diff_Predi_%s' % name1, \"\"\":\"Predicted -true in GeV\":\"\"\", 500, xlow_diff, xhigh_diff))\n",
    "    #hist_norm_predTrue_QGSP.append(ROOT.TH1F('QGSP_norm_pred_trueEn_%s' % name1, \"\"\":\"(pred-true)/true in GeV\":\"\"\", 500, xlow_norm, xhigh_norm))\n",
    "    #hist_predTrue_FTFP.append(ROOT.TH1F('FTFP_Diff_Predi_%s' % name1, \"\"\":\"Predicted -true in GeV\":\"\"\", 500, xlow_diff, xhigh_diff))\n",
    "    #hist_norm_predTrue_FTFP.append(ROOT.TH1F('FTFP_norm_pred_trueEn_%s' % name1, \"\"\":\"(pred-true)/true in GeV\":\"\"\", 500, xlow_norm, xhigh_norm))"
   ]
  },
  {
   "cell_type": "code",
   "execution_count": 11,
   "id": "immune-policy",
   "metadata": {},
   "outputs": [
    {
     "name": "stdout",
     "output_type": "stream",
     "text": [
      "7513\n",
      "7831\n",
      "7689\n",
      "7848\n",
      "7980\n",
      "7854\n",
      "7851\n",
      "7904\n",
      "53164\n",
      "46172\n",
      "108018\n",
      "77737\n",
      "55951\n",
      "42584\n",
      "69904\n",
      "79949\n"
     ]
    }
   ],
   "source": [
    "for i_en in range(len(trueEn_pkl)):\n",
    "    hist_2d.Fill(trueEn_pkl[i_en],preds_trueEn[i_en])\n",
    "for i_ev in range(len(tb_preds_trueEn)):\n",
    "    hist_2d_tb.Fill(tb_trueEn_pkl[i_ev],tb_preds_trueEn[i_ev])\n",
    "\n",
    "for i_en in range(8):\n",
    "    for i_ev in range(len(valid_predEn_All[i_en])):\n",
    "        diff= valid_trueEn_All[i_en][i_ev] - valid_predEn_All[i_en][i_ev]\n",
    "        norm = diff/valid_trueEn_All[i_en][i_ev]\n",
    "        hist_pred_Valid[i_en].Fill(valid_predEn_All[i_en][i_ev])\n",
    "        hist_true_Valid[i_en].Fill(valid_trueEn_All[i_en][i_ev])\n",
    "        hist_predTrue_Valid[i_en].Fill(diff)\n",
    "        hist_norm_predTrue_Valid[i_en].Fill(norm)\n",
    "        \n",
    "for i_en in range(8):\n",
    "    print(len(train_predEn_All[i_en]))\n",
    "    for i_ev in range(len(train_predEn_All[i_en])):\n",
    "        diff= train_trueEn_All[i_en][i_ev] - train_predEn_All[i_en][i_ev]\n",
    "        norm = diff/train_trueEn_All[i_en][i_ev]\n",
    "        hist_pred_Train[i_en].Fill(train_predEn_All[i_en][i_ev])\n",
    "        hist_true_Train[i_en].Fill(train_trueEn_All[i_en][i_ev])\n",
    "        hist_predTrue_Train[i_en].Fill(diff)\n",
    "        hist_norm_predTrue_Train[i_en].Fill(norm)\n",
    "        \n",
    "for i_en in range(8):\n",
    "    print(len(tb_predEn_All[i_en]))\n",
    "    for i_ev in range(len(tb_predEn_All[i_en])):\n",
    "        \n",
    "        diff= tb_trueEn_All[i_en][i_ev] - tb_predEn_All[i_en][i_ev]\n",
    "        norm = diff/tb_trueEn_All[i_en][i_ev]\n",
    "        hist_pred_Tbdata[i_en].Fill(tb_predEn_All[i_en][i_ev])\n",
    "        hist_true_Tbdata[i_en].Fill(tb_trueEn_All[i_en][i_ev])\n",
    "        hist_predTrue_Tbdata[i_en].Fill(diff)\n",
    "        hist_norm_predTrue_Tbdata[i_en].Fill(norm)\n",
    "        \n",
    "                          "
   ]
  },
  {
   "cell_type": "code",
   "execution_count": 12,
   "id": "8fe19346",
   "metadata": {},
   "outputs": [],
   "source": [
    "fout.cd()\n",
    "for i in range(8):\n",
    "    hist_pred_Valid[i].Write()\n",
    "    hist_true_Valid[i].Write()\n",
    "    hist_pred_Train[i].Write()\n",
    "    hist_true_Train[i].Write()\n",
    "    hist_predTrue_Valid[i].Write()\n",
    "    hist_norm_predTrue_Valid[i].Write()\n",
    "    hist_predTrue_Train[i].Write()\n",
    "    hist_norm_predTrue_Train[i].Write()\n",
    "    hist_pred_Tbdata[i].Write()\n",
    "    hist_true_Tbdata[i].Write()\n",
    "    hist_predTrue_Tbdata[i].Write()\n",
    "    hist_norm_predTrue_Tbdata[i].Write()\n",
    "    #hist_pred_QGSP[i].Write()\n",
    "    #hist_true_QGSP[i].Write()\n",
    "    #hist_pred_FTFP[i].Write()\n",
    "    #hist_true_FTFP[i].Write()\n",
    "    #hist_predTrue_QGSP[i].Write()\n",
    "    #hist_norm_predTrue_QGSP[i].Write()\n",
    "    #hist_predTrue_FTFP[i].Write()\n",
    "    #hist_norm_predTrue_FTFP[i].Write()\n",
    "hist_2d.Write()\n",
    "hist_2d_tb.Write()\n",
    "\n",
    "fout.Close()"
   ]
  },
  {
   "cell_type": "code",
   "execution_count": null,
   "id": "3e6d402c",
   "metadata": {},
   "outputs": [],
   "source": []
  },
  {
   "cell_type": "code",
   "execution_count": null,
   "id": "c9e80874",
   "metadata": {},
   "outputs": [],
   "source": []
  },
  {
   "cell_type": "code",
   "execution_count": null,
   "id": "c2902ee2",
   "metadata": {},
   "outputs": [],
   "source": []
  },
  {
   "cell_type": "code",
   "execution_count": null,
   "id": "3a2b2c46",
   "metadata": {},
   "outputs": [],
   "source": []
  },
  {
   "cell_type": "code",
   "execution_count": 21,
   "id": "d0ed29fd",
   "metadata": {},
   "outputs": [
    {
     "ename": "PermissionError",
     "evalue": "[Errno 1] Operation not permitted: '/eos/user/k/kalpana/SWAN_projects/GNN_Results/FlatEnegrySample_5M/No_semi/18Epochs/QGSP/pred.pickle'",
     "output_type": "error",
     "traceback": [
      "\u001b[0;31m---------------------------------------------------------------------------\u001b[0m",
      "\u001b[0;31mPermissionError\u001b[0m                           Traceback (most recent call last)",
      "\u001b[0;32m<ipython-input-21-efd52469715b>\u001b[0m in \u001b[0;36m<module>\u001b[0;34m\u001b[0m\n\u001b[1;32m      1\u001b[0m \u001b[0mQGSP_pred_v2\u001b[0m \u001b[0;34m=\u001b[0m\u001b[0;34m\"/eos/user/k/kalpana/SWAN_projects/GNN_Results/FlatEnegrySample_5M/No_semi/18Epochs/QGSP/pred.pickle\"\u001b[0m\u001b[0;34m\u001b[0m\u001b[0;34m\u001b[0m\u001b[0m\n\u001b[0;32m----> 2\u001b[0;31m \u001b[0mQGSP_predPickle\u001b[0m \u001b[0;34m=\u001b[0m \u001b[0mopen\u001b[0m\u001b[0;34m(\u001b[0m\u001b[0mQGSP_pred_v2\u001b[0m\u001b[0;34m,\u001b[0m \u001b[0;34m\"rb\"\u001b[0m\u001b[0;34m)\u001b[0m\u001b[0;34m\u001b[0m\u001b[0;34m\u001b[0m\u001b[0m\n\u001b[0m\u001b[1;32m      3\u001b[0m \u001b[0mprint\u001b[0m\u001b[0;34m(\u001b[0m\u001b[0mQGSP_predPickle\u001b[0m\u001b[0;34m)\u001b[0m\u001b[0;34m\u001b[0m\u001b[0;34m\u001b[0m\u001b[0m\n\u001b[1;32m      4\u001b[0m \u001b[0mQGSP_preds_trueEn\u001b[0m \u001b[0;34m=\u001b[0m \u001b[0mnp\u001b[0m\u001b[0;34m.\u001b[0m\u001b[0masarray\u001b[0m\u001b[0;34m(\u001b[0m\u001b[0mpickle\u001b[0m\u001b[0;34m.\u001b[0m\u001b[0mload\u001b[0m\u001b[0;34m(\u001b[0m\u001b[0mQGSP_predPickle\u001b[0m\u001b[0;34m)\u001b[0m\u001b[0;34m)\u001b[0m\u001b[0;34m\u001b[0m\u001b[0;34m\u001b[0m\u001b[0m\n\u001b[1;32m      5\u001b[0m \u001b[0;34m\u001b[0m\u001b[0m\n",
      "\u001b[0;31mPermissionError\u001b[0m: [Errno 1] Operation not permitted: '/eos/user/k/kalpana/SWAN_projects/GNN_Results/FlatEnegrySample_5M/No_semi/18Epochs/QGSP/pred.pickle'"
     ]
    }
   ],
   "source": [
    "QGSP_pred_v2 =\"/eos/user/k/kalpana/SWAN_projects/GNN_Results/FlatEnegrySample_5M/No_semi/18Epochs/QGSP/pred.pickle\"\n",
    "QGSP_predPickle = open(QGSP_pred_v2, \"rb\")\n",
    "print(QGSP_predPickle)\n",
    "QGSP_preds_trueEn = np.asarray(pickle.load(QGSP_predPickle))\n",
    "\n",
    "QGSP_trueEn= \"/eos/user/k/kalpana/SWAN_projects/GNN_Results/FlatEnegrySample_1M/Nosemi/ScalingMC_RechitLevel/QGSP_tb_/beamEn.pickle\"\n",
    "QGSP_trueEnPickle = open(QGSP_trueEn,\"rb\")\n",
    "QGSP_trueEn_pkl = np.asarray(pickle.load(QGSP_trueEnPickle))\n",
    "print(QGSP_trueEn_pkl[200000])\n",
    "Energy=[20,50,80,100,120,200,250,300]\n",
    "for i in range(len(QGSP_trueEn_pkl)):\n",
    "    QGSP_trueEn=(QGSP_trueEn_pkl[i])\n",
    "    QGSP_predEn=(QGSP_preds_trueEn[i])\n",
    "    diff= QGSP_trueEn - QGSP_predEn\n",
    "    norm = diff/QGSP_trueEn\n",
    "    for ibin in range(8):\n",
    "        if(QGSP_trueEn==Energy[ibin]):\n",
    "            hist_pred_QGSP[ibin].Fill(QGSP_predEn)\n",
    "            hist_true_QGSP[ibin].Fill(QGSP_trueEn)\n",
    "            hist_predTrue_QGSP[ibin].Fill(diff)\n",
    "            hist_norm_predTrue_QGSP[ibin].Fill(norm)"
   ]
  },
  {
   "cell_type": "code",
   "execution_count": 21,
   "id": "88a4f455",
   "metadata": {},
   "outputs": [
    {
     "name": "stdout",
     "output_type": "stream",
     "text": [
      "<_io.BufferedReader name='/eos/user/k/kalpana/SWAN_projects/GNN_Results/FlatEnegrySample_5M/No_semi/18Epochs/FTFP/pred.pickle'>\n",
      "200.0\n"
     ]
    }
   ],
   "source": [
    "FTFP_pred_v2 =\"/eos/user/k/kalpana/SWAN_projects/GNN_Results/FlatEnegrySample_5M/No_semi/18Epochs/FTFP/pred.pickle\"\n",
    "FTFP_predPickle = open(FTFP_pred_v2, \"rb\")\n",
    "print(FTFP_predPickle)\n",
    "FTFP_preds_trueEn = np.asarray(pickle.load(FTFP_predPickle))\n",
    "\n",
    "FTFP_trueEn= \"/eos/user/k/kalpana/SWAN_projects/GNN_Results/FlatEnegrySample_1M/Nosemi/ScalingMC_RechitLevel/FTFP_tb_/beamEn.pickle\"\n",
    "FTFP_trueEnPickle = open(FTFP_trueEn,\"rb\")\n",
    "FTFP_trueEn_pkl = np.asarray(pickle.load(FTFP_trueEnPickle))\n",
    "print(FTFP_trueEn_pkl[200000])\n",
    "Energy=[20,50,80,100,120,200,250,300]\n",
    "for i in range(len(FTFP_trueEn_pkl)):\n",
    "    FTFP_trueEn=(FTFP_trueEn_pkl[i])\n",
    "    FTFP_predEn=(FTFP_preds_trueEn[i])\n",
    "    diff= FTFP_trueEn - FTFP_predEn\n",
    "    norm = diff/FTFP_trueEn\n",
    "    for ibin in range(8):\n",
    "        if(FTFP_trueEn==Energy[ibin]):\n",
    "            hist_pred_FTFP[ibin].Fill(FTFP_predEn)\n",
    "            hist_true_FTFP[ibin].Fill(FTFP_trueEn)\n",
    "            hist_predTrue_FTFP[ibin].Fill(diff)\n",
    "            hist_norm_predTrue_FTFP[ibin].Fill(norm)"
   ]
  },
  {
   "cell_type": "code",
   "execution_count": 11,
   "id": "treated-mailman",
   "metadata": {},
   "outputs": [],
   "source": []
  },
  {
   "cell_type": "code",
   "execution_count": 14,
   "id": "tested-routine",
   "metadata": {},
   "outputs": [
    {
     "data": {
      "image/png": "[encoded data removed]",
      "text/plain": [
       "<Figure size 432x288 with 1 Axes>"
      ]
     },
     "metadata": {
      "needs_background": "light"
     },
     "output_type": "display_data"
    }
   ],
   "source": [
    "+temp_20=np.divide(np_valid_predEn[0],np_valid_trueEn[0])\n",
    "import matplotlib.pyplot as plt\n",
    "n, bins, patches = plt.hist(x=temp_20,bins='auto', color='#0504aa')\n",
    "                              #ha=0.7, rwidth=0.85)\n",
    "#plt.plot(np_valid_predEn[0])\n",
    "#fig, ax = plt.subplots(figsize=(20,10))\n",
    "#fig.plot(np_valid_predEn[0])\n",
    "#ax.plot(training_summary_v1['epoch'],training_summary_v1['valid_loss'], label='valid loss')\n",
    "#ax.set_xlabel('Epochs')\n",
    "#ax.set_ylabel('Loss')\n",
    "#fig.legend(loc=(0.8,0.8))\n",
    "#fig.show()\n",
    "#fig.savefig(\"DRN_semi_dscb_bestArch_With-1MStats-25Epochs.png\")"
   ]
  },
  {
   "cell_type": "code",
   "execution_count": 15,
   "id": "corrected-burlington",
   "metadata": {},
   "outputs": [
    {
     "ename": "NameError",
     "evalue": "name 'plotHist' is not defined",
     "output_type": "error",
     "traceback": [
      "\u001b[0;31m---------------------------------------------------------------------------\u001b[0m",
      "\u001b[0;31mNameError\u001b[0m                                 Traceback (most recent call last)",
      "\u001b[0;32m<ipython-input-15-e916e8735e3f>\u001b[0m in \u001b[0;36m<module>\u001b[0;34m\u001b[0m\n\u001b[1;32m      1\u001b[0m \u001b[0mfig\u001b[0m\u001b[0;34m,\u001b[0m\u001b[0maxes\u001b[0m \u001b[0;34m=\u001b[0m \u001b[0mplt\u001b[0m\u001b[0;34m.\u001b[0m\u001b[0msubplots\u001b[0m\u001b[0;34m(\u001b[0m\u001b[0mfigsize\u001b[0m\u001b[0;34m=\u001b[0m\u001b[0;34m(\u001b[0m\u001b[0;36m12\u001b[0m\u001b[0;34m,\u001b[0m \u001b[0;36m7\u001b[0m\u001b[0;34m)\u001b[0m\u001b[0;34m)\u001b[0m\u001b[0;34m;\u001b[0m\u001b[0;34m\u001b[0m\u001b[0;34m\u001b[0m\u001b[0m\n\u001b[0;32m----> 2\u001b[0;31m plotHist(axes,np_valid_predEn[0], \"Pred Energy in GeV\", \"\",\\\n\u001b[0m\u001b[1;32m      3\u001b[0m          \"\", Nbins = 100, xlog=False, ylog=False)\n\u001b[1;32m      4\u001b[0m \u001b[0mfig\u001b[0m\u001b[0;34m.\u001b[0m\u001b[0mshow\u001b[0m\u001b[0;34m(\u001b[0m\u001b[0;34m)\u001b[0m\u001b[0;34m\u001b[0m\u001b[0;34m\u001b[0m\u001b[0m\n",
      "\u001b[0;31mNameError\u001b[0m: name 'plotHist' is not defined"
     ]
    },
    {
     "data": {
      "image/png": "[encoded data removed]",
      "text/plain": [
       "<Figure size 864x504 with 1 Axes>"
      ]
     },
     "metadata": {
      "needs_background": "light"
     },
     "output_type": "display_data"
    }
   ],
   "source": [
    "fig,axes = plt.subplots(figsize=(12, 7));\n",
    "plotHist(axes,np_valid_predEn[0], \"Pred Energy in GeV\", \"\",\\\n",
    "         \"\", Nbins = 100, xlog=False, ylog=False)\n",
    "fig.show()"
   ]
  },
  {
   "cell_type": "code",
   "execution_count": null,
   "id": "alive-scratch",
   "metadata": {},
   "outputs": [],
   "source": [
    "Training_File = \"/eos/user/k/kalpana/SWAN_projects/GNN_Results/FlatEnegrySample_1M/Nosemi/model_checkpoint_DynamicReductionNetwork_264709_3b812971e1_asirohi.best.pth.tar\""
   ]
  },
  {
   "cell_type": "code",
   "execution_count": 10,
   "id": "6292ca27",
   "metadata": {},
   "outputs": [],
   "source": [
    "tb_raw_up = np.load(\"/eos/user/n/nkasarag/gnn_results/0to5M_fixwt_trimAhcal_relwtUpd_semiparam_ratio_maxlr6e-4_lrSchCyclic_2agg_lay/rawE_up_TB_all_new.npy\")\n",
    "tb_raw = np.load(\"/eos/user/n/nkasarag/gnn_results/0to5M_fixwt_trimAhcal_relwtUpd_semiparam_ratio_maxlr6e-4_lrSchCyclic_2agg_lay/tb_rawE.npy\")"
   ]
  },
  {
   "cell_type": "code",
   "execution_count": 11,
   "id": "b3d1ab46",
   "metadata": {},
   "outputs": [
    {
     "data": {
      "text/plain": [
       "array([ 13.76669768,  15.8403715 ,  10.78427691, ..., 310.88472182,\n",
       "       250.84479367, 414.84940978])"
      ]
     },
     "execution_count": 11,
     "metadata": {},
     "output_type": "execute_result"
    }
   ],
   "source": [
    "tb_raw_up"
   ]
  },
  {
   "cell_type": "code",
   "execution_count": 13,
   "id": "50d0c252",
   "metadata": {},
   "outputs": [
    {
     "data": {
      "text/plain": [
       "array([ 12.59592832,  14.48698832,  10.28457937, ..., 286.43432553,\n",
       "       235.02730372, 379.90389425])"
      ]
     },
     "execution_count": 13,
     "metadata": {},
     "output_type": "execute_result"
    }
   ],
   "source": [
    "tb_raw"
   ]
  },
  {
   "cell_type": "code",
   "execution_count": 24,
   "id": "372af750",
   "metadata": {},
   "outputs": [
    {
     "data": {
      "text/plain": [
       "533479"
      ]
     },
     "execution_count": 24,
     "metadata": {},
     "output_type": "execute_result"
    }
   ],
   "source": [
    "tb_raw_up.size"
   ]
  },
  {
   "cell_type": "code",
   "execution_count": 2,
   "id": "b29506d9",
   "metadata": {},
   "outputs": [
    {
     "name": "stdout",
     "output_type": "stream",
     "text": [
      "80.0\n"
     ]
    }
   ],
   "source": [
    "## reading tb data files\n",
    "#tb_valid_idx_file=\"/eos/user/k/kalpana/SWAN_projects/GNN_Results/FlatEnegrySample_1M/TB_data/all_valididx.pickle\"\n",
    "#tb_train_idx_file=\"/eos/user/k/kalpana/SWAN_projects/GNN_Results/FlatEnegrySample_1M/TB_data/all_trainidx.pickle\"\n",
    "tb_pred_v2 =\"/eos/user/n/nkasarag/gnn_results/0to5M_fixwt_trimAhcal_relwtUpd_semiparam_ratio_maxlr6e-4_lrSchCyclic_2agg_lay/pred_up_old.pickle\"\n",
    "\n",
    "\n",
    "with open(tb_pred_v2, \"rb\") as f:\n",
    "    preds_trueEn_tb = np.array(pickle.load(f))\n",
    "preds_trueEn_tb = (preds_trueEn_tb<3)*preds_trueEn_tb + (preds_trueEn_tb>3)*3\n",
    "#preds_trueEn_tb = np.load(\"/eos/user/n/nkasarag/gnn_results/cp_full_lr0001_Ratio_default_rechGeV_fix_wt_ahcalTrim/pred_cut_tb_upscaled.npy\")\n",
    "\n",
    "tb_raw = np.load(\"/eos/user/n/nkasarag/gnn_results/0to5M_fixwt_trimAhcal_relwtUpd_semiparam_ratio_maxlr6e-4_lrSchCyclic_2agg_lay/rawE_up_TB_all_new.npy\")\n",
    "#tb_predPickle = open(tb_pred_v2, \"rb\")\n",
    "#print(tb_predPickle)\n",
    "tb_preds_trueEn = preds_trueEn_tb*tb_raw\n",
    "\n",
    "tb_trueEn= \"/eos/user/n/nkasarag/gnn_results/cp_full_lr0006_lrShCyclic_Ratio_default_rechGeV_fix_wt_ahcalTrim_semiparam/cp5/trueE_tb.npy\"\n",
    "#tb_trueEnPickle = open(tb_trueEn,\"rb\")\n",
    "tb_trueEn_pkl = np.load(tb_trueEn)\n",
    "print(tb_trueEn_pkl[200000])"
   ]
  },
  {
   "cell_type": "code",
   "execution_count": 3,
   "id": "d7cb3eb2",
   "metadata": {},
   "outputs": [
    {
     "data": {
      "text/plain": [
       "array([ True,  True,  True, ..., False, False, False])"
      ]
     },
     "execution_count": 3,
     "metadata": {},
     "output_type": "execute_result"
    }
   ],
   "source": [
    "tb_trueEn_pkl==20"
   ]
  },
  {
   "cell_type": "code",
   "execution_count": 4,
   "id": "41bc610a",
   "metadata": {},
   "outputs": [
    {
     "data": {
      "text/plain": [
       "array([57.32731417, 47.19198887, 56.60329104, ..., 50.42698955,\n",
       "       57.91839242, 61.03084666])"
      ]
     },
     "execution_count": 4,
     "metadata": {},
     "output_type": "execute_result"
    }
   ],
   "source": [
    "a=tb_preds_trueEn[tb_trueEn_pkl==50]\n",
    "a"
   ]
  },
  {
   "cell_type": "code",
   "execution_count": 5,
   "id": "773b4e15",
   "metadata": {},
   "outputs": [
    {
     "data": {
      "image/png": "[encoded data removed]",
      "text/plain": [
       "<Figure size 432x288 with 1 Axes>"
      ]
     },
     "metadata": {
      "needs_background": "light"
     },
     "output_type": "display_data"
    }
   ],
   "source": [
    "plt.hist(a,bins=500)\n",
    "plt.yscale(\"log\")"
   ]
  },
  {
   "cell_type": "code",
   "execution_count": null,
   "id": "e5edae98",
   "metadata": {},
   "outputs": [],
   "source": []
  }
 ],
 "metadata": {
  "kernelspec": {
   "display_name": "Python 3",
   "language": "python",
   "name": "python3"
  },
  "language_info": {
   "codemirror_mode": {
    "name": "ipython",
    "version": 3
   },
   "file_extension": ".py",
   "mimetype": "text/x-python",
   "name": "python",
   "nbconvert_exporter": "python",
   "pygments_lexer": "ipython3",
   "version": "3.7.6"
  }
 },
 "nbformat": 4,
 "nbformat_minor": 5
}

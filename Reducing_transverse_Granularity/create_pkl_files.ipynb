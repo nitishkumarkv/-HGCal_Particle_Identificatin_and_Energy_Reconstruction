{
 "cells": [
  {
   "cell_type": "code",
   "execution_count": 14,
   "id": "ea77967c",
   "metadata": {},
   "outputs": [],
   "source": [
    "import uproot\n",
    "import pandas as pd\n",
    "import numpy as np\n",
    "import matplotlib.pyplot as plt\n",
    "import time\n",
    "%matplotlib inline\n",
    "import ROOT\n",
    "%jsroot on"
   ]
  },
  {
   "cell_type": "code",
   "execution_count": 22,
   "id": "1edffc39",
   "metadata": {},
   "outputs": [],
   "source": [
    "cell_map_CE = np.load(\"files/reduced_transverse_granularity_by16_cell_map_CEE_CEH.npy\")\n",
    "cell_xy_CE = np.load(\"files/reduced_transverse_granularity_by16_cell_xy_CEE_CEH.npy\")"
   ]
  },
  {
   "cell_type": "code",
   "execution_count": 23,
   "id": "0cc3075a",
   "metadata": {},
   "outputs": [],
   "source": [
    "cell_map_AHCAL = np.load(\"files/reduced_transverse_granularity_by16_cell_map_AHCAL.npy\")\n",
    "cell_xy_AHCAL = np.load(\"files/reduced_transverse_granularity_by16_cell_xy_AHCAL.npy\")"
   ]
  },
  {
   "cell_type": "code",
   "execution_count": 4,
   "id": "0b024d66",
   "metadata": {},
   "outputs": [],
   "source": [
    "#cell_map_CE = np.load(\"files/reduced_transverse_granularity_cell_map_CEE_CEH.npy\")\n",
    "#cell_xy_CE = np.load(\"files/reduced_transverse_granularity_cell_xy_CEE_CEH.npy\")"
   ]
  },
  {
   "cell_type": "code",
   "execution_count": 5,
   "id": "1508079c",
   "metadata": {},
   "outputs": [],
   "source": [
    "#cell_map_AHCAL = np.load(\"files/reduced_transverse_granularity_cell_map_AHCAL.npy\")\n",
    "#cell_xy_AHCAL = np.load(\"files/reduced_transverse_granularity_cell_xy_AHCAL.npy\")"
   ]
  },
  {
   "cell_type": "code",
   "execution_count": null,
   "id": "80a1a3e3",
   "metadata": {},
   "outputs": [],
   "source": []
  },
  {
   "cell_type": "code",
   "execution_count": 24,
   "id": "ee04f701",
   "metadata": {},
   "outputs": [],
   "source": [
    "def new_rechits_ce(df_):\n",
    "    \n",
    "    cell_idxs = []\n",
    "    rechit_x = []\n",
    "    rechit_y = []\n",
    "    rechit_z = []\n",
    "    rechit_ene = []\n",
    "    rechit_lay = []\n",
    "    \n",
    "    rec_lay = df_.rechit_layer\n",
    "    \n",
    "    for lay in range(1,41):\n",
    "    \n",
    "        rec_x = df_.rechit_x[rec_lay==lay]\n",
    "        rec_y = df_.rechit_y[rec_lay==lay]\n",
    "        rec_z = df_.rechit_z[rec_lay==lay]\n",
    "        rec_ene = df_.rechit_energy[rec_lay==lay]\n",
    "        \n",
    "        new_cell_idxs = []\n",
    "        new_rechit_x = []\n",
    "        new_rechit_y = []\n",
    "        new_rechit_z = []\n",
    "        new_rechit_ene = []\n",
    "        new_rechit_lay = []\n",
    "\n",
    "        for rec_i in range(rec_x.size):\n",
    "\n",
    "\n",
    "            xy_array = np.array(np.array([rec_x[rec_i], rec_y[rec_i]]).tolist()).round(5)\n",
    "            #print(xy_array)\n",
    "\n",
    "\n",
    "            cell_idx = cell_map_CE[:,2][(cell_map_CE[:,0:2]==xy_array).all(axis=1)][0]\n",
    "            #print(cell_idx,\"\\n\")\n",
    "\n",
    "\n",
    "            if cell_idx not in new_cell_idxs:\n",
    "\n",
    "                new_cell_idxs.append(cell_idx)\n",
    "\n",
    "                new_rechit_x.append(cell_xy_CE[cell_xy_CE[:,2]==cell_idx][0][0])\n",
    "                new_rechit_y.append(cell_xy_CE[cell_xy_CE[:,2]==cell_idx][0][1])\n",
    "                new_rechit_z.append(rec_z[rec_i])\n",
    "                new_rechit_ene.append(rec_ene[rec_i])\n",
    "                new_rechit_lay.append(lay)\n",
    "\n",
    "            else: new_rechit_ene[new_cell_idxs.index(cell_idx)] += rec_ene[rec_i]\n",
    "                \n",
    "        cell_idxs += new_cell_idxs\n",
    "        rechit_x += new_rechit_x\n",
    "        rechit_y += new_rechit_y\n",
    "        rechit_z += new_rechit_z\n",
    "        rechit_ene += new_rechit_ene\n",
    "        rechit_lay += new_rechit_lay\n",
    "        \n",
    "            \n",
    "    \n",
    "    \n",
    "    return [np.array(rechit_x), np.array(rechit_y), np.array(rechit_z), np.array(rechit_ene), np.array(rechit_lay)]\n",
    "            \n",
    "              "
   ]
  },
  {
   "cell_type": "code",
   "execution_count": 25,
   "id": "4903e414",
   "metadata": {},
   "outputs": [],
   "source": [
    "trim_ahcal_lay = np.array([ 3,  7, 11, 15, 19, 23, 27, 31, 35, 39])\n",
    "\n",
    "def new_rechits_ahc(df_):\n",
    "    \n",
    "    cell_idxs = []\n",
    "    ahc_hit_x = []\n",
    "    ahc_hit_y = []\n",
    "    ahc_hit_z = []\n",
    "    ahc_hit_ene = []\n",
    "    ahc_hit_lay = []\n",
    "    \n",
    "    rec_lay = df_.ahc_hitK\n",
    "    \n",
    "    for lay in range(1,40):\n",
    "        \n",
    "        if lay not in trim_ahcal_lay: continue\n",
    "    \n",
    "        rec_x = df_.ahc_hitX[rec_lay==lay]\n",
    "        rec_y = df_.ahc_hitY[rec_lay==lay]\n",
    "        rec_z = df_.ahc_hitZ[rec_lay==lay]\n",
    "        rec_ene = df_.ahc_hitEnergy[rec_lay==lay]\n",
    "        \n",
    "        new_cell_idxs = []\n",
    "        new_ahc_hit_x = []\n",
    "        new_ahc_hit_y = []\n",
    "        new_ahc_hit_z = []\n",
    "        new_ahc_hit_ene = []\n",
    "        new_ahc_hit_lay = []\n",
    "\n",
    "        for rec_i in range(rec_x.size):\n",
    "\n",
    "\n",
    "            xy_array = np.array(np.array([rec_x[rec_i], rec_y[rec_i]]).tolist()).round(1)\n",
    "            #print(xy_array)\n",
    "\n",
    "\n",
    "            cell_idx = cell_map_AHCAL[:,2][(cell_map_AHCAL[:,0:2]==xy_array).all(axis=1)][0]\n",
    "            #print(cell_idx,\"\\n\")\n",
    "\n",
    "\n",
    "            if cell_idx not in new_cell_idxs:\n",
    "\n",
    "                new_cell_idxs.append(cell_idx)\n",
    "\n",
    "                new_ahc_hit_x.append(cell_xy_AHCAL[cell_xy_AHCAL[:,2]==cell_idx][0][0])\n",
    "                new_ahc_hit_y.append(cell_xy_AHCAL[cell_xy_AHCAL[:,2]==cell_idx][0][1])\n",
    "                new_ahc_hit_z.append(rec_z[rec_i])\n",
    "                new_ahc_hit_ene.append(rec_ene[rec_i])\n",
    "                new_ahc_hit_lay.append(lay)\n",
    "\n",
    "            else: new_ahc_hit_ene[new_cell_idxs.index(cell_idx)] += rec_ene[rec_i]\n",
    "                \n",
    "        cell_idxs += new_cell_idxs\n",
    "        ahc_hit_x += new_ahc_hit_x\n",
    "        ahc_hit_y += new_ahc_hit_y\n",
    "        ahc_hit_z += new_ahc_hit_z\n",
    "        ahc_hit_ene += new_ahc_hit_ene\n",
    "        ahc_hit_lay += new_ahc_hit_lay\n",
    "            \n",
    "    \n",
    "    \n",
    "    return [np.array(ahc_hit_x), np.array(ahc_hit_y), np.array(ahc_hit_z)+159.40000049999998, np.array(ahc_hit_ene), np.array(ahc_hit_lay)]"
   ]
  },
  {
   "cell_type": "code",
   "execution_count": 26,
   "id": "733b18fe",
   "metadata": {},
   "outputs": [],
   "source": [
    "def comb_x(df_):\n",
    "    return np.concatenate([df_.new_rechit_ce_x, df_.new_rechit_ahc_x], axis=0)\n",
    "\n",
    "def comb_y(df_):\n",
    "    return np.concatenate([df_.new_rechit_ce_y, df_.new_rechit_ahc_y], axis=0)\n",
    "    \n",
    "def comb_z(df_):\n",
    "    return np.concatenate([df_.new_rechit_ce_z, df_.new_rechit_ahc_z], axis=0)\n",
    "\n",
    "def comb_ene(df_):\n",
    "    return np.concatenate([df_.new_rechit_ce_ene, df_.new_rechit_ahc_ene], axis=0)"
   ]
  },
  {
   "cell_type": "code",
   "execution_count": null,
   "id": "a7deb4eb",
   "metadata": {},
   "outputs": [],
   "source": []
  },
  {
   "cell_type": "code",
   "execution_count": 27,
   "id": "33414a85",
   "metadata": {},
   "outputs": [],
   "source": [
    "data = uproot.open(\"/eos/user/n/nkasarag/NSM_5M_TB_HGCAL_flat_pion_samples/skimmed_ntuple_sim_config22_pions_1to2M_combinedHgc_Ahc_v46.root\")\n",
    "\n",
    "lst = ['rechit_x',\n",
    " 'rechit_y',\n",
    " 'rechit_z',\n",
    "      'rechit_layer',\n",
    "      'rechit_energy',\n",
    "      'ahc_hitK',\n",
    " 'ahc_hitEnergy',\n",
    " 'ahc_hitX',\n",
    " 'ahc_hitY',\n",
    " 'ahc_hitZ',\n",
    "      'trueBeamEnergy']"
   ]
  },
  {
   "cell_type": "code",
   "execution_count": 28,
   "id": "a02a16ba",
   "metadata": {},
   "outputs": [
    {
     "name": "stdout",
     "output_type": "stream",
     "text": [
      "837795\n"
     ]
    },
    {
     "data": {
      "text/plain": [
       "[0, 100000, 200000, 300000, 400000, 500000, 600000, 700000, 837795]"
      ]
     },
     "execution_count": 28,
     "metadata": {},
     "output_type": "execute_result"
    }
   ],
   "source": [
    "num_events = data[\"pion_variables_v1\"].pandas.df(\"trueBeamEnergy\", flatten=False).trueBeamEnergy.size\n",
    "print(num_events)\n",
    "\n",
    "\n",
    "#event_lst = [0, 100000, 200000, 300000, 400000, num_events]\n",
    "event_lst = [0, 100000, 200000, 300000, 400000, 500000, 600000, 700000, num_events]\n",
    "event_lst"
   ]
  },
  {
   "cell_type": "code",
   "execution_count": 29,
   "id": "fce01d45",
   "metadata": {},
   "outputs": [
    {
     "name": "stdout",
     "output_type": "stream",
     "text": [
      "1 -> mins =  90.63150891860326\n",
      "2 -> mins =  95.36786881685256\n",
      "3 -> mins =  91.01108336051306\n",
      "4 -> mins =  85.39121867020926\n",
      "5 -> mins =  86.34721855719884\n",
      "6 -> mins =  86.01442895730337\n"
     ]
    },
    {
     "ename": "KeyboardInterrupt",
     "evalue": "",
     "output_type": "error",
     "traceback": [
      "\u001b[0;31m---------------------------------------------------------------------------\u001b[0m",
      "\u001b[0;31mKeyboardInterrupt\u001b[0m                         Traceback (most recent call last)",
      "\u001b[0;32m<ipython-input-29-8e969a369494>\u001b[0m in \u001b[0;36m<module>\u001b[0;34m\u001b[0m\n\u001b[1;32m      7\u001b[0m \u001b[0;34m\u001b[0m\u001b[0m\n\u001b[1;32m      8\u001b[0m \u001b[0;34m\u001b[0m\u001b[0m\n\u001b[0;32m----> 9\u001b[0;31m     \u001b[0mrechits_ce\u001b[0m \u001b[0;34m=\u001b[0m \u001b[0mdf\u001b[0m\u001b[0;34m.\u001b[0m\u001b[0mapply\u001b[0m\u001b[0;34m(\u001b[0m\u001b[0mnew_rechits_ce\u001b[0m\u001b[0;34m,\u001b[0m \u001b[0maxis\u001b[0m\u001b[0;34m=\u001b[0m\u001b[0;36m1\u001b[0m\u001b[0;34m)\u001b[0m\u001b[0;34m\u001b[0m\u001b[0;34m\u001b[0m\u001b[0m\n\u001b[0m\u001b[1;32m     10\u001b[0m     \u001b[0mce_df\u001b[0m \u001b[0;34m=\u001b[0m \u001b[0mpd\u001b[0m\u001b[0;34m.\u001b[0m\u001b[0mDataFrame\u001b[0m\u001b[0;34m(\u001b[0m\u001b[0mrechits_ce\u001b[0m\u001b[0;34m.\u001b[0m\u001b[0mvalues\u001b[0m\u001b[0;34m.\u001b[0m\u001b[0mtolist\u001b[0m\u001b[0;34m(\u001b[0m\u001b[0;34m)\u001b[0m\u001b[0;34m,\u001b[0m \u001b[0mcolumns\u001b[0m\u001b[0;34m=\u001b[0m\u001b[0;34m[\u001b[0m\u001b[0;34m\"new_rechit_ce_x\"\u001b[0m\u001b[0;34m,\u001b[0m \u001b[0;34m\"new_rechit_ce_y\"\u001b[0m\u001b[0;34m,\u001b[0m \u001b[0;34m\"new_rechit_ce_z\"\u001b[0m\u001b[0;34m,\u001b[0m \u001b[0;34m\"new_rechit_ce_ene\"\u001b[0m\u001b[0;34m,\u001b[0m \u001b[0;34m\"new_rechit_ce_lay\"\u001b[0m\u001b[0;34m]\u001b[0m\u001b[0;34m)\u001b[0m\u001b[0;34m\u001b[0m\u001b[0;34m\u001b[0m\u001b[0m\n\u001b[1;32m     11\u001b[0m \u001b[0;34m\u001b[0m\u001b[0m\n",
      "\u001b[0;32m/cvmfs/sft.cern.ch/lcg/views/LCG_99cuda/x86_64-centos7-gcc8-opt/lib/python3.7/site-packages/pandas/core/frame.py\u001b[0m in \u001b[0;36mapply\u001b[0;34m(self, func, axis, broadcast, raw, reduce, result_type, args, **kwds)\u001b[0m\n\u001b[1;32m   6485\u001b[0m                          \u001b[0margs\u001b[0m\u001b[0;34m=\u001b[0m\u001b[0margs\u001b[0m\u001b[0;34m,\u001b[0m\u001b[0;34m\u001b[0m\u001b[0;34m\u001b[0m\u001b[0m\n\u001b[1;32m   6486\u001b[0m                          kwds=kwds)\n\u001b[0;32m-> 6487\u001b[0;31m         \u001b[0;32mreturn\u001b[0m \u001b[0mop\u001b[0m\u001b[0;34m.\u001b[0m\u001b[0mget_result\u001b[0m\u001b[0;34m(\u001b[0m\u001b[0;34m)\u001b[0m\u001b[0;34m\u001b[0m\u001b[0;34m\u001b[0m\u001b[0m\n\u001b[0m\u001b[1;32m   6488\u001b[0m \u001b[0;34m\u001b[0m\u001b[0m\n\u001b[1;32m   6489\u001b[0m     \u001b[0;32mdef\u001b[0m \u001b[0mapplymap\u001b[0m\u001b[0;34m(\u001b[0m\u001b[0mself\u001b[0m\u001b[0;34m,\u001b[0m \u001b[0mfunc\u001b[0m\u001b[0;34m)\u001b[0m\u001b[0;34m:\u001b[0m\u001b[0;34m\u001b[0m\u001b[0;34m\u001b[0m\u001b[0m\n",
      "\u001b[0;32m/cvmfs/sft.cern.ch/lcg/views/LCG_99cuda/x86_64-centos7-gcc8-opt/lib/python3.7/site-packages/pandas/core/apply.py\u001b[0m in \u001b[0;36mget_result\u001b[0;34m(self)\u001b[0m\n\u001b[1;32m    149\u001b[0m             \u001b[0;32mreturn\u001b[0m \u001b[0mself\u001b[0m\u001b[0;34m.\u001b[0m\u001b[0mapply_raw\u001b[0m\u001b[0;34m(\u001b[0m\u001b[0;34m)\u001b[0m\u001b[0;34m\u001b[0m\u001b[0;34m\u001b[0m\u001b[0m\n\u001b[1;32m    150\u001b[0m \u001b[0;34m\u001b[0m\u001b[0m\n\u001b[0;32m--> 151\u001b[0;31m         \u001b[0;32mreturn\u001b[0m \u001b[0mself\u001b[0m\u001b[0;34m.\u001b[0m\u001b[0mapply_standard\u001b[0m\u001b[0;34m(\u001b[0m\u001b[0;34m)\u001b[0m\u001b[0;34m\u001b[0m\u001b[0;34m\u001b[0m\u001b[0m\n\u001b[0m\u001b[1;32m    152\u001b[0m \u001b[0;34m\u001b[0m\u001b[0m\n\u001b[1;32m    153\u001b[0m     \u001b[0;32mdef\u001b[0m \u001b[0mapply_empty_result\u001b[0m\u001b[0;34m(\u001b[0m\u001b[0mself\u001b[0m\u001b[0;34m)\u001b[0m\u001b[0;34m:\u001b[0m\u001b[0;34m\u001b[0m\u001b[0;34m\u001b[0m\u001b[0m\n",
      "\u001b[0;32m/cvmfs/sft.cern.ch/lcg/views/LCG_99cuda/x86_64-centos7-gcc8-opt/lib/python3.7/site-packages/pandas/core/apply.py\u001b[0m in \u001b[0;36mapply_standard\u001b[0;34m(self)\u001b[0m\n\u001b[1;32m    249\u001b[0m                                           \u001b[0maxis\u001b[0m\u001b[0;34m=\u001b[0m\u001b[0mself\u001b[0m\u001b[0;34m.\u001b[0m\u001b[0maxis\u001b[0m\u001b[0;34m,\u001b[0m\u001b[0;34m\u001b[0m\u001b[0;34m\u001b[0m\u001b[0m\n\u001b[1;32m    250\u001b[0m                                           \u001b[0mdummy\u001b[0m\u001b[0;34m=\u001b[0m\u001b[0mdummy\u001b[0m\u001b[0;34m,\u001b[0m\u001b[0;34m\u001b[0m\u001b[0;34m\u001b[0m\u001b[0m\n\u001b[0;32m--> 251\u001b[0;31m                                           labels=labels)\n\u001b[0m\u001b[1;32m    252\u001b[0m                 \u001b[0;32mreturn\u001b[0m \u001b[0mself\u001b[0m\u001b[0;34m.\u001b[0m\u001b[0mobj\u001b[0m\u001b[0;34m.\u001b[0m\u001b[0m_constructor_sliced\u001b[0m\u001b[0;34m(\u001b[0m\u001b[0mresult\u001b[0m\u001b[0;34m,\u001b[0m \u001b[0mindex\u001b[0m\u001b[0;34m=\u001b[0m\u001b[0mlabels\u001b[0m\u001b[0;34m)\u001b[0m\u001b[0;34m\u001b[0m\u001b[0;34m\u001b[0m\u001b[0m\n\u001b[1;32m    253\u001b[0m             \u001b[0;32mexcept\u001b[0m \u001b[0mException\u001b[0m\u001b[0;34m:\u001b[0m\u001b[0;34m\u001b[0m\u001b[0;34m\u001b[0m\u001b[0m\n",
      "\u001b[0;32mpandas/_libs/reduction.pyx\u001b[0m in \u001b[0;36mpandas._libs.reduction.reduce\u001b[0;34m()\u001b[0m\n",
      "\u001b[0;32mpandas/_libs/reduction.pyx\u001b[0m in \u001b[0;36mpandas._libs.reduction.Reducer.get_result\u001b[0;34m()\u001b[0m\n",
      "\u001b[0;32m<ipython-input-24-bfacc521d8e2>\u001b[0m in \u001b[0;36mnew_rechits_ce\u001b[0;34m(df_)\u001b[0m\n\u001b[1;32m     39\u001b[0m                 \u001b[0mnew_cell_idxs\u001b[0m\u001b[0;34m.\u001b[0m\u001b[0mappend\u001b[0m\u001b[0;34m(\u001b[0m\u001b[0mcell_idx\u001b[0m\u001b[0;34m)\u001b[0m\u001b[0;34m\u001b[0m\u001b[0;34m\u001b[0m\u001b[0m\n\u001b[1;32m     40\u001b[0m \u001b[0;34m\u001b[0m\u001b[0m\n\u001b[0;32m---> 41\u001b[0;31m                 \u001b[0mnew_rechit_x\u001b[0m\u001b[0;34m.\u001b[0m\u001b[0mappend\u001b[0m\u001b[0;34m(\u001b[0m\u001b[0mcell_xy_CE\u001b[0m\u001b[0;34m[\u001b[0m\u001b[0mcell_xy_CE\u001b[0m\u001b[0;34m[\u001b[0m\u001b[0;34m:\u001b[0m\u001b[0;34m,\u001b[0m\u001b[0;36m2\u001b[0m\u001b[0;34m]\u001b[0m\u001b[0;34m==\u001b[0m\u001b[0mcell_idx\u001b[0m\u001b[0;34m]\u001b[0m\u001b[0;34m[\u001b[0m\u001b[0;36m0\u001b[0m\u001b[0;34m]\u001b[0m\u001b[0;34m[\u001b[0m\u001b[0;36m0\u001b[0m\u001b[0;34m]\u001b[0m\u001b[0;34m)\u001b[0m\u001b[0;34m\u001b[0m\u001b[0;34m\u001b[0m\u001b[0m\n\u001b[0m\u001b[1;32m     42\u001b[0m                 \u001b[0mnew_rechit_y\u001b[0m\u001b[0;34m.\u001b[0m\u001b[0mappend\u001b[0m\u001b[0;34m(\u001b[0m\u001b[0mcell_xy_CE\u001b[0m\u001b[0;34m[\u001b[0m\u001b[0mcell_xy_CE\u001b[0m\u001b[0;34m[\u001b[0m\u001b[0;34m:\u001b[0m\u001b[0;34m,\u001b[0m\u001b[0;36m2\u001b[0m\u001b[0;34m]\u001b[0m\u001b[0;34m==\u001b[0m\u001b[0mcell_idx\u001b[0m\u001b[0;34m]\u001b[0m\u001b[0;34m[\u001b[0m\u001b[0;36m0\u001b[0m\u001b[0;34m]\u001b[0m\u001b[0;34m[\u001b[0m\u001b[0;36m1\u001b[0m\u001b[0;34m]\u001b[0m\u001b[0;34m)\u001b[0m\u001b[0;34m\u001b[0m\u001b[0;34m\u001b[0m\u001b[0m\n\u001b[1;32m     43\u001b[0m                 \u001b[0mnew_rechit_z\u001b[0m\u001b[0;34m.\u001b[0m\u001b[0mappend\u001b[0m\u001b[0;34m(\u001b[0m\u001b[0mrec_z\u001b[0m\u001b[0;34m[\u001b[0m\u001b[0mrec_i\u001b[0m\u001b[0;34m]\u001b[0m\u001b[0;34m)\u001b[0m\u001b[0;34m\u001b[0m\u001b[0;34m\u001b[0m\u001b[0m\n",
      "\u001b[0;31mKeyboardInterrupt\u001b[0m: "
     ]
    }
   ],
   "source": [
    "for i in range(9):\n",
    "    \n",
    "    time1 = time.time()\n",
    "    \n",
    "    df = data[\"pion_variables_v1\"].pandas.df(lst, flatten=False, entrystart=event_lst[i], entrystop=event_lst[i+1])\n",
    "    df.reset_index(inplace=True)\n",
    "    \n",
    "    \n",
    "    rechits_ce = df.apply(new_rechits_ce, axis=1)\n",
    "    ce_df = pd.DataFrame(rechits_ce.values.tolist(), columns=[\"new_rechit_ce_x\", \"new_rechit_ce_y\", \"new_rechit_ce_z\", \"new_rechit_ce_ene\", \"new_rechit_ce_lay\"])\n",
    "\n",
    "    rechits_ahc = df.apply(new_rechits_ahc, axis=1)\n",
    "    ahc_df = pd.DataFrame(rechits_ahc.values.tolist(), columns=[\"new_rechit_ahc_x\", \"new_rechit_ahc_y\", \"new_rechit_ahc_z\", \"new_rechit_ahc_ene\", \"new_rechit_ahc_lay\"])\n",
    "    \n",
    "    df = pd.concat([df, ce_df, ahc_df], axis=1)\n",
    "    \n",
    "    \n",
    "    df[\"reduced_x\"] = df.apply(comb_x, axis=1)\n",
    "    df[\"reduced_y\"] = df.apply(comb_y, axis=1)\n",
    "    df[\"reduced_z\"] = df.apply(comb_z, axis=1)\n",
    "    df[\"reduced_ene\"] = df.apply(comb_ene, axis=1)\n",
    "    \n",
    "    \n",
    "    df_to_save = df[[\"trueBeamEnergy\", \"reduced_x\", \"reduced_y\", \"reduced_z\", \"reduced_ene\"]]\n",
    "    \n",
    "    \n",
    "    df_to_save.to_pickle(\"pkl_files/red_by16/1to2M/event_%sto%s_0to1M.pickle\"%(str(event_lst[i]), str(event_lst[i+1])))\n",
    "    \n",
    "    print(i+1, \"-> mins = \", (time.time()-time1)/60)\n"
   ]
  },
  {
   "cell_type": "code",
   "execution_count": null,
   "id": "e47d35a4",
   "metadata": {},
   "outputs": [],
   "source": []
  },
  {
   "cell_type": "code",
   "execution_count": null,
   "id": "097a9f88",
   "metadata": {},
   "outputs": [],
   "source": []
  },
  {
   "cell_type": "code",
   "execution_count": 14,
   "id": "71654026",
   "metadata": {},
   "outputs": [],
   "source": [
    "import pickle\n",
    "\n",
    "with open(\"pkl_files/test.pickle\", \"rb\") as f:\n",
    "    a=pickle.load(f)"
   ]
  },
  {
   "cell_type": "code",
   "execution_count": 15,
   "id": "1cceaf6c",
   "metadata": {},
   "outputs": [
    {
     "data": {
      "text/html": [
       "<div>\n",
       "<style scoped>\n",
       "    .dataframe tbody tr th:only-of-type {\n",
       "        vertical-align: middle;\n",
       "    }\n",
       "\n",
       "    .dataframe tbody tr th {\n",
       "        vertical-align: top;\n",
       "    }\n",
       "\n",
       "    .dataframe thead th {\n",
       "        text-align: right;\n",
       "    }\n",
       "</style>\n",
       "<table border=\"1\" class=\"dataframe\">\n",
       "  <thead>\n",
       "    <tr style=\"text-align: right;\">\n",
       "      <th></th>\n",
       "      <th>trueBeamEnergy</th>\n",
       "      <th>reduced_x</th>\n",
       "      <th>reduced_y</th>\n",
       "      <th>reduced_z</th>\n",
       "      <th>reduced_ene</th>\n",
       "    </tr>\n",
       "  </thead>\n",
       "  <tbody>\n",
       "    <tr>\n",
       "      <th>0</th>\n",
       "      <td>232.958725</td>\n",
       "      <td>[-1.45764, -1.45764, -1.45764, -1.45764, -1.45...</td>\n",
       "      <td>[2.52472, 2.52472, 2.52472, 2.52472, 2.52472, ...</td>\n",
       "      <td>[13.8775, 14.7675, 16.7825, 17.6725, 19.6875, ...</td>\n",
       "      <td>[24.004648, 47.36815, 79.67454, 328.24393, 391...</td>\n",
       "    </tr>\n",
       "    <tr>\n",
       "      <th>1</th>\n",
       "      <td>59.094654</td>\n",
       "      <td>[-3.40117, -3.40117, -3.40117, -3.40117, -3.40...</td>\n",
       "      <td>[2.52472, 2.52472, 2.52472, 2.52472, 2.52472, ...</td>\n",
       "      <td>[13.8774995803833, 14.767499923706055, 16.7824...</td>\n",
       "      <td>[20.518417358398438, 49.82566833496094, 27.543...</td>\n",
       "    </tr>\n",
       "    <tr>\n",
       "      <th>2</th>\n",
       "      <td>250.189209</td>\n",
       "      <td>[-3.40117, -3.40117, -3.40117, -3.40117, -3.40...</td>\n",
       "      <td>[2.52472, 2.52472, 2.52472, 2.52472, 2.52472, ...</td>\n",
       "      <td>[13.8775, 14.7675, 16.7825, 17.6725, 19.6875, ...</td>\n",
       "      <td>[48.838333, 71.61738, 54.37345, 104.23062, 218...</td>\n",
       "    </tr>\n",
       "    <tr>\n",
       "      <th>3</th>\n",
       "      <td>312.932007</td>\n",
       "      <td>[-1.45764, -1.45764, -1.45764, -1.45764, -1.45...</td>\n",
       "      <td>[2.52472, 2.52472, 2.52472, 2.52472, 2.52472, ...</td>\n",
       "      <td>[13.8775, 14.7675, 16.7825, 17.6725, 19.6875, ...</td>\n",
       "      <td>[61.70473, 103.26814, 82.29268, 49.790646, 186...</td>\n",
       "    </tr>\n",
       "    <tr>\n",
       "      <th>4</th>\n",
       "      <td>62.493023</td>\n",
       "      <td>[-3.40117, -3.40117, -3.40117, -3.40117, -3.40...</td>\n",
       "      <td>[2.52472, 2.52472, 2.52472, 0.28053, 2.52472, ...</td>\n",
       "      <td>[13.8775, 14.7675, 16.7825, 16.7825, 17.6725, ...</td>\n",
       "      <td>[32.033787, 63.76382, 119.42364, 63.976162, 59...</td>\n",
       "    </tr>\n",
       "  </tbody>\n",
       "</table>\n",
       "</div>"
      ],
      "text/plain": [
       "   trueBeamEnergy                                          reduced_x  \\\n",
       "0      232.958725  [-1.45764, -1.45764, -1.45764, -1.45764, -1.45...   \n",
       "1       59.094654  [-3.40117, -3.40117, -3.40117, -3.40117, -3.40...   \n",
       "2      250.189209  [-3.40117, -3.40117, -3.40117, -3.40117, -3.40...   \n",
       "3      312.932007  [-1.45764, -1.45764, -1.45764, -1.45764, -1.45...   \n",
       "4       62.493023  [-3.40117, -3.40117, -3.40117, -3.40117, -3.40...   \n",
       "\n",
       "                                           reduced_y  \\\n",
       "0  [2.52472, 2.52472, 2.52472, 2.52472, 2.52472, ...   \n",
       "1  [2.52472, 2.52472, 2.52472, 2.52472, 2.52472, ...   \n",
       "2  [2.52472, 2.52472, 2.52472, 2.52472, 2.52472, ...   \n",
       "3  [2.52472, 2.52472, 2.52472, 2.52472, 2.52472, ...   \n",
       "4  [2.52472, 2.52472, 2.52472, 0.28053, 2.52472, ...   \n",
       "\n",
       "                                           reduced_z  \\\n",
       "0  [13.8775, 14.7675, 16.7825, 17.6725, 19.6875, ...   \n",
       "1  [13.8774995803833, 14.767499923706055, 16.7824...   \n",
       "2  [13.8775, 14.7675, 16.7825, 17.6725, 19.6875, ...   \n",
       "3  [13.8775, 14.7675, 16.7825, 17.6725, 19.6875, ...   \n",
       "4  [13.8775, 14.7675, 16.7825, 16.7825, 17.6725, ...   \n",
       "\n",
       "                                         reduced_ene  \n",
       "0  [24.004648, 47.36815, 79.67454, 328.24393, 391...  \n",
       "1  [20.518417358398438, 49.82566833496094, 27.543...  \n",
       "2  [48.838333, 71.61738, 54.37345, 104.23062, 218...  \n",
       "3  [61.70473, 103.26814, 82.29268, 49.790646, 186...  \n",
       "4  [32.033787, 63.76382, 119.42364, 63.976162, 59...  "
      ]
     },
     "execution_count": 15,
     "metadata": {},
     "output_type": "execute_result"
    }
   ],
   "source": [
    "a.head()"
   ]
  },
  {
   "cell_type": "code",
   "execution_count": 16,
   "id": "078920d8",
   "metadata": {},
   "outputs": [
    {
     "data": {
      "text/plain": [
       "array([ 13.87749958,  14.76749992,  16.78249931,  17.67250061,\n",
       "        19.6875    ,  20.57749939,  22.69249916,  23.58250046,\n",
       "        25.69750023,  26.58749962,  28.70249939,  29.59250069,\n",
       "        31.50749969,  32.39749908,  34.3125    ,  35.20249939,\n",
       "        37.11750031,  38.00749969,  39.92250061,  40.8125    ,\n",
       "        42.90750122,  44.03749847,  46.41249847,  47.54249954,\n",
       "        49.68199921,  50.68799973,  52.88150024,  53.9034996 ,\n",
       "        64.61849976,  71.3259964 ,  78.03350067,  84.84100342,\n",
       "        91.54850006,  98.23600006, 115.15299988, 122.56099701,\n",
       "       129.96899414, 137.79600525, 145.20300293, 152.51100159,\n",
       "       166.91999817, 177.3999939 , 187.87998962, 198.35998535,\n",
       "       208.83999634, 219.31999207, 229.79998779, 240.27999878,\n",
       "       250.75999451, 261.23999023])"
      ]
     },
     "execution_count": 16,
     "metadata": {},
     "output_type": "execute_result"
    }
   ],
   "source": [
    "np.unique(np.hstack(a.reduced_z.values))"
   ]
  },
  {
   "cell_type": "code",
   "execution_count": 1,
   "id": "7a5e0269",
   "metadata": {},
   "outputs": [
    {
     "ename": "NameError",
     "evalue": "name 'np' is not defined",
     "output_type": "error",
     "traceback": [
      "\u001b[0;31m---------------------------------------------------------------------------\u001b[0m",
      "\u001b[0;31mNameError\u001b[0m                                 Traceback (most recent call last)",
      "\u001b[0;32m<ipython-input-1-f7d5a5061e02>\u001b[0m in \u001b[0;36m<module>\u001b[0;34m\u001b[0m\n\u001b[0;32m----> 1\u001b[0;31m \u001b[0mnp\u001b[0m\u001b[0;34m.\u001b[0m\u001b[0munique\u001b[0m\u001b[0;34m(\u001b[0m\u001b[0mnp\u001b[0m\u001b[0;34m.\u001b[0m\u001b[0mhstack\u001b[0m\u001b[0;34m(\u001b[0m\u001b[0ma\u001b[0m\u001b[0;34m.\u001b[0m\u001b[0mreduced_z\u001b[0m\u001b[0;34m.\u001b[0m\u001b[0mvalues\u001b[0m\u001b[0;34m)\u001b[0m\u001b[0;34m)\u001b[0m\u001b[0;34m\u001b[0m\u001b[0;34m\u001b[0m\u001b[0m\n\u001b[0m",
      "\u001b[0;31mNameError\u001b[0m: name 'np' is not defined"
     ]
    }
   ],
   "source": [
    "np.unique(np.hstack(a.reduced_z.values))"
   ]
  },
  {
   "cell_type": "code",
   "execution_count": null,
   "id": "d9ab056e",
   "metadata": {},
   "outputs": [],
   "source": []
  }
 ],
 "metadata": {
  "kernelspec": {
   "display_name": "Python 3",
   "language": "python",
   "name": "python3"
  },
  "language_info": {
   "codemirror_mode": {
    "name": "ipython",
    "version": 3
   },
   "file_extension": ".py",
   "mimetype": "text/x-python",
   "name": "python",
   "nbconvert_exporter": "python",
   "pygments_lexer": "ipython3",
   "version": "3.7.6"
  }
 },
 "nbformat": 4,
 "nbformat_minor": 5
}
